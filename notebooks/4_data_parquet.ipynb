{
 "cells": [
  {
   "cell_type": "markdown",
   "id": "TDP0sqtKUtOO",
   "metadata": {
    "id": "TDP0sqtKUtOO"
   },
   "source": [
    "# Ambiente"
   ]
  },
  {
   "cell_type": "markdown",
   "id": "Y6wd-7IfHg-4",
   "metadata": {
    "id": "Y6wd-7IfHg-4"
   },
   "source": [
    "### Instalar librerías y reiniciar kernel."
   ]
  },
  {
   "cell_type": "code",
   "execution_count": 1,
   "id": "47mj6l5YHlFT",
   "metadata": {
    "colab": {
     "base_uri": "https://localhost:8080/"
    },
    "id": "47mj6l5YHlFT",
    "outputId": "eb9b32f9-2d8e-4a66-f2e0-dd3346b2a930"
   },
   "outputs": [
    {
     "name": "stdout",
     "output_type": "stream",
     "text": [
      "Requirement already satisfied: mysql-connector in /opt/conda/lib/python3.8/site-packages (2.2.9)\n",
      "Note: you may need to restart the kernel to use updated packages.\n"
     ]
    }
   ],
   "source": [
    "pip install mysql-connector"
   ]
  },
  {
   "cell_type": "code",
   "execution_count": 2,
   "id": "x-kHLt0DHmEG",
   "metadata": {
    "colab": {
     "base_uri": "https://localhost:8080/"
    },
    "id": "x-kHLt0DHmEG",
    "outputId": "ffd1e06e-e17d-4cb5-cd90-224e7e9fb7a5"
   },
   "outputs": [
    {
     "name": "stdout",
     "output_type": "stream",
     "text": [
      "Collecting pandas\n",
      "  Downloading pandas-1.2.1-cp38-cp38-manylinux1_x86_64.whl (9.7 MB)\n",
      "\u001b[K     |████████████████████████████████| 9.7 MB 2.3 MB/s eta 0:00:01\n",
      "\u001b[?25hRequirement already satisfied: pytz>=2017.3 in /opt/conda/lib/python3.8/site-packages (from pandas) (2020.5)\n",
      "Requirement already satisfied: python-dateutil>=2.7.3 in /opt/conda/lib/python3.8/site-packages (from pandas) (2.8.1)\n",
      "Collecting numpy>=1.16.5\n",
      "  Downloading numpy-1.20.0-cp38-cp38-manylinux2010_x86_64.whl (15.4 MB)\n",
      "\u001b[K     |████████████████████████████████| 15.4 MB 2.4 MB/s eta 0:00:01\n",
      "\u001b[?25hRequirement already satisfied: six>=1.5 in /opt/conda/lib/python3.8/site-packages (from python-dateutil>=2.7.3->pandas) (1.15.0)\n",
      "Installing collected packages: numpy, pandas\n",
      "Successfully installed numpy-1.20.0 pandas-1.2.1\n",
      "Note: you may need to restart the kernel to use updated packages.\n"
     ]
    }
   ],
   "source": [
    "pip install pandas"
   ]
  },
  {
   "cell_type": "code",
   "execution_count": 3,
   "id": "iUVmWNyBU-_J",
   "metadata": {
    "colab": {
     "base_uri": "https://localhost:8080/"
    },
    "id": "iUVmWNyBU-_J",
    "outputId": "9919c70d-4a9d-4820-ad7c-034fa141cda6"
   },
   "outputs": [
    {
     "name": "stdout",
     "output_type": "stream",
     "text": [
      "Collecting pyarrow\n",
      "  Downloading pyarrow-3.0.0-cp38-cp38-manylinux2014_x86_64.whl (20.7 MB)\n",
      "\u001b[K     |████████████████████████████████| 20.7 MB 6.7 MB/s eta 0:00:01\n",
      "\u001b[?25hRequirement already satisfied: numpy>=1.16.6 in /opt/conda/lib/python3.8/site-packages (from pyarrow) (1.20.0)\n",
      "Installing collected packages: pyarrow\n",
      "Successfully installed pyarrow-3.0.0\n",
      "Note: you may need to restart the kernel to use updated packages.\n"
     ]
    }
   ],
   "source": [
    "pip install pyarrow"
   ]
  },
  {
   "cell_type": "markdown",
   "id": "phKYfMfwImLT",
   "metadata": {
    "id": "phKYfMfwImLT"
   },
   "source": [
    "### Importaciones"
   ]
  },
  {
   "cell_type": "code",
   "execution_count": 1,
   "id": "kNBCXZvvIovd",
   "metadata": {
    "id": "kNBCXZvvIovd"
   },
   "outputs": [],
   "source": [
    "import pandas as pd\n",
    "from sqlalchemy import create_engine\n",
    "from sqlalchemy import inspect\n",
    "from sqlalchemy import *\n",
    "#import json\n",
    "#import pyarrow.parquet as pq\n",
    "#import pyarrow"
   ]
  },
  {
   "cell_type": "markdown",
   "id": "A1xr5LeiIA-s",
   "metadata": {
    "id": "A1xr5LeiIA-s"
   },
   "source": [
    "### Crear acceso a engine de mysql e inspeccionar."
   ]
  },
  {
   "cell_type": "code",
   "execution_count": 2,
   "id": "6NsxGlltIbLG",
   "metadata": {
    "id": "6NsxGlltIbLG"
   },
   "outputs": [],
   "source": [
    "engine = create_engine('mysql+mysqlconnector://test:test123@db/test', echo = True)"
   ]
  },
  {
   "cell_type": "code",
   "execution_count": 3,
   "id": "HA5jy_jMIulx",
   "metadata": {
    "id": "HA5jy_jMIulx"
   },
   "outputs": [
    {
     "name": "stdout",
     "output_type": "stream",
     "text": [
      "2021-02-04 06:22:54,079 INFO sqlalchemy.engine.base.Engine SHOW VARIABLES LIKE 'sql_mode'\n",
      "2021-02-04 06:22:54,084 INFO sqlalchemy.engine.base.Engine {}\n",
      "2021-02-04 06:22:54,096 INFO sqlalchemy.engine.base.Engine SHOW VARIABLES LIKE 'lower_case_table_names'\n",
      "2021-02-04 06:22:54,101 INFO sqlalchemy.engine.base.Engine {}\n",
      "2021-02-04 06:22:54,114 INFO sqlalchemy.engine.base.Engine SELECT DATABASE()\n",
      "2021-02-04 06:22:54,117 INFO sqlalchemy.engine.base.Engine {}\n",
      "2021-02-04 06:22:54,129 INFO sqlalchemy.engine.base.Engine SELECT CAST('test plain returns' AS CHAR(60)) AS anon_1\n",
      "2021-02-04 06:22:54,134 INFO sqlalchemy.engine.base.Engine {}\n",
      "2021-02-04 06:22:54,146 INFO sqlalchemy.engine.base.Engine SELECT CAST('test unicode returns' AS CHAR(60)) AS anon_1\n",
      "2021-02-04 06:22:54,150 INFO sqlalchemy.engine.base.Engine {}\n",
      "2021-02-04 06:22:54,162 INFO sqlalchemy.engine.base.Engine DESCRIBE `select current_date`\n",
      "2021-02-04 06:22:54,167 INFO sqlalchemy.engine.base.Engine {}\n",
      "2021-02-04 06:22:54,183 INFO sqlalchemy.engine.base.Engine ROLLBACK\n",
      "2021-02-04 06:22:54,191 INFO sqlalchemy.engine.base.OptionEngine select current_date\n",
      "2021-02-04 06:22:54,193 INFO sqlalchemy.engine.base.OptionEngine {}\n"
     ]
    },
    {
     "data": {
      "text/html": [
       "<div>\n",
       "<style scoped>\n",
       "    .dataframe tbody tr th:only-of-type {\n",
       "        vertical-align: middle;\n",
       "    }\n",
       "\n",
       "    .dataframe tbody tr th {\n",
       "        vertical-align: top;\n",
       "    }\n",
       "\n",
       "    .dataframe thead th {\n",
       "        text-align: right;\n",
       "    }\n",
       "</style>\n",
       "<table border=\"1\" class=\"dataframe\">\n",
       "  <thead>\n",
       "    <tr style=\"text-align: right;\">\n",
       "      <th></th>\n",
       "      <th>current_date</th>\n",
       "    </tr>\n",
       "  </thead>\n",
       "  <tbody>\n",
       "    <tr>\n",
       "      <th>0</th>\n",
       "      <td>2021-02-04</td>\n",
       "    </tr>\n",
       "  </tbody>\n",
       "</table>\n",
       "</div>"
      ],
      "text/plain": [
       "  current_date\n",
       "0   2021-02-04"
      ]
     },
     "execution_count": 3,
     "metadata": {},
     "output_type": "execute_result"
    }
   ],
   "source": [
    "pd.read_sql(\"select current_date\", con=engine)"
   ]
  },
  {
   "cell_type": "code",
   "execution_count": 4,
   "id": "mZSrAD97JEaE",
   "metadata": {
    "id": "mZSrAD97JEaE"
   },
   "outputs": [
    {
     "name": "stdout",
     "output_type": "stream",
     "text": [
      "2021-02-04 06:22:57,882 INFO sqlalchemy.engine.base.Engine SHOW schemas\n",
      "2021-02-04 06:22:57,884 INFO sqlalchemy.engine.base.Engine {}\n",
      "schema: information_schema\n",
      "2021-02-04 06:22:57,891 INFO sqlalchemy.engine.base.Engine SHOW FULL TABLES FROM `information_schema`\n",
      "2021-02-04 06:22:57,893 INFO sqlalchemy.engine.base.Engine {}\n",
      "schema: test\n",
      "2021-02-04 06:22:57,904 INFO sqlalchemy.engine.base.Engine SHOW FULL TABLES FROM `test`\n",
      "2021-02-04 06:22:57,906 INFO sqlalchemy.engine.base.Engine {}\n"
     ]
    }
   ],
   "source": [
    "inspector = inspect(engine)\n",
    "schemas = inspector.get_schema_names()\n",
    "\n",
    "for schema in schemas:\n",
    "    print(\"schema: %s\" % schema)\n",
    "    for table_name in inspector.get_table_names(schema=schema):\n",
    "        for column in inspector.get_columns(table_name, schema=schema):\n",
    "            print(\"Column: %s\" % column)"
   ]
  },
  {
   "cell_type": "code",
   "execution_count": 5,
   "id": "r-bAYn23JJe2",
   "metadata": {
    "id": "r-bAYn23JJe2"
   },
   "outputs": [
    {
     "name": "stdout",
     "output_type": "stream",
     "text": [
      "2021-02-04 06:23:01,017 INFO sqlalchemy.engine.base.Engine SHOW FULL TABLES FROM `test`\n",
      "2021-02-04 06:23:01,021 INFO sqlalchemy.engine.base.Engine {}\n",
      "[]\n"
     ]
    }
   ],
   "source": [
    "print(engine.table_names())"
   ]
  },
  {
   "cell_type": "markdown",
   "id": "BEWXcOH5I1sk",
   "metadata": {
    "id": "BEWXcOH5I1sk"
   },
   "source": [
    "# ETL 4"
   ]
  },
  {
   "cell_type": "markdown",
   "id": "WDkPQlR4I9r7",
   "metadata": {
    "id": "WDkPQlR4I9r7"
   },
   "source": [
    "## Extraer"
   ]
  },
  {
   "cell_type": "code",
   "execution_count": null,
   "id": "inclusive-register",
   "metadata": {
    "id": "inclusive-register"
   },
   "outputs": [],
   "source": [
    "#table = pq.read_table('data.parquet')\n",
    "#table.to_pandas()"
   ]
  },
  {
   "cell_type": "code",
   "execution_count": null,
   "id": "sccXHmiQXX3H",
   "metadata": {
    "id": "sccXHmiQXX3H"
   },
   "outputs": [],
   "source": [
    "df = pd.read_parquet('data.parquet')"
   ]
  },
  {
   "cell_type": "code",
   "execution_count": null,
   "id": "978yjMOxNpwI",
   "metadata": {
    "colab": {
     "base_uri": "https://localhost:8080/"
    },
    "id": "978yjMOxNpwI",
    "outputId": "ae5c5134-34e8-4eb2-95e6-6628b262bac3"
   },
   "outputs": [],
   "source": [
    "df.dtypes"
   ]
  },
  {
   "cell_type": "markdown",
   "id": "EMLtWzXMKsSa",
   "metadata": {
    "id": "EMLtWzXMKsSa"
   },
   "source": [
    "## Transformar"
   ]
  },
  {
   "cell_type": "code",
   "execution_count": null,
   "id": "ZdwF8JnnP2fQ",
   "metadata": {
    "id": "ZdwF8JnnP2fQ"
   },
   "outputs": [],
   "source": [
    "u = df.select_dtypes(object)\n",
    "df[u.columns] = u.apply(\n",
    "    lambda x: x.str.encode('ascii', 'ignore').str.decode('ascii'))"
   ]
  },
  {
   "cell_type": "markdown",
   "id": "3XhQPHz-KyoY",
   "metadata": {
    "id": "3XhQPHz-KyoY"
   },
   "source": [
    "## Load al engine"
   ]
  },
  {
   "cell_type": "code",
   "execution_count": null,
   "id": "PnRh5HUgK3PK",
   "metadata": {
    "id": "PnRh5HUgK3PK"
   },
   "outputs": [],
   "source": [
    "create_table_query = pd.io.sql.get_schema(df.reset_index(), 'test.data_parquet', con=engine)\n",
    "print(create_table_query)\n",
    "type(create_table_query)"
   ]
  },
  {
   "cell_type": "code",
   "execution_count": null,
   "id": "4u7C41c0Lb-z",
   "metadata": {
    "id": "4u7C41c0Lb-z"
   },
   "outputs": [],
   "source": [
    "with open(\"data_parquet.sql\", \"w\") as text_file:\n",
    "    text_file.write(create_table_query)"
   ]
  },
  {
   "cell_type": "code",
   "execution_count": null,
   "id": "u4ZHRJO2Lnm0",
   "metadata": {
    "id": "u4ZHRJO2Lnm0"
   },
   "outputs": [],
   "source": [
    "if not engine.dialect.has_table(engine, \"test.data_parquet\"):  # If table don't exist, Create.\n",
    "    print(\"test.data_parquet no existe\")\n",
    "    df.to_sql('data_parquet', con=engine, schema=\"test\", if_exists='append')"
   ]
  },
  {
   "cell_type": "code",
   "execution_count": null,
   "id": "FusrPo94Lt74",
   "metadata": {
    "id": "FusrPo94Lt74"
   },
   "outputs": [],
   "source": [
    "with engine.begin() as transaction:\n",
    "    transaction.execute('DELETE FROM test.data_parquet')\n",
    "    df.to_sql('data_parquet', con=transaction, schema='test', if_exists='append', index=False)"
   ]
  }
 ],
 "metadata": {
  "colab": {
   "name": "4 data.parquet.ipynb",
   "provenance": [],
   "toc_visible": true
  },
  "kernelspec": {
   "display_name": "Python 3",
   "language": "python",
   "name": "python3"
  },
  "language_info": {
   "codemirror_mode": {
    "name": "ipython",
    "version": 3
   },
   "file_extension": ".py",
   "mimetype": "text/x-python",
   "name": "python",
   "nbconvert_exporter": "python",
   "pygments_lexer": "ipython3",
   "version": "3.8.6"
  }
 },
 "nbformat": 4,
 "nbformat_minor": 5
}
