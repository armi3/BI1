{
  "nbformat": 4,
  "nbformat_minor": 5,
  "metadata": {
    "kernelspec": {
      "display_name": "Python 3",
      "language": "python",
      "name": "python3"
    },
    "language_info": {
      "codemirror_mode": {
        "name": "ipython",
        "version": 3
      },
      "file_extension": ".py",
      "mimetype": "text/x-python",
      "name": "python",
      "nbconvert_exporter": "python",
      "pygments_lexer": "ipython3",
      "version": "3.8.6"
    },
    "colab": {
      "name": "1 vaccinations_per_country.ipynb",
      "provenance": [],
      "collapsed_sections": [
        "medieval-india",
        "fewer-comment"
      ]
    }
  },
  "cells": [
    {
      "cell_type": "markdown",
      "metadata": {
        "id": "medieval-india"
      },
      "source": [
        "### Instalar librerías y reiniciar kernel."
      ],
      "id": "medieval-india"
    },
    {
      "cell_type": "code",
      "metadata": {
        "id": "greenhouse-yukon"
      },
      "source": [
        "# pip install mysql-connector\n",
        "# pip install pandas"
      ],
      "id": "greenhouse-yukon",
      "execution_count": null,
      "outputs": []
    },
    {
      "cell_type": "markdown",
      "metadata": {
        "id": "fewer-comment"
      },
      "source": [
        "### Crear acceso a engine de mysql e inspeccionar."
      ],
      "id": "fewer-comment"
    },
    {
      "cell_type": "code",
      "metadata": {
        "id": "psychological-cleaner"
      },
      "source": [
        "from sqlalchemy import create_engine\n",
        "\n",
        "engine = create_engine('mysql+mysqlconnector://test:test123@db/test', echo = True)"
      ],
      "id": "psychological-cleaner",
      "execution_count": null,
      "outputs": []
    },
    {
      "cell_type": "code",
      "metadata": {
        "id": "american-crawford",
        "outputId": "31dd26b3-f912-42c8-b62d-ff204612e338"
      },
      "source": [
        "import pandas as pd\n",
        "\n",
        "pd.read_sql(\"select current_date\", con=engine)"
      ],
      "id": "american-crawford",
      "execution_count": null,
      "outputs": [
        {
          "output_type": "stream",
          "text": [
            "2021-02-03 03:00:53,473 INFO sqlalchemy.engine.base.Engine SHOW VARIABLES LIKE 'sql_mode'\n",
            "2021-02-03 03:00:53,475 INFO sqlalchemy.engine.base.Engine {}\n",
            "2021-02-03 03:00:53,481 INFO sqlalchemy.engine.base.Engine SHOW VARIABLES LIKE 'lower_case_table_names'\n",
            "2021-02-03 03:00:53,492 INFO sqlalchemy.engine.base.Engine {}\n",
            "2021-02-03 03:00:53,499 INFO sqlalchemy.engine.base.Engine SELECT DATABASE()\n",
            "2021-02-03 03:00:53,500 INFO sqlalchemy.engine.base.Engine {}\n",
            "2021-02-03 03:00:53,504 INFO sqlalchemy.engine.base.Engine SELECT CAST('test plain returns' AS CHAR(60)) AS anon_1\n",
            "2021-02-03 03:00:53,507 INFO sqlalchemy.engine.base.Engine {}\n",
            "2021-02-03 03:00:53,511 INFO sqlalchemy.engine.base.Engine SELECT CAST('test unicode returns' AS CHAR(60)) AS anon_1\n",
            "2021-02-03 03:00:53,512 INFO sqlalchemy.engine.base.Engine {}\n",
            "2021-02-03 03:00:53,516 INFO sqlalchemy.engine.base.Engine DESCRIBE `select current_date`\n",
            "2021-02-03 03:00:53,518 INFO sqlalchemy.engine.base.Engine {}\n",
            "2021-02-03 03:00:53,521 INFO sqlalchemy.engine.base.Engine ROLLBACK\n",
            "2021-02-03 03:00:53,524 INFO sqlalchemy.engine.base.OptionEngine select current_date\n",
            "2021-02-03 03:00:53,539 INFO sqlalchemy.engine.base.OptionEngine {}\n"
          ],
          "name": "stdout"
        },
        {
          "output_type": "execute_result",
          "data": {
            "text/html": [
              "<div>\n",
              "<style scoped>\n",
              "    .dataframe tbody tr th:only-of-type {\n",
              "        vertical-align: middle;\n",
              "    }\n",
              "\n",
              "    .dataframe tbody tr th {\n",
              "        vertical-align: top;\n",
              "    }\n",
              "\n",
              "    .dataframe thead th {\n",
              "        text-align: right;\n",
              "    }\n",
              "</style>\n",
              "<table border=\"1\" class=\"dataframe\">\n",
              "  <thead>\n",
              "    <tr style=\"text-align: right;\">\n",
              "      <th></th>\n",
              "      <th>current_date</th>\n",
              "    </tr>\n",
              "  </thead>\n",
              "  <tbody>\n",
              "    <tr>\n",
              "      <th>0</th>\n",
              "      <td>2021-02-03</td>\n",
              "    </tr>\n",
              "  </tbody>\n",
              "</table>\n",
              "</div>"
            ],
            "text/plain": [
              "  current_date\n",
              "0   2021-02-03"
            ]
          },
          "metadata": {
            "tags": []
          },
          "execution_count": 3
        }
      ]
    },
    {
      "cell_type": "code",
      "metadata": {
        "id": "painful-bottle",
        "outputId": "f10b7858-1603-4dc6-e69d-2d266eecb1f8"
      },
      "source": [
        "from sqlalchemy import inspect\n",
        "inspector = inspect(engine)\n",
        "schemas = inspector.get_schema_names()\n",
        "\n",
        "for schema in schemas:\n",
        "    print(\"schema: %s\" % schema)\n",
        "    for table_name in inspector.get_table_names(schema=schema):\n",
        "        for column in inspector.get_columns(table_name, schema=schema):\n",
        "            print(\"Column: %s\" % column)"
      ],
      "id": "painful-bottle",
      "execution_count": null,
      "outputs": [
        {
          "output_type": "stream",
          "text": [
            "2021-02-03 03:07:09,736 INFO sqlalchemy.engine.base.Engine SHOW schemas\n",
            "2021-02-03 03:07:09,737 INFO sqlalchemy.engine.base.Engine {}\n",
            "schema: information_schema\n",
            "2021-02-03 03:07:09,741 INFO sqlalchemy.engine.base.Engine SHOW FULL TABLES FROM `information_schema`\n",
            "2021-02-03 03:07:09,742 INFO sqlalchemy.engine.base.Engine {}\n",
            "schema: test\n",
            "2021-02-03 03:07:09,753 INFO sqlalchemy.engine.base.Engine SHOW FULL TABLES FROM `test`\n",
            "2021-02-03 03:07:09,755 INFO sqlalchemy.engine.base.Engine {}\n",
            "2021-02-03 03:07:09,759 INFO sqlalchemy.engine.base.OptionEngine SHOW CREATE TABLE `test`.`vaccinations_per_country`\n",
            "2021-02-03 03:07:09,761 INFO sqlalchemy.engine.base.OptionEngine {}\n",
            "Column: {'name': 'index', 'type': BIGINT(display_width=20), 'default': None, 'comment': None, 'nullable': True, 'autoincrement': False}\n",
            "Column: {'name': 'country', 'type': TEXT(), 'default': None, 'comment': None, 'nullable': True}\n",
            "Column: {'name': 'iso_code', 'type': TEXT(), 'default': None, 'comment': None, 'nullable': True}\n",
            "Column: {'name': 'date', 'type': TEXT(), 'default': None, 'comment': None, 'nullable': True}\n",
            "Column: {'name': 'total_vaccinations', 'type': BIGINT(display_width=20), 'default': None, 'comment': None, 'nullable': True, 'autoincrement': False}\n",
            "Column: {'name': 'people_vaccinated', 'type': BIGINT(display_width=20), 'default': None, 'comment': None, 'nullable': True, 'autoincrement': False}\n",
            "Column: {'name': 'people_fully_vaccinated', 'type': BIGINT(display_width=20), 'default': None, 'comment': None, 'nullable': True, 'autoincrement': False}\n",
            "Column: {'name': 'daily_vaccinations_raw', 'type': DOUBLE(asdecimal=True), 'default': None, 'comment': None, 'nullable': True}\n",
            "Column: {'name': 'daily_vaccinations', 'type': BIGINT(display_width=20), 'default': None, 'comment': None, 'nullable': True, 'autoincrement': False}\n",
            "Column: {'name': 'total_vaccinations_per_hundred', 'type': DOUBLE(asdecimal=True), 'default': None, 'comment': None, 'nullable': True}\n",
            "Column: {'name': 'people_vaccinated_per_hundred', 'type': DOUBLE(asdecimal=True), 'default': None, 'comment': None, 'nullable': True}\n",
            "Column: {'name': 'people_fully_vaccinated_per_hundred', 'type': DOUBLE(asdecimal=True), 'default': None, 'comment': None, 'nullable': True}\n",
            "Column: {'name': 'daily_vaccinations_per_million', 'type': BIGINT(display_width=20), 'default': None, 'comment': None, 'nullable': True, 'autoincrement': False}\n",
            "Column: {'name': 'vaccines', 'type': TEXT(), 'default': None, 'comment': None, 'nullable': True}\n",
            "Column: {'name': 'source_name', 'type': TEXT(), 'default': None, 'comment': None, 'nullable': True}\n",
            "Column: {'name': 'source_website', 'type': TEXT(), 'default': None, 'comment': None, 'nullable': True}\n"
          ],
          "name": "stdout"
        }
      ]
    },
    {
      "cell_type": "code",
      "metadata": {
        "id": "homeless-possible",
        "outputId": "2d4de6bd-716e-4cb8-8816-41cc2970c834"
      },
      "source": [
        "print(engine.table_names())"
      ],
      "id": "homeless-possible",
      "execution_count": null,
      "outputs": [
        {
          "output_type": "stream",
          "text": [
            "2021-02-03 03:06:58,013 INFO sqlalchemy.engine.base.Engine SHOW FULL TABLES FROM `test`\n",
            "2021-02-03 03:06:58,015 INFO sqlalchemy.engine.base.Engine {}\n",
            "['vaccinations_per_country']\n"
          ],
          "name": "stdout"
        }
      ]
    },
    {
      "cell_type": "markdown",
      "metadata": {
        "id": "fluid-increase"
      },
      "source": [
        "# ETL 1"
      ],
      "id": "fluid-increase"
    },
    {
      "cell_type": "markdown",
      "metadata": {
        "id": "magnetic-trunk"
      },
      "source": [
        "### Extraer data del source y explorar."
      ],
      "id": "magnetic-trunk"
    },
    {
      "cell_type": "code",
      "metadata": {
        "id": "packed-ranking",
        "outputId": "d57566f1-f91e-43d1-dd01-5446494077a1"
      },
      "source": [
        "df = pd.read_csv('country_vaccinations.csv', \n",
        "                 dtype={\"total_vaccinations\": \"Int64\", \n",
        "                        \"people_vaccinated\": \"Int64\", \n",
        "                        \"people_fully_vaccinated\": \"Int64\", \n",
        "                        \"daily_vaccinations\": \"Int64\", \n",
        "                        \"daily_vaccinations_per_million\": \"Int64\"}, encoding='utf-8')\n",
        "df.head()"
      ],
      "id": "packed-ranking",
      "execution_count": null,
      "outputs": [
        {
          "output_type": "execute_result",
          "data": {
            "text/html": [
              "<div>\n",
              "<style scoped>\n",
              "    .dataframe tbody tr th:only-of-type {\n",
              "        vertical-align: middle;\n",
              "    }\n",
              "\n",
              "    .dataframe tbody tr th {\n",
              "        vertical-align: top;\n",
              "    }\n",
              "\n",
              "    .dataframe thead th {\n",
              "        text-align: right;\n",
              "    }\n",
              "</style>\n",
              "<table border=\"1\" class=\"dataframe\">\n",
              "  <thead>\n",
              "    <tr style=\"text-align: right;\">\n",
              "      <th></th>\n",
              "      <th>country</th>\n",
              "      <th>iso_code</th>\n",
              "      <th>date</th>\n",
              "      <th>total_vaccinations</th>\n",
              "      <th>people_vaccinated</th>\n",
              "      <th>people_fully_vaccinated</th>\n",
              "      <th>daily_vaccinations_raw</th>\n",
              "      <th>daily_vaccinations</th>\n",
              "      <th>total_vaccinations_per_hundred</th>\n",
              "      <th>people_vaccinated_per_hundred</th>\n",
              "      <th>people_fully_vaccinated_per_hundred</th>\n",
              "      <th>daily_vaccinations_per_million</th>\n",
              "      <th>vaccines</th>\n",
              "      <th>source_name</th>\n",
              "      <th>source_website</th>\n",
              "    </tr>\n",
              "  </thead>\n",
              "  <tbody>\n",
              "    <tr>\n",
              "      <th>0</th>\n",
              "      <td>Argentina</td>\n",
              "      <td>ARG</td>\n",
              "      <td>2020-12-29</td>\n",
              "      <td>700</td>\n",
              "      <td>&lt;NA&gt;</td>\n",
              "      <td>&lt;NA&gt;</td>\n",
              "      <td>NaN</td>\n",
              "      <td>&lt;NA&gt;</td>\n",
              "      <td>0.00</td>\n",
              "      <td>NaN</td>\n",
              "      <td>NaN</td>\n",
              "      <td>&lt;NA&gt;</td>\n",
              "      <td>Sputnik V</td>\n",
              "      <td>Ministry of Health</td>\n",
              "      <td>http://datos.salud.gob.ar/dataset/vacunas-cont...</td>\n",
              "    </tr>\n",
              "    <tr>\n",
              "      <th>1</th>\n",
              "      <td>Argentina</td>\n",
              "      <td>ARG</td>\n",
              "      <td>2020-12-30</td>\n",
              "      <td>&lt;NA&gt;</td>\n",
              "      <td>&lt;NA&gt;</td>\n",
              "      <td>&lt;NA&gt;</td>\n",
              "      <td>NaN</td>\n",
              "      <td>15656</td>\n",
              "      <td>NaN</td>\n",
              "      <td>NaN</td>\n",
              "      <td>NaN</td>\n",
              "      <td>346</td>\n",
              "      <td>Sputnik V</td>\n",
              "      <td>Ministry of Health</td>\n",
              "      <td>http://datos.salud.gob.ar/dataset/vacunas-cont...</td>\n",
              "    </tr>\n",
              "    <tr>\n",
              "      <th>2</th>\n",
              "      <td>Argentina</td>\n",
              "      <td>ARG</td>\n",
              "      <td>2020-12-31</td>\n",
              "      <td>32013</td>\n",
              "      <td>&lt;NA&gt;</td>\n",
              "      <td>&lt;NA&gt;</td>\n",
              "      <td>NaN</td>\n",
              "      <td>15656</td>\n",
              "      <td>0.07</td>\n",
              "      <td>NaN</td>\n",
              "      <td>NaN</td>\n",
              "      <td>346</td>\n",
              "      <td>Sputnik V</td>\n",
              "      <td>Ministry of Health</td>\n",
              "      <td>http://datos.salud.gob.ar/dataset/vacunas-cont...</td>\n",
              "    </tr>\n",
              "    <tr>\n",
              "      <th>3</th>\n",
              "      <td>Argentina</td>\n",
              "      <td>ARG</td>\n",
              "      <td>2021-01-01</td>\n",
              "      <td>&lt;NA&gt;</td>\n",
              "      <td>&lt;NA&gt;</td>\n",
              "      <td>&lt;NA&gt;</td>\n",
              "      <td>NaN</td>\n",
              "      <td>11070</td>\n",
              "      <td>NaN</td>\n",
              "      <td>NaN</td>\n",
              "      <td>NaN</td>\n",
              "      <td>245</td>\n",
              "      <td>Sputnik V</td>\n",
              "      <td>Ministry of Health</td>\n",
              "      <td>http://datos.salud.gob.ar/dataset/vacunas-cont...</td>\n",
              "    </tr>\n",
              "    <tr>\n",
              "      <th>4</th>\n",
              "      <td>Argentina</td>\n",
              "      <td>ARG</td>\n",
              "      <td>2021-01-02</td>\n",
              "      <td>&lt;NA&gt;</td>\n",
              "      <td>&lt;NA&gt;</td>\n",
              "      <td>&lt;NA&gt;</td>\n",
              "      <td>NaN</td>\n",
              "      <td>8776</td>\n",
              "      <td>NaN</td>\n",
              "      <td>NaN</td>\n",
              "      <td>NaN</td>\n",
              "      <td>194</td>\n",
              "      <td>Sputnik V</td>\n",
              "      <td>Ministry of Health</td>\n",
              "      <td>http://datos.salud.gob.ar/dataset/vacunas-cont...</td>\n",
              "    </tr>\n",
              "  </tbody>\n",
              "</table>\n",
              "</div>"
            ],
            "text/plain": [
              "     country iso_code        date  total_vaccinations  people_vaccinated  \\\n",
              "0  Argentina      ARG  2020-12-29                 700               <NA>   \n",
              "1  Argentina      ARG  2020-12-30                <NA>               <NA>   \n",
              "2  Argentina      ARG  2020-12-31               32013               <NA>   \n",
              "3  Argentina      ARG  2021-01-01                <NA>               <NA>   \n",
              "4  Argentina      ARG  2021-01-02                <NA>               <NA>   \n",
              "\n",
              "   people_fully_vaccinated  daily_vaccinations_raw  daily_vaccinations  \\\n",
              "0                     <NA>                     NaN                <NA>   \n",
              "1                     <NA>                     NaN               15656   \n",
              "2                     <NA>                     NaN               15656   \n",
              "3                     <NA>                     NaN               11070   \n",
              "4                     <NA>                     NaN                8776   \n",
              "\n",
              "   total_vaccinations_per_hundred  people_vaccinated_per_hundred  \\\n",
              "0                            0.00                            NaN   \n",
              "1                             NaN                            NaN   \n",
              "2                            0.07                            NaN   \n",
              "3                             NaN                            NaN   \n",
              "4                             NaN                            NaN   \n",
              "\n",
              "   people_fully_vaccinated_per_hundred  daily_vaccinations_per_million  \\\n",
              "0                                  NaN                            <NA>   \n",
              "1                                  NaN                             346   \n",
              "2                                  NaN                             346   \n",
              "3                                  NaN                             245   \n",
              "4                                  NaN                             194   \n",
              "\n",
              "    vaccines         source_name  \\\n",
              "0  Sputnik V  Ministry of Health   \n",
              "1  Sputnik V  Ministry of Health   \n",
              "2  Sputnik V  Ministry of Health   \n",
              "3  Sputnik V  Ministry of Health   \n",
              "4  Sputnik V  Ministry of Health   \n",
              "\n",
              "                                      source_website  \n",
              "0  http://datos.salud.gob.ar/dataset/vacunas-cont...  \n",
              "1  http://datos.salud.gob.ar/dataset/vacunas-cont...  \n",
              "2  http://datos.salud.gob.ar/dataset/vacunas-cont...  \n",
              "3  http://datos.salud.gob.ar/dataset/vacunas-cont...  \n",
              "4  http://datos.salud.gob.ar/dataset/vacunas-cont...  "
            ]
          },
          "metadata": {
            "tags": []
          },
          "execution_count": 7
        }
      ]
    },
    {
      "cell_type": "code",
      "metadata": {
        "scrolled": true,
        "id": "republican-plaintiff",
        "outputId": "275069f9-1de2-4707-c791-902b843bff46"
      },
      "source": [
        "df.loc[df.source_website == 'Kuwait', ['source_website']]\n",
        "df.dtypes"
      ],
      "id": "republican-plaintiff",
      "execution_count": null,
      "outputs": [
        {
          "output_type": "execute_result",
          "data": {
            "text/plain": [
              "country                                 object\n",
              "iso_code                                object\n",
              "date                                    object\n",
              "total_vaccinations                       Int64\n",
              "people_vaccinated                        Int64\n",
              "people_fully_vaccinated                  Int64\n",
              "daily_vaccinations_raw                 float64\n",
              "daily_vaccinations                       Int64\n",
              "total_vaccinations_per_hundred         float64\n",
              "people_vaccinated_per_hundred          float64\n",
              "people_fully_vaccinated_per_hundred    float64\n",
              "daily_vaccinations_per_million           Int64\n",
              "vaccines                                object\n",
              "source_name                             object\n",
              "source_website                          object\n",
              "dtype: object"
            ]
          },
          "metadata": {
            "tags": []
          },
          "execution_count": 8
        }
      ]
    },
    {
      "cell_type": "markdown",
      "metadata": {
        "id": "played-institution"
      },
      "source": [
        "### Transformar antes de almacenar en mysql."
      ],
      "id": "played-institution"
    },
    {
      "cell_type": "code",
      "metadata": {
        "id": "corporate-voltage"
      },
      "source": [
        "u = df.select_dtypes(object)\n",
        "df[u.columns] = u.apply(\n",
        "    lambda x: x.str.encode('ascii', 'ignore').str.decode('ascii'))"
      ],
      "id": "corporate-voltage",
      "execution_count": null,
      "outputs": []
    },
    {
      "cell_type": "markdown",
      "metadata": {
        "id": "coupled-bulgaria"
      },
      "source": [
        "### Load data transformada a mysql."
      ],
      "id": "coupled-bulgaria"
    },
    {
      "cell_type": "code",
      "metadata": {
        "id": "fancy-reception",
        "outputId": "177dbad1-aba1-49fd-9490-79ac49ee0b5c"
      },
      "source": [
        "create_table_query = pd.io.sql.get_schema(df.reset_index(), 'test.vaccinations_per_country', con=engine)\n",
        "print(create_table_query)\n",
        "type(create_table_query)"
      ],
      "id": "fancy-reception",
      "execution_count": null,
      "outputs": [
        {
          "output_type": "stream",
          "text": [
            "\n",
            "CREATE TABLE `test.vaccinations_per_country` (\n",
            "\t`index` BIGINT, \n",
            "\tcountry TEXT, \n",
            "\tiso_code TEXT, \n",
            "\tdate TEXT, \n",
            "\ttotal_vaccinations BIGINT, \n",
            "\tpeople_vaccinated BIGINT, \n",
            "\tpeople_fully_vaccinated BIGINT, \n",
            "\tdaily_vaccinations_raw FLOAT(53), \n",
            "\tdaily_vaccinations BIGINT, \n",
            "\ttotal_vaccinations_per_hundred FLOAT(53), \n",
            "\tpeople_vaccinated_per_hundred FLOAT(53), \n",
            "\tpeople_fully_vaccinated_per_hundred FLOAT(53), \n",
            "\tdaily_vaccinations_per_million BIGINT, \n",
            "\tvaccines TEXT, \n",
            "\tsource_name TEXT, \n",
            "\tsource_website TEXT\n",
            ")\n",
            "\n",
            "\n"
          ],
          "name": "stdout"
        },
        {
          "output_type": "execute_result",
          "data": {
            "text/plain": [
              "str"
            ]
          },
          "metadata": {
            "tags": []
          },
          "execution_count": 13
        }
      ]
    },
    {
      "cell_type": "code",
      "metadata": {
        "id": "invisible-scenario"
      },
      "source": [
        "with open(\"init.sql\", \"a\") as text_file:\n",
        "    text_file.write(\"\\n\" + create_table_query)\n",
        "    \n",
        "with open(\"vaccinations_per_country.sql\", \"w\") as text_file:\n",
        "    text_file.write(create_table_query)"
      ],
      "id": "invisible-scenario",
      "execution_count": null,
      "outputs": []
    },
    {
      "cell_type": "code",
      "metadata": {
        "id": "cooperative-somerset",
        "outputId": "45b67edf-7263-433b-945f-8ad1c579d327"
      },
      "source": [
        "from sqlalchemy import *\n",
        "\n",
        "if not engine.dialect.has_table(engine, \"test.vaccinations_per_country\"):  # If table don't exist, Create.\n",
        "    print(\"test.vaccinations_per_country no existe\")\n",
        "    #metadata = MetaData(engine)\n",
        "    # Create a table with the appropriate Columns\n",
        "    df.to_sql('vaccinations_per_country', con=engine, schema=\"test\", if_exists='append')\n",
        "    # Implement the creation\n",
        "    #metadata.create_all()"
      ],
      "id": "cooperative-somerset",
      "execution_count": null,
      "outputs": [
        {
          "output_type": "stream",
          "text": [
            "2021-02-03 03:05:51,445 INFO sqlalchemy.engine.base.OptionEngine DESCRIBE `test.vaccinations_per_country`\n",
            "2021-02-03 03:05:51,448 INFO sqlalchemy.engine.base.OptionEngine {}\n",
            "2021-02-03 03:05:51,451 INFO sqlalchemy.engine.base.OptionEngine ROLLBACK\n",
            "test.vaccinations_per_country no existe\n",
            "2021-02-03 03:05:51,465 INFO sqlalchemy.engine.base.Engine DESCRIBE `test`.`vaccinations_per_country`\n",
            "2021-02-03 03:05:51,466 INFO sqlalchemy.engine.base.Engine {}\n",
            "2021-02-03 03:05:51,478 INFO sqlalchemy.engine.base.Engine BEGIN (implicit)\n",
            "2021-02-03 03:05:51,531 INFO sqlalchemy.engine.base.Engine INSERT INTO test.vaccinations_per_country (`index`, country, iso_code, date, total_vaccinations, people_vaccinated, people_fully_vaccinated, daily_vaccinations_raw, daily_vaccinations, total_vaccinations_per_hundred, people_vaccinated_per_hundred, people_fully_vaccinated_per_hundred, daily_vaccinations_per_million, vaccines, source_name, source_website) VALUES (%(index)s, %(country)s, %(iso_code)s, %(date)s, %(total_vaccinations)s, %(people_vaccinated)s, %(people_fully_vaccinated)s, %(daily_vaccinations_raw)s, %(daily_vaccinations)s, %(total_vaccinations_per_hundred)s, %(people_vaccinated_per_hundred)s, %(people_fully_vaccinated_per_hundred)s, %(daily_vaccinations_per_million)s, %(vaccines)s, %(source_name)s, %(source_website)s)\n",
            "2021-02-03 03:05:51,533 INFO sqlalchemy.engine.base.Engine ({'index': 0, 'country': 'Argentina', 'iso_code': 'ARG', 'date': '2020-12-29', 'total_vaccinations': 700, 'people_vaccinated': None, 'people_fully_vaccinated': None, 'daily_vaccinations_raw': None, 'daily_vaccinations': None, 'total_vaccinations_per_hundred': 0.0, 'people_vaccinated_per_hundred': None, 'people_fully_vaccinated_per_hundred': None, 'daily_vaccinations_per_million': None, 'vaccines': 'Sputnik V', 'source_name': 'Ministry of Health', 'source_website': 'http://datos.salud.gob.ar/dataset/vacunas-contra-covid-19-dosis-aplicadas-en-la-republica-argentina'}, {'index': 1, 'country': 'Argentina', 'iso_code': 'ARG', 'date': '2020-12-30', 'total_vaccinations': None, 'people_vaccinated': None, 'people_fully_vaccinated': None, 'daily_vaccinations_raw': None, 'daily_vaccinations': 15656, 'total_vaccinations_per_hundred': None, 'people_vaccinated_per_hundred': None, 'people_fully_vaccinated_per_hundred': None, 'daily_vaccinations_per_million': 346, 'vaccines': 'Sputnik V', 'source_name': 'Ministry of Health', 'source_website': 'http://datos.salud.gob.ar/dataset/vacunas-contra-covid-19-dosis-aplicadas-en-la-republica-argentina'}, {'index': 2, 'country': 'Argentina', 'iso_code': 'ARG', 'date': '2020-12-31', 'total_vaccinations': 32013, 'people_vaccinated': None, 'people_fully_vaccinated': None, 'daily_vaccinations_raw': None, 'daily_vaccinations': 15656, 'total_vaccinations_per_hundred': 0.07, 'people_vaccinated_per_hundred': None, 'people_fully_vaccinated_per_hundred': None, 'daily_vaccinations_per_million': 346, 'vaccines': 'Sputnik V', 'source_name': 'Ministry of Health', 'source_website': 'http://datos.salud.gob.ar/dataset/vacunas-contra-covid-19-dosis-aplicadas-en-la-republica-argentina'}, {'index': 3, 'country': 'Argentina', 'iso_code': 'ARG', 'date': '2021-01-01', 'total_vaccinations': None, 'people_vaccinated': None, 'people_fully_vaccinated': None, 'daily_vaccinations_raw': None, 'daily_vaccinations': 11070, 'total_vaccinations_per_hundred': None, 'people_vaccinated_per_hundred': None, 'people_fully_vaccinated_per_hundred': None, 'daily_vaccinations_per_million': 245, 'vaccines': 'Sputnik V', 'source_name': 'Ministry of Health', 'source_website': 'http://datos.salud.gob.ar/dataset/vacunas-contra-covid-19-dosis-aplicadas-en-la-republica-argentina'}, {'index': 4, 'country': 'Argentina', 'iso_code': 'ARG', 'date': '2021-01-02', 'total_vaccinations': None, 'people_vaccinated': None, 'people_fully_vaccinated': None, 'daily_vaccinations_raw': None, 'daily_vaccinations': 8776, 'total_vaccinations_per_hundred': None, 'people_vaccinated_per_hundred': None, 'people_fully_vaccinated_per_hundred': None, 'daily_vaccinations_per_million': 194, 'vaccines': 'Sputnik V', 'source_name': 'Ministry of Health', 'source_website': 'http://datos.salud.gob.ar/dataset/vacunas-contra-covid-19-dosis-aplicadas-en-la-republica-argentina'}, {'index': 5, 'country': 'Argentina', 'iso_code': 'ARG', 'date': '2021-01-03', 'total_vaccinations': None, 'people_vaccinated': None, 'people_fully_vaccinated': None, 'daily_vaccinations_raw': None, 'daily_vaccinations': 7400, 'total_vaccinations_per_hundred': None, 'people_vaccinated_per_hundred': None, 'people_fully_vaccinated_per_hundred': None, 'daily_vaccinations_per_million': 164, 'vaccines': 'Sputnik V', 'source_name': 'Ministry of Health', 'source_website': 'http://datos.salud.gob.ar/dataset/vacunas-contra-covid-19-dosis-aplicadas-en-la-republica-argentina'}, {'index': 6, 'country': 'Argentina', 'iso_code': 'ARG', 'date': '2021-01-04', 'total_vaccinations': 39599, 'people_vaccinated': None, 'people_fully_vaccinated': None, 'daily_vaccinations_raw': None, 'daily_vaccinations': 6483, 'total_vaccinations_per_hundred': 0.09, 'people_vaccinated_per_hundred': None, 'people_fully_vaccinated_per_hundred': None, 'daily_vaccinations_per_million': 143, 'vaccines': 'Sputnik V', 'source_name': 'Ministry of Health', 'source_website': 'http://datos.salud.gob.ar/dataset/vacunas-contra-covid-19-dosis-aplicadas-en-la-republica-argentina'}, {'index': 7, 'country': 'Argentina', 'iso_code': 'ARG', 'date': '2021-01-05', 'total_vaccinations': None, 'people_vaccinated': None, 'people_fully_vaccinated': None, 'daily_vaccinations_raw': None, 'daily_vaccinations': 7984, 'total_vaccinations_per_hundred': None, 'people_vaccinated_per_hundred': None, 'people_fully_vaccinated_per_hundred': None, 'daily_vaccinations_per_million': 177, 'vaccines': 'Sputnik V', 'source_name': 'Ministry of Health', 'source_website': 'http://datos.salud.gob.ar/dataset/vacunas-contra-covid-19-dosis-aplicadas-en-la-republica-argentina'}  ... displaying 10 of 1427 total bound parameter sets ...  {'index': 1425, 'country': 'Wales', 'iso_code': None, 'date': '2021-01-22', 'total_vaccinations': 241016, 'people_vaccinated': 240547, 'people_fully_vaccinated': 469, 'daily_vaccinations_raw': 28284.0, 'daily_vaccinations': 15148, 'total_vaccinations_per_hundred': 7.64, 'people_vaccinated_per_hundred': 7.63, 'people_fully_vaccinated_per_hundred': 0.01, 'daily_vaccinations_per_million': 4804, 'vaccines': 'Oxford/AstraZeneca, Pfizer/BioNTech', 'source_name': 'Government of the United Kingdom', 'source_website': 'https://coronavirus.data.gov.uk/details/healthcare'}, {'index': 1426, 'country': 'Wales', 'iso_code': None, 'date': '2021-01-23', 'total_vaccinations': 265054, 'people_vaccinated': 264538, 'people_fully_vaccinated': 516, 'daily_vaccinations_raw': 24038.0, 'daily_vaccinations': 17371, 'total_vaccinations_per_hundred': 8.41, 'people_vaccinated_per_hundred': 8.39, 'people_fully_vaccinated_per_hundred': 0.02, 'daily_vaccinations_per_million': 5510, 'vaccines': 'Oxford/AstraZeneca, Pfizer/BioNTech', 'source_name': 'Government of the United Kingdom', 'source_website': 'https://coronavirus.data.gov.uk/details/healthcare'})\n",
            "2021-02-03 03:05:51,729 INFO sqlalchemy.engine.base.Engine COMMIT\n"
          ],
          "name": "stdout"
        }
      ]
    },
    {
      "cell_type": "code",
      "metadata": {
        "id": "invisible-needle",
        "outputId": "cef6e631-7b84-4196-b327-ef89d8e44ac3"
      },
      "source": [
        "with engine.begin() as transaction:\n",
        "    transaction.execute('DELETE FROM test.vaccinations_per_country')\n",
        "    df.to_sql('vaccinations_per_country', con=transaction, schema='test', if_exists='append', index=False)"
      ],
      "id": "invisible-needle",
      "execution_count": null,
      "outputs": [
        {
          "output_type": "stream",
          "text": [
            "2021-02-03 03:06:44,434 INFO sqlalchemy.engine.base.Engine BEGIN (implicit)\n",
            "2021-02-03 03:06:44,439 INFO sqlalchemy.engine.base.Engine DELETE FROM test.vaccinations_per_country\n",
            "2021-02-03 03:06:44,443 INFO sqlalchemy.engine.base.Engine {}\n",
            "2021-02-03 03:06:44,486 INFO sqlalchemy.engine.base.Engine DESCRIBE `test`.`vaccinations_per_country`\n",
            "2021-02-03 03:06:44,487 INFO sqlalchemy.engine.base.Engine {}\n",
            "2021-02-03 03:06:44,554 INFO sqlalchemy.engine.base.Engine INSERT INTO test.vaccinations_per_country (country, iso_code, date, total_vaccinations, people_vaccinated, people_fully_vaccinated, daily_vaccinations_raw, daily_vaccinations, total_vaccinations_per_hundred, people_vaccinated_per_hundred, people_fully_vaccinated_per_hundred, daily_vaccinations_per_million, vaccines, source_name, source_website) VALUES (%(country)s, %(iso_code)s, %(date)s, %(total_vaccinations)s, %(people_vaccinated)s, %(people_fully_vaccinated)s, %(daily_vaccinations_raw)s, %(daily_vaccinations)s, %(total_vaccinations_per_hundred)s, %(people_vaccinated_per_hundred)s, %(people_fully_vaccinated_per_hundred)s, %(daily_vaccinations_per_million)s, %(vaccines)s, %(source_name)s, %(source_website)s)\n",
            "2021-02-03 03:06:44,559 INFO sqlalchemy.engine.base.Engine ({'country': 'Argentina', 'iso_code': 'ARG', 'date': '2020-12-29', 'total_vaccinations': 700, 'people_vaccinated': None, 'people_fully_vaccinated': None, 'daily_vaccinations_raw': None, 'daily_vaccinations': None, 'total_vaccinations_per_hundred': 0.0, 'people_vaccinated_per_hundred': None, 'people_fully_vaccinated_per_hundred': None, 'daily_vaccinations_per_million': None, 'vaccines': 'Sputnik V', 'source_name': 'Ministry of Health', 'source_website': 'http://datos.salud.gob.ar/dataset/vacunas-contra-covid-19-dosis-aplicadas-en-la-republica-argentina'}, {'country': 'Argentina', 'iso_code': 'ARG', 'date': '2020-12-30', 'total_vaccinations': None, 'people_vaccinated': None, 'people_fully_vaccinated': None, 'daily_vaccinations_raw': None, 'daily_vaccinations': 15656, 'total_vaccinations_per_hundred': None, 'people_vaccinated_per_hundred': None, 'people_fully_vaccinated_per_hundred': None, 'daily_vaccinations_per_million': 346, 'vaccines': 'Sputnik V', 'source_name': 'Ministry of Health', 'source_website': 'http://datos.salud.gob.ar/dataset/vacunas-contra-covid-19-dosis-aplicadas-en-la-republica-argentina'}, {'country': 'Argentina', 'iso_code': 'ARG', 'date': '2020-12-31', 'total_vaccinations': 32013, 'people_vaccinated': None, 'people_fully_vaccinated': None, 'daily_vaccinations_raw': None, 'daily_vaccinations': 15656, 'total_vaccinations_per_hundred': 0.07, 'people_vaccinated_per_hundred': None, 'people_fully_vaccinated_per_hundred': None, 'daily_vaccinations_per_million': 346, 'vaccines': 'Sputnik V', 'source_name': 'Ministry of Health', 'source_website': 'http://datos.salud.gob.ar/dataset/vacunas-contra-covid-19-dosis-aplicadas-en-la-republica-argentina'}, {'country': 'Argentina', 'iso_code': 'ARG', 'date': '2021-01-01', 'total_vaccinations': None, 'people_vaccinated': None, 'people_fully_vaccinated': None, 'daily_vaccinations_raw': None, 'daily_vaccinations': 11070, 'total_vaccinations_per_hundred': None, 'people_vaccinated_per_hundred': None, 'people_fully_vaccinated_per_hundred': None, 'daily_vaccinations_per_million': 245, 'vaccines': 'Sputnik V', 'source_name': 'Ministry of Health', 'source_website': 'http://datos.salud.gob.ar/dataset/vacunas-contra-covid-19-dosis-aplicadas-en-la-republica-argentina'}, {'country': 'Argentina', 'iso_code': 'ARG', 'date': '2021-01-02', 'total_vaccinations': None, 'people_vaccinated': None, 'people_fully_vaccinated': None, 'daily_vaccinations_raw': None, 'daily_vaccinations': 8776, 'total_vaccinations_per_hundred': None, 'people_vaccinated_per_hundred': None, 'people_fully_vaccinated_per_hundred': None, 'daily_vaccinations_per_million': 194, 'vaccines': 'Sputnik V', 'source_name': 'Ministry of Health', 'source_website': 'http://datos.salud.gob.ar/dataset/vacunas-contra-covid-19-dosis-aplicadas-en-la-republica-argentina'}, {'country': 'Argentina', 'iso_code': 'ARG', 'date': '2021-01-03', 'total_vaccinations': None, 'people_vaccinated': None, 'people_fully_vaccinated': None, 'daily_vaccinations_raw': None, 'daily_vaccinations': 7400, 'total_vaccinations_per_hundred': None, 'people_vaccinated_per_hundred': None, 'people_fully_vaccinated_per_hundred': None, 'daily_vaccinations_per_million': 164, 'vaccines': 'Sputnik V', 'source_name': 'Ministry of Health', 'source_website': 'http://datos.salud.gob.ar/dataset/vacunas-contra-covid-19-dosis-aplicadas-en-la-republica-argentina'}, {'country': 'Argentina', 'iso_code': 'ARG', 'date': '2021-01-04', 'total_vaccinations': 39599, 'people_vaccinated': None, 'people_fully_vaccinated': None, 'daily_vaccinations_raw': None, 'daily_vaccinations': 6483, 'total_vaccinations_per_hundred': 0.09, 'people_vaccinated_per_hundred': None, 'people_fully_vaccinated_per_hundred': None, 'daily_vaccinations_per_million': 143, 'vaccines': 'Sputnik V', 'source_name': 'Ministry of Health', 'source_website': 'http://datos.salud.gob.ar/dataset/vacunas-contra-covid-19-dosis-aplicadas-en-la-republica-argentina'}, {'country': 'Argentina', 'iso_code': 'ARG', 'date': '2021-01-05', 'total_vaccinations': None, 'people_vaccinated': None, 'people_fully_vaccinated': None, 'daily_vaccinations_raw': None, 'daily_vaccinations': 7984, 'total_vaccinations_per_hundred': None, 'people_vaccinated_per_hundred': None, 'people_fully_vaccinated_per_hundred': None, 'daily_vaccinations_per_million': 177, 'vaccines': 'Sputnik V', 'source_name': 'Ministry of Health', 'source_website': 'http://datos.salud.gob.ar/dataset/vacunas-contra-covid-19-dosis-aplicadas-en-la-republica-argentina'}  ... displaying 10 of 1427 total bound parameter sets ...  {'country': 'Wales', 'iso_code': None, 'date': '2021-01-22', 'total_vaccinations': 241016, 'people_vaccinated': 240547, 'people_fully_vaccinated': 469, 'daily_vaccinations_raw': 28284.0, 'daily_vaccinations': 15148, 'total_vaccinations_per_hundred': 7.64, 'people_vaccinated_per_hundred': 7.63, 'people_fully_vaccinated_per_hundred': 0.01, 'daily_vaccinations_per_million': 4804, 'vaccines': 'Oxford/AstraZeneca, Pfizer/BioNTech', 'source_name': 'Government of the United Kingdom', 'source_website': 'https://coronavirus.data.gov.uk/details/healthcare'}, {'country': 'Wales', 'iso_code': None, 'date': '2021-01-23', 'total_vaccinations': 265054, 'people_vaccinated': 264538, 'people_fully_vaccinated': 516, 'daily_vaccinations_raw': 24038.0, 'daily_vaccinations': 17371, 'total_vaccinations_per_hundred': 8.41, 'people_vaccinated_per_hundred': 8.39, 'people_fully_vaccinated_per_hundred': 0.02, 'daily_vaccinations_per_million': 5510, 'vaccines': 'Oxford/AstraZeneca, Pfizer/BioNTech', 'source_name': 'Government of the United Kingdom', 'source_website': 'https://coronavirus.data.gov.uk/details/healthcare'})\n",
            "2021-02-03 03:06:44,838 INFO sqlalchemy.engine.base.Engine COMMIT\n"
          ],
          "name": "stdout"
        }
      ]
    }
  ]
}