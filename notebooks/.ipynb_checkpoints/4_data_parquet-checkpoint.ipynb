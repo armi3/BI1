{
 "cells": [
  {
   "cell_type": "markdown",
   "id": "TDP0sqtKUtOO",
   "metadata": {
    "id": "TDP0sqtKUtOO"
   },
   "source": [
    "# Ambiente"
   ]
  },
  {
   "cell_type": "markdown",
   "id": "Y6wd-7IfHg-4",
   "metadata": {
    "id": "Y6wd-7IfHg-4"
   },
   "source": [
    "### Instalar librerías y reiniciar kernel."
   ]
  },
  {
   "cell_type": "code",
   "execution_count": 1,
   "id": "47mj6l5YHlFT",
   "metadata": {
    "colab": {
     "base_uri": "https://localhost:8080/"
    },
    "id": "47mj6l5YHlFT",
    "outputId": "eb9b32f9-2d8e-4a66-f2e0-dd3346b2a930"
   },
   "outputs": [
    {
     "name": "stdout",
     "output_type": "stream",
     "text": [
      "Collecting mysql-connector\n",
      "  Downloading mysql-connector-2.2.9.tar.gz (11.9 MB)\n",
      "\u001b[K     |████████████████████████████████| 11.9 MB 318 kB/s eta 0:00:01\n",
      "\u001b[?25hBuilding wheels for collected packages: mysql-connector\n",
      "  Building wheel for mysql-connector (setup.py) ... \u001b[?25ldone\n",
      "\u001b[?25h  Created wheel for mysql-connector: filename=mysql_connector-2.2.9-cp38-cp38-linux_x86_64.whl size=247948 sha256=3c4b6fcd64b829c3a24d6a259a70e2fff9cbb12916ba70ca3a89506d527890ab\n",
      "  Stored in directory: /home/jovyan/.cache/pip/wheels/57/e4/98/5feafb5c393dd2540e44b064a6f95832990d543e5b4f53ea8f\n",
      "Successfully built mysql-connector\n",
      "Installing collected packages: mysql-connector\n",
      "Successfully installed mysql-connector-2.2.9\n",
      "Note: you may need to restart the kernel to use updated packages.\n"
     ]
    }
   ],
   "source": [
    "pip install mysql-connector"
   ]
  },
  {
   "cell_type": "code",
   "execution_count": 2,
   "id": "x-kHLt0DHmEG",
   "metadata": {
    "colab": {
     "base_uri": "https://localhost:8080/"
    },
    "id": "x-kHLt0DHmEG",
    "outputId": "ffd1e06e-e17d-4cb5-cd90-224e7e9fb7a5"
   },
   "outputs": [
    {
     "name": "stdout",
     "output_type": "stream",
     "text": [
      "Collecting pandas\n",
      "  Downloading pandas-1.2.1-cp38-cp38-manylinux1_x86_64.whl (9.7 MB)\n",
      "\u001b[K     |████████████████████████████████| 9.7 MB 2.3 MB/s eta 0:00:01\n",
      "\u001b[?25hRequirement already satisfied: pytz>=2017.3 in /opt/conda/lib/python3.8/site-packages (from pandas) (2020.5)\n",
      "Requirement already satisfied: python-dateutil>=2.7.3 in /opt/conda/lib/python3.8/site-packages (from pandas) (2.8.1)\n",
      "Collecting numpy>=1.16.5\n",
      "  Downloading numpy-1.20.0-cp38-cp38-manylinux2010_x86_64.whl (15.4 MB)\n",
      "\u001b[K     |████████████████████████████████| 15.4 MB 2.4 MB/s eta 0:00:01\n",
      "\u001b[?25hRequirement already satisfied: six>=1.5 in /opt/conda/lib/python3.8/site-packages (from python-dateutil>=2.7.3->pandas) (1.15.0)\n",
      "Installing collected packages: numpy, pandas\n",
      "Successfully installed numpy-1.20.0 pandas-1.2.1\n",
      "Note: you may need to restart the kernel to use updated packages.\n"
     ]
    }
   ],
   "source": [
    "pip install pandas"
   ]
  },
  {
   "cell_type": "code",
   "execution_count": 3,
   "id": "iUVmWNyBU-_J",
   "metadata": {
    "colab": {
     "base_uri": "https://localhost:8080/"
    },
    "id": "iUVmWNyBU-_J",
    "outputId": "9919c70d-4a9d-4820-ad7c-034fa141cda6"
   },
   "outputs": [
    {
     "name": "stdout",
     "output_type": "stream",
     "text": [
      "Collecting pyarrow\n",
      "  Downloading pyarrow-3.0.0-cp38-cp38-manylinux2014_x86_64.whl (20.7 MB)\n",
      "\u001b[K     |████████████████████████████████| 20.7 MB 6.7 MB/s eta 0:00:01\n",
      "\u001b[?25hRequirement already satisfied: numpy>=1.16.6 in /opt/conda/lib/python3.8/site-packages (from pyarrow) (1.20.0)\n",
      "Installing collected packages: pyarrow\n",
      "Successfully installed pyarrow-3.0.0\n",
      "Note: you may need to restart the kernel to use updated packages.\n"
     ]
    }
   ],
   "source": [
    "pip install pyarrow"
   ]
  },
  {
   "cell_type": "markdown",
   "id": "phKYfMfwImLT",
   "metadata": {
    "id": "phKYfMfwImLT"
   },
   "source": [
    "### Importaciones"
   ]
  },
  {
   "cell_type": "code",
   "execution_count": null,
   "id": "kNBCXZvvIovd",
   "metadata": {
    "id": "kNBCXZvvIovd"
   },
   "outputs": [],
   "source": [
    "import pandas as pd\n",
    "from sqlalchemy import create_engine\n",
    "from sqlalchemy import inspect\n",
    "from sqlalchemy import *\n",
    "import json\n",
    "import pyarrow.parquet as pq"
   ]
  },
  {
   "cell_type": "markdown",
   "id": "A1xr5LeiIA-s",
   "metadata": {
    "id": "A1xr5LeiIA-s"
   },
   "source": [
    "### Crear acceso a engine de mysql e inspeccionar."
   ]
  },
  {
   "cell_type": "code",
   "execution_count": null,
   "id": "6NsxGlltIbLG",
   "metadata": {
    "id": "6NsxGlltIbLG"
   },
   "outputs": [],
   "source": [
    "engine = create_engine('mysql+mysqlconnector://test:test123@db/test', echo = True)"
   ]
  },
  {
   "cell_type": "code",
   "execution_count": null,
   "id": "HA5jy_jMIulx",
   "metadata": {
    "id": "HA5jy_jMIulx"
   },
   "outputs": [],
   "source": [
    "pd.read_sql(\"select current_date\", con=engine)"
   ]
  },
  {
   "cell_type": "code",
   "execution_count": null,
   "id": "mZSrAD97JEaE",
   "metadata": {
    "id": "mZSrAD97JEaE"
   },
   "outputs": [],
   "source": [
    "inspector = inspect(engine)\n",
    "schemas = inspector.get_schema_names()\n",
    "\n",
    "for schema in schemas:\n",
    "    print(\"schema: %s\" % schema)\n",
    "    for table_name in inspector.get_table_names(schema=schema):\n",
    "        for column in inspector.get_columns(table_name, schema=schema):\n",
    "            print(\"Column: %s\" % column)"
   ]
  },
  {
   "cell_type": "code",
   "execution_count": null,
   "id": "r-bAYn23JJe2",
   "metadata": {
    "id": "r-bAYn23JJe2"
   },
   "outputs": [],
   "source": [
    "print(engine.table_names())"
   ]
  },
  {
   "cell_type": "markdown",
   "id": "BEWXcOH5I1sk",
   "metadata": {
    "id": "BEWXcOH5I1sk"
   },
   "source": [
    "# ETL 4"
   ]
  },
  {
   "cell_type": "markdown",
   "id": "WDkPQlR4I9r7",
   "metadata": {
    "id": "WDkPQlR4I9r7"
   },
   "source": [
    "## Extraer"
   ]
  },
  {
   "cell_type": "code",
   "execution_count": null,
   "id": "inclusive-register",
   "metadata": {
    "id": "inclusive-register"
   },
   "outputs": [],
   "source": [
    "table = pq.read_table('data.parquet')"
   ]
  },
  {
   "cell_type": "code",
   "execution_count": null,
   "id": "sccXHmiQXX3H",
   "metadata": {
    "id": "sccXHmiQXX3H"
   },
   "outputs": [],
   "source": [
    "table.to_pandas()"
   ]
  },
  {
   "cell_type": "code",
   "execution_count": null,
   "id": "oGf56SEfRcyN",
   "metadata": {
    "colab": {
     "base_uri": "https://localhost:8080/",
     "height": 191
    },
    "id": "oGf56SEfRcyN",
    "outputId": "76d9189d-1e1f-4de5-af3e-83395b58f78a"
   },
   "outputs": [],
   "source": [
    "df = pd.read_csv('time_series_covid19_confirmed_global.csv')\n",
    "df.head(3)"
   ]
  },
  {
   "cell_type": "code",
   "execution_count": null,
   "id": "978yjMOxNpwI",
   "metadata": {
    "colab": {
     "base_uri": "https://localhost:8080/"
    },
    "id": "978yjMOxNpwI",
    "outputId": "ae5c5134-34e8-4eb2-95e6-6628b262bac3"
   },
   "outputs": [],
   "source": [
    "df.dtypes"
   ]
  },
  {
   "cell_type": "markdown",
   "id": "EMLtWzXMKsSa",
   "metadata": {
    "id": "EMLtWzXMKsSa"
   },
   "source": [
    "## Transformar"
   ]
  },
  {
   "cell_type": "code",
   "execution_count": null,
   "id": "TOqnaZI2K36P",
   "metadata": {
    "colab": {
     "base_uri": "https://localhost:8080/",
     "height": 204
    },
    "id": "TOqnaZI2K36P",
    "outputId": "96f863f6-3fff-4fa7-aae0-7b12b6c40f42"
   },
   "outputs": [],
   "source": [
    "df = df.melt(id_vars=['Province/State', 'Country/Region', 'Lat', 'Long'],\n",
    "             var_name=[\"date\"],\n",
    "             value_name=\"cases\")\n",
    "df.head()"
   ]
  },
  {
   "cell_type": "code",
   "execution_count": null,
   "id": "UV_VnjieTKqY",
   "metadata": {
    "colab": {
     "base_uri": "https://localhost:8080/",
     "height": 204
    },
    "id": "UV_VnjieTKqY",
    "outputId": "ff462668-08ca-43df-ccbd-138121be76a7"
   },
   "outputs": [],
   "source": [
    "df['date'] =  pd.to_datetime(df['date'], format='%m/%d/%y')\n",
    "df.head()"
   ]
  },
  {
   "cell_type": "code",
   "execution_count": null,
   "id": "XjE0y8luUIva",
   "metadata": {
    "colab": {
     "base_uri": "https://localhost:8080/"
    },
    "id": "XjE0y8luUIva",
    "outputId": "f35bff4b-7c46-4e39-b760-54531d868735"
   },
   "outputs": [],
   "source": [
    "pd.isna(df[\"Province/State\"])"
   ]
  },
  {
   "cell_type": "code",
   "execution_count": null,
   "id": "ZdwF8JnnP2fQ",
   "metadata": {
    "id": "ZdwF8JnnP2fQ"
   },
   "outputs": [],
   "source": [
    "u = df.select_dtypes(object)\n",
    "df[u.columns] = u.apply(\n",
    "    lambda x: x.str.encode('ascii', 'ignore').str.decode('ascii'))"
   ]
  },
  {
   "cell_type": "markdown",
   "id": "3XhQPHz-KyoY",
   "metadata": {
    "id": "3XhQPHz-KyoY"
   },
   "source": [
    "## Load al engine"
   ]
  },
  {
   "cell_type": "code",
   "execution_count": null,
   "id": "PnRh5HUgK3PK",
   "metadata": {
    "id": "PnRh5HUgK3PK"
   },
   "outputs": [],
   "source": [
    "create_table_query = pd.io.sql.get_schema(df.reset_index(), 'test.unconfirmed_transactions', con=engine)\n",
    "print(create_table_query)\n",
    "type(create_table_query)"
   ]
  },
  {
   "cell_type": "code",
   "execution_count": null,
   "id": "4u7C41c0Lb-z",
   "metadata": {
    "id": "4u7C41c0Lb-z"
   },
   "outputs": [],
   "source": [
    "with open(\"unconfirmed_transactions.sql\", \"w\") as text_file:\n",
    "    text_file.write(create_table_query)"
   ]
  },
  {
   "cell_type": "code",
   "execution_count": null,
   "id": "u4ZHRJO2Lnm0",
   "metadata": {
    "id": "u4ZHRJO2Lnm0"
   },
   "outputs": [],
   "source": [
    "if not engine.dialect.has_table(engine, \"test.unconfirmed_transactions\"):  # If table don't exist, Create.\n",
    "    print(\"test.unconfirmed_transactions no existe\")\n",
    "    df.to_sql('unconfirmed_transactions', con=engine, schema=\"test\", if_exists='append')"
   ]
  },
  {
   "cell_type": "code",
   "execution_count": null,
   "id": "FusrPo94Lt74",
   "metadata": {
    "id": "FusrPo94Lt74"
   },
   "outputs": [],
   "source": [
    "with engine.begin() as transaction:\n",
    "    transaction.execute('DELETE FROM test.unconfirmed_transactions')\n",
    "    df.to_sql('unconfirmed_transactions', con=transaction, schema='test', if_exists='append', index=False)"
   ]
  }
 ],
 "metadata": {
  "colab": {
   "name": "4 data.parquet.ipynb",
   "provenance": [],
   "toc_visible": true
  },
  "kernelspec": {
   "display_name": "Python 3",
   "language": "python",
   "name": "python3"
  },
  "language_info": {
   "codemirror_mode": {
    "name": "ipython",
    "version": 3
   },
   "file_extension": ".py",
   "mimetype": "text/x-python",
   "name": "python",
   "nbconvert_exporter": "python",
   "pygments_lexer": "ipython3",
   "version": "3.8.6"
  }
 },
 "nbformat": 4,
 "nbformat_minor": 5
}
