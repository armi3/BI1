{
 "cells": [
  {
   "cell_type": "markdown",
   "id": "TDP0sqtKUtOO",
   "metadata": {
    "id": "TDP0sqtKUtOO"
   },
   "source": [
    "# Ambiente"
   ]
  },
  {
   "cell_type": "markdown",
   "id": "Y6wd-7IfHg-4",
   "metadata": {
    "id": "Y6wd-7IfHg-4"
   },
   "source": [
    "### Instalar librerías y reiniciar kernel."
   ]
  },
  {
   "cell_type": "code",
   "execution_count": 1,
   "id": "47mj6l5YHlFT",
   "metadata": {
    "colab": {
     "base_uri": "https://localhost:8080/"
    },
    "id": "47mj6l5YHlFT",
    "outputId": "eb9b32f9-2d8e-4a66-f2e0-dd3346b2a930"
   },
   "outputs": [
    {
     "name": "stdout",
     "output_type": "stream",
     "text": [
      "Requirement already satisfied: mysql-connector in /opt/conda/lib/python3.8/site-packages (2.2.9)\n",
      "Note: you may need to restart the kernel to use updated packages.\n"
     ]
    }
   ],
   "source": [
    "pip install mysql-connector"
   ]
  },
  {
   "cell_type": "code",
   "execution_count": 2,
   "id": "x-kHLt0DHmEG",
   "metadata": {
    "colab": {
     "base_uri": "https://localhost:8080/"
    },
    "id": "x-kHLt0DHmEG",
    "outputId": "ffd1e06e-e17d-4cb5-cd90-224e7e9fb7a5"
   },
   "outputs": [
    {
     "name": "stdout",
     "output_type": "stream",
     "text": [
      "Requirement already satisfied: pandas in /opt/conda/lib/python3.8/site-packages (1.2.1)\n",
      "Requirement already satisfied: pytz>=2017.3 in /opt/conda/lib/python3.8/site-packages (from pandas) (2020.5)\n",
      "Requirement already satisfied: numpy>=1.16.5 in /opt/conda/lib/python3.8/site-packages (from pandas) (1.20.0)\n",
      "Requirement already satisfied: python-dateutil>=2.7.3 in /opt/conda/lib/python3.8/site-packages (from pandas) (2.8.1)\n",
      "Requirement already satisfied: six>=1.5 in /opt/conda/lib/python3.8/site-packages (from python-dateutil>=2.7.3->pandas) (1.15.0)\n",
      "Note: you may need to restart the kernel to use updated packages.\n"
     ]
    }
   ],
   "source": [
    "pip install pandas"
   ]
  },
  {
   "cell_type": "code",
   "execution_count": 3,
   "id": "iUVmWNyBU-_J",
   "metadata": {
    "colab": {
     "base_uri": "https://localhost:8080/"
    },
    "id": "iUVmWNyBU-_J",
    "outputId": "9919c70d-4a9d-4820-ad7c-034fa141cda6"
   },
   "outputs": [],
   "source": [
    "#pip install pyarrow"
   ]
  },
  {
   "cell_type": "code",
   "execution_count": 4,
   "id": "fatty-updating",
   "metadata": {},
   "outputs": [],
   "source": [
    "#pip install pyspark"
   ]
  },
  {
   "cell_type": "code",
   "execution_count": 5,
   "id": "elegant-remark",
   "metadata": {},
   "outputs": [],
   "source": [
    "#pip install fastparquet"
   ]
  },
  {
   "cell_type": "markdown",
   "id": "phKYfMfwImLT",
   "metadata": {
    "id": "phKYfMfwImLT"
   },
   "source": [
    "### Importaciones"
   ]
  },
  {
   "cell_type": "code",
   "execution_count": 6,
   "id": "kNBCXZvvIovd",
   "metadata": {
    "id": "kNBCXZvvIovd"
   },
   "outputs": [],
   "source": [
    "import pandas as pd\n",
    "from sqlalchemy import create_engine\n",
    "from sqlalchemy import inspect\n",
    "from sqlalchemy import *\n",
    "#import json\n",
    "#import pyarrow.parquet as pq\n",
    "#import pyarrow\n",
    "#from pyspark.sql import SparkSession\n",
    "#from fastparquet import ParquetFile\n",
    "#import fastparquet"
   ]
  },
  {
   "cell_type": "markdown",
   "id": "A1xr5LeiIA-s",
   "metadata": {
    "id": "A1xr5LeiIA-s"
   },
   "source": [
    "### Crear acceso a engine de mysql e inspeccionar."
   ]
  },
  {
   "cell_type": "code",
   "execution_count": 7,
   "id": "6NsxGlltIbLG",
   "metadata": {
    "id": "6NsxGlltIbLG"
   },
   "outputs": [],
   "source": [
    "engine = create_engine('mysql+mysqlconnector://test:test123@db/test', echo = True)"
   ]
  },
  {
   "cell_type": "code",
   "execution_count": 8,
   "id": "HA5jy_jMIulx",
   "metadata": {
    "id": "HA5jy_jMIulx"
   },
   "outputs": [
    {
     "name": "stdout",
     "output_type": "stream",
     "text": [
      "2021-02-04 07:24:31,667 INFO sqlalchemy.engine.base.Engine SHOW VARIABLES LIKE 'sql_mode'\n",
      "2021-02-04 07:24:31,669 INFO sqlalchemy.engine.base.Engine {}\n",
      "2021-02-04 07:24:31,674 INFO sqlalchemy.engine.base.Engine SHOW VARIABLES LIKE 'lower_case_table_names'\n",
      "2021-02-04 07:24:31,677 INFO sqlalchemy.engine.base.Engine {}\n",
      "2021-02-04 07:24:31,684 INFO sqlalchemy.engine.base.Engine SELECT DATABASE()\n",
      "2021-02-04 07:24:31,687 INFO sqlalchemy.engine.base.Engine {}\n",
      "2021-02-04 07:24:31,694 INFO sqlalchemy.engine.base.Engine SELECT CAST('test plain returns' AS CHAR(60)) AS anon_1\n",
      "2021-02-04 07:24:31,696 INFO sqlalchemy.engine.base.Engine {}\n",
      "2021-02-04 07:24:31,701 INFO sqlalchemy.engine.base.Engine SELECT CAST('test unicode returns' AS CHAR(60)) AS anon_1\n",
      "2021-02-04 07:24:31,703 INFO sqlalchemy.engine.base.Engine {}\n",
      "2021-02-04 07:24:31,710 INFO sqlalchemy.engine.base.Engine DESCRIBE `select current_date`\n",
      "2021-02-04 07:24:31,711 INFO sqlalchemy.engine.base.Engine {}\n",
      "2021-02-04 07:24:31,716 INFO sqlalchemy.engine.base.Engine ROLLBACK\n",
      "2021-02-04 07:24:31,723 INFO sqlalchemy.engine.base.OptionEngine select current_date\n",
      "2021-02-04 07:24:31,724 INFO sqlalchemy.engine.base.OptionEngine {}\n"
     ]
    },
    {
     "data": {
      "text/html": [
       "<div>\n",
       "<style scoped>\n",
       "    .dataframe tbody tr th:only-of-type {\n",
       "        vertical-align: middle;\n",
       "    }\n",
       "\n",
       "    .dataframe tbody tr th {\n",
       "        vertical-align: top;\n",
       "    }\n",
       "\n",
       "    .dataframe thead th {\n",
       "        text-align: right;\n",
       "    }\n",
       "</style>\n",
       "<table border=\"1\" class=\"dataframe\">\n",
       "  <thead>\n",
       "    <tr style=\"text-align: right;\">\n",
       "      <th></th>\n",
       "      <th>current_date</th>\n",
       "    </tr>\n",
       "  </thead>\n",
       "  <tbody>\n",
       "    <tr>\n",
       "      <th>0</th>\n",
       "      <td>2021-02-04</td>\n",
       "    </tr>\n",
       "  </tbody>\n",
       "</table>\n",
       "</div>"
      ],
      "text/plain": [
       "  current_date\n",
       "0   2021-02-04"
      ]
     },
     "execution_count": 8,
     "metadata": {},
     "output_type": "execute_result"
    }
   ],
   "source": [
    "pd.read_sql(\"select current_date\", con=engine)"
   ]
  },
  {
   "cell_type": "code",
   "execution_count": 9,
   "id": "mZSrAD97JEaE",
   "metadata": {
    "id": "mZSrAD97JEaE"
   },
   "outputs": [
    {
     "name": "stdout",
     "output_type": "stream",
     "text": [
      "2021-02-04 07:24:31,815 INFO sqlalchemy.engine.base.Engine SHOW schemas\n",
      "2021-02-04 07:24:31,817 INFO sqlalchemy.engine.base.Engine {}\n",
      "schema: information_schema\n",
      "2021-02-04 07:24:31,823 INFO sqlalchemy.engine.base.Engine SHOW FULL TABLES FROM `information_schema`\n",
      "2021-02-04 07:24:31,825 INFO sqlalchemy.engine.base.Engine {}\n",
      "schema: test\n",
      "2021-02-04 07:24:31,836 INFO sqlalchemy.engine.base.Engine SHOW FULL TABLES FROM `test`\n",
      "2021-02-04 07:24:31,837 INFO sqlalchemy.engine.base.Engine {}\n",
      "2021-02-04 07:24:31,889 INFO sqlalchemy.engine.base.OptionEngine SHOW CREATE TABLE `test`.`time_series_covid19_confirmed_global`\n",
      "2021-02-04 07:24:31,892 INFO sqlalchemy.engine.base.OptionEngine {}\n",
      "Column: {'name': 'index', 'type': BIGINT(display_width=20), 'default': None, 'comment': None, 'nullable': True, 'autoincrement': False}\n",
      "Column: {'name': 'Province/State', 'type': TEXT(), 'default': None, 'comment': None, 'nullable': True}\n",
      "Column: {'name': 'Country/Region', 'type': TEXT(), 'default': None, 'comment': None, 'nullable': True}\n",
      "Column: {'name': 'Lat', 'type': TEXT(), 'default': None, 'comment': None, 'nullable': True}\n",
      "Column: {'name': 'Long', 'type': TEXT(), 'default': None, 'comment': None, 'nullable': True}\n",
      "Column: {'name': 'date', 'type': DATETIME(), 'default': None, 'comment': None, 'nullable': True}\n",
      "Column: {'name': 'cases', 'type': BIGINT(display_width=20), 'default': None, 'comment': None, 'nullable': True, 'autoincrement': False}\n",
      "2021-02-04 07:24:31,905 INFO sqlalchemy.engine.base.OptionEngine SHOW CREATE TABLE `test`.`unconfirmed_transactions`\n",
      "2021-02-04 07:24:31,910 INFO sqlalchemy.engine.base.OptionEngine {}\n",
      "Column: {'name': 'index', 'type': BIGINT(display_width=20), 'default': None, 'comment': None, 'nullable': True, 'autoincrement': False}\n",
      "Column: {'name': 'lock_time', 'type': BIGINT(display_width=20), 'default': None, 'comment': None, 'nullable': True, 'autoincrement': False}\n",
      "Column: {'name': 'ver', 'type': BIGINT(display_width=20), 'default': None, 'comment': None, 'nullable': True, 'autoincrement': False}\n",
      "Column: {'name': 'size', 'type': BIGINT(display_width=20), 'default': None, 'comment': None, 'nullable': True, 'autoincrement': False}\n",
      "Column: {'name': 'weight', 'type': BIGINT(display_width=20), 'default': None, 'comment': None, 'nullable': True, 'autoincrement': False}\n",
      "Column: {'name': 'time', 'type': BIGINT(display_width=20), 'default': None, 'comment': None, 'nullable': True, 'autoincrement': False}\n",
      "Column: {'name': 'tx_index', 'type': BIGINT(display_width=20), 'default': None, 'comment': None, 'nullable': True, 'autoincrement': False}\n",
      "Column: {'name': 'vin_sz', 'type': BIGINT(display_width=20), 'default': None, 'comment': None, 'nullable': True, 'autoincrement': False}\n",
      "Column: {'name': 'hash', 'type': TEXT(), 'default': None, 'comment': None, 'nullable': True}\n",
      "Column: {'name': 'vout_sz', 'type': BIGINT(display_width=20), 'default': None, 'comment': None, 'nullable': True, 'autoincrement': False}\n",
      "Column: {'name': 'relayed_by', 'type': TEXT(), 'default': None, 'comment': None, 'nullable': True}\n",
      "2021-02-04 07:24:31,947 INFO sqlalchemy.engine.base.OptionEngine SHOW CREATE TABLE `test`.`vaccinations_per_country`\n",
      "2021-02-04 07:24:31,954 INFO sqlalchemy.engine.base.OptionEngine {}\n",
      "Column: {'name': 'index', 'type': BIGINT(display_width=20), 'default': None, 'comment': None, 'nullable': True, 'autoincrement': False}\n",
      "Column: {'name': 'country', 'type': TEXT(), 'default': None, 'comment': None, 'nullable': True}\n",
      "Column: {'name': 'iso_code', 'type': TEXT(), 'default': None, 'comment': None, 'nullable': True}\n",
      "Column: {'name': 'date', 'type': TEXT(), 'default': None, 'comment': None, 'nullable': True}\n",
      "Column: {'name': 'total_vaccinations', 'type': BIGINT(display_width=20), 'default': None, 'comment': None, 'nullable': True, 'autoincrement': False}\n",
      "Column: {'name': 'people_vaccinated', 'type': BIGINT(display_width=20), 'default': None, 'comment': None, 'nullable': True, 'autoincrement': False}\n",
      "Column: {'name': 'people_fully_vaccinated', 'type': BIGINT(display_width=20), 'default': None, 'comment': None, 'nullable': True, 'autoincrement': False}\n",
      "Column: {'name': 'daily_vaccinations_raw', 'type': DOUBLE(asdecimal=True), 'default': None, 'comment': None, 'nullable': True}\n",
      "Column: {'name': 'daily_vaccinations', 'type': BIGINT(display_width=20), 'default': None, 'comment': None, 'nullable': True, 'autoincrement': False}\n",
      "Column: {'name': 'total_vaccinations_per_hundred', 'type': DOUBLE(asdecimal=True), 'default': None, 'comment': None, 'nullable': True}\n",
      "Column: {'name': 'people_vaccinated_per_hundred', 'type': DOUBLE(asdecimal=True), 'default': None, 'comment': None, 'nullable': True}\n",
      "Column: {'name': 'people_fully_vaccinated_per_hundred', 'type': DOUBLE(asdecimal=True), 'default': None, 'comment': None, 'nullable': True}\n",
      "Column: {'name': 'daily_vaccinations_per_million', 'type': BIGINT(display_width=20), 'default': None, 'comment': None, 'nullable': True, 'autoincrement': False}\n",
      "Column: {'name': 'vaccines', 'type': TEXT(), 'default': None, 'comment': None, 'nullable': True}\n",
      "Column: {'name': 'source_name', 'type': TEXT(), 'default': None, 'comment': None, 'nullable': True}\n",
      "Column: {'name': 'source_website', 'type': TEXT(), 'default': None, 'comment': None, 'nullable': True}\n"
     ]
    }
   ],
   "source": [
    "inspector = inspect(engine)\n",
    "schemas = inspector.get_schema_names()\n",
    "\n",
    "for schema in schemas:\n",
    "    print(\"schema: %s\" % schema)\n",
    "    for table_name in inspector.get_table_names(schema=schema):\n",
    "        for column in inspector.get_columns(table_name, schema=schema):\n",
    "            print(\"Column: %s\" % column)"
   ]
  },
  {
   "cell_type": "code",
   "execution_count": 10,
   "id": "r-bAYn23JJe2",
   "metadata": {
    "id": "r-bAYn23JJe2"
   },
   "outputs": [
    {
     "name": "stdout",
     "output_type": "stream",
     "text": [
      "2021-02-04 07:24:32,008 INFO sqlalchemy.engine.base.Engine SHOW FULL TABLES FROM `test`\n",
      "2021-02-04 07:24:32,010 INFO sqlalchemy.engine.base.Engine {}\n",
      "['time_series_covid19_confirmed_global', 'unconfirmed_transactions', 'vaccinations_per_country']\n"
     ]
    }
   ],
   "source": [
    "print(engine.table_names())"
   ]
  },
  {
   "cell_type": "markdown",
   "id": "BEWXcOH5I1sk",
   "metadata": {
    "id": "BEWXcOH5I1sk"
   },
   "source": [
    "# ETL 4"
   ]
  },
  {
   "cell_type": "markdown",
   "id": "WDkPQlR4I9r7",
   "metadata": {
    "id": "WDkPQlR4I9r7"
   },
   "source": [
    "## Extraer"
   ]
  },
  {
   "cell_type": "code",
   "execution_count": 11,
   "id": "inclusive-register",
   "metadata": {
    "id": "inclusive-register"
   },
   "outputs": [],
   "source": [
    "#table = pq.read_table('data.parquet')\n",
    "#table.to_pandas()"
   ]
  },
  {
   "cell_type": "code",
   "execution_count": null,
   "id": "sccXHmiQXX3H",
   "metadata": {
    "id": "sccXHmiQXX3H"
   },
   "outputs": [],
   "source": [
    "#df = pd.read_parquet('sources/data.parquet', engine='fastparquet')\n",
    "#pd.read_parquet('example_pa.parquet', engine='pyarrow')\n",
    "df = pd.read_parquet(r'sources/data.parquet', engine='auto', columns=None, use_nullable_dtypes=False)"
   ]
  },
  {
   "cell_type": "code",
   "execution_count": null,
   "id": "978yjMOxNpwI",
   "metadata": {
    "colab": {
     "base_uri": "https://localhost:8080/"
    },
    "id": "978yjMOxNpwI",
    "outputId": "ae5c5134-34e8-4eb2-95e6-6628b262bac3"
   },
   "outputs": [],
   "source": [
    "df.dtypes"
   ]
  },
  {
   "cell_type": "markdown",
   "id": "EMLtWzXMKsSa",
   "metadata": {
    "id": "EMLtWzXMKsSa"
   },
   "source": [
    "## Transformar"
   ]
  },
  {
   "cell_type": "code",
   "execution_count": null,
   "id": "ZdwF8JnnP2fQ",
   "metadata": {
    "id": "ZdwF8JnnP2fQ"
   },
   "outputs": [],
   "source": [
    "u = df.select_dtypes(object)\n",
    "df[u.columns] = u.apply(\n",
    "    lambda x: x.str.encode('ascii', 'ignore').str.decode('ascii'))"
   ]
  },
  {
   "cell_type": "markdown",
   "id": "3XhQPHz-KyoY",
   "metadata": {
    "id": "3XhQPHz-KyoY"
   },
   "source": [
    "## Load al engine"
   ]
  },
  {
   "cell_type": "code",
   "execution_count": null,
   "id": "PnRh5HUgK3PK",
   "metadata": {
    "id": "PnRh5HUgK3PK"
   },
   "outputs": [],
   "source": [
    "create_table_query = pd.io.sql.get_schema(df.reset_index(), 'test.data_parquet', con=engine)\n",
    "print(create_table_query)\n",
    "type(create_table_query)"
   ]
  },
  {
   "cell_type": "code",
   "execution_count": null,
   "id": "4u7C41c0Lb-z",
   "metadata": {
    "id": "4u7C41c0Lb-z"
   },
   "outputs": [],
   "source": [
    "with open(\"data_parquet.sql\", \"w\") as text_file:\n",
    "    text_file.write(create_table_query)"
   ]
  },
  {
   "cell_type": "code",
   "execution_count": null,
   "id": "u4ZHRJO2Lnm0",
   "metadata": {
    "id": "u4ZHRJO2Lnm0"
   },
   "outputs": [],
   "source": [
    "if not engine.dialect.has_table(engine, \"test.data_parquet\"):  # If table don't exist, Create.\n",
    "    print(\"test.data_parquet no existe\")\n",
    "    df.to_sql('data_parquet', con=engine, schema=\"test\", if_exists='append')"
   ]
  },
  {
   "cell_type": "code",
   "execution_count": null,
   "id": "FusrPo94Lt74",
   "metadata": {
    "id": "FusrPo94Lt74"
   },
   "outputs": [],
   "source": [
    "with engine.begin() as transaction:\n",
    "    transaction.execute('DELETE FROM test.data_parquet')\n",
    "    df.to_sql('data_parquet', con=transaction, schema='test', if_exists='append', index=False)"
   ]
  }
 ],
 "metadata": {
  "colab": {
   "name": "4 data.parquet.ipynb",
   "provenance": [],
   "toc_visible": true
  },
  "kernelspec": {
   "display_name": "Python 3",
   "language": "python",
   "name": "python3"
  },
  "language_info": {
   "codemirror_mode": {
    "name": "ipython",
    "version": 3
   },
   "file_extension": ".py",
   "mimetype": "text/x-python",
   "name": "python",
   "nbconvert_exporter": "python",
   "pygments_lexer": "ipython3",
   "version": "3.8.6"
  }
 },
 "nbformat": 4,
 "nbformat_minor": 5
}
