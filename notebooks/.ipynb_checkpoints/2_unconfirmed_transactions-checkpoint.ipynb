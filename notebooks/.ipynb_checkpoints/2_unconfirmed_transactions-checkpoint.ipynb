{
 "cells": [
  {
   "cell_type": "markdown",
   "id": "Y6wd-7IfHg-4",
   "metadata": {
    "id": "Y6wd-7IfHg-4"
   },
   "source": [
    "### Instalar librerías y reiniciar kernel."
   ]
  },
  {
   "cell_type": "code",
   "execution_count": 1,
   "id": "47mj6l5YHlFT",
   "metadata": {
    "colab": {
     "base_uri": "https://localhost:8080/"
    },
    "id": "47mj6l5YHlFT",
    "outputId": "b980abfe-7c86-4f3c-8046-97f63eb69832"
   },
   "outputs": [
    {
     "name": "stdout",
     "output_type": "stream",
     "text": [
      "Requirement already satisfied: mysql-connector in /opt/conda/lib/python3.8/site-packages (2.2.9)\n",
      "Note: you may need to restart the kernel to use updated packages.\n"
     ]
    }
   ],
   "source": [
    "pip install mysql-connector"
   ]
  },
  {
   "cell_type": "code",
   "execution_count": 2,
   "id": "x-kHLt0DHmEG",
   "metadata": {
    "colab": {
     "base_uri": "https://localhost:8080/"
    },
    "id": "x-kHLt0DHmEG",
    "outputId": "4327fc54-9e23-4a74-9415-606178cbb35d"
   },
   "outputs": [
    {
     "name": "stdout",
     "output_type": "stream",
     "text": [
      "Requirement already satisfied: pandas in /opt/conda/lib/python3.8/site-packages (1.2.1)\n",
      "Requirement already satisfied: numpy>=1.16.5 in /opt/conda/lib/python3.8/site-packages (from pandas) (1.20.0)\n",
      "Requirement already satisfied: python-dateutil>=2.7.3 in /opt/conda/lib/python3.8/site-packages (from pandas) (2.8.1)\n",
      "Requirement already satisfied: pytz>=2017.3 in /opt/conda/lib/python3.8/site-packages (from pandas) (2020.5)\n",
      "Requirement already satisfied: six>=1.5 in /opt/conda/lib/python3.8/site-packages (from python-dateutil>=2.7.3->pandas) (1.15.0)\n",
      "Note: you may need to restart the kernel to use updated packages.\n"
     ]
    }
   ],
   "source": [
    "pip install pandas"
   ]
  },
  {
   "cell_type": "markdown",
   "id": "phKYfMfwImLT",
   "metadata": {
    "id": "phKYfMfwImLT"
   },
   "source": [
    "### Importaciones"
   ]
  },
  {
   "cell_type": "code",
   "execution_count": 3,
   "id": "kNBCXZvvIovd",
   "metadata": {
    "id": "kNBCXZvvIovd"
   },
   "outputs": [],
   "source": [
    "import pandas as pd\n",
    "from sqlalchemy import create_engine\n",
    "from sqlalchemy import inspect\n",
    "from sqlalchemy import *\n",
    "import json"
   ]
  },
  {
   "cell_type": "markdown",
   "id": "A1xr5LeiIA-s",
   "metadata": {
    "id": "A1xr5LeiIA-s"
   },
   "source": [
    "### Crear acceso a engine de mysql e inspeccionar."
   ]
  },
  {
   "cell_type": "code",
   "execution_count": 4,
   "id": "6NsxGlltIbLG",
   "metadata": {
    "id": "6NsxGlltIbLG"
   },
   "outputs": [],
   "source": [
    "engine = create_engine('mysql+mysqlconnector://test:test123@db/test', echo = True)"
   ]
  },
  {
   "cell_type": "code",
   "execution_count": 5,
   "id": "HA5jy_jMIulx",
   "metadata": {
    "id": "HA5jy_jMIulx"
   },
   "outputs": [
    {
     "name": "stdout",
     "output_type": "stream",
     "text": [
      "2021-02-04 06:48:29,734 INFO sqlalchemy.engine.base.Engine SHOW VARIABLES LIKE 'sql_mode'\n",
      "2021-02-04 06:48:29,736 INFO sqlalchemy.engine.base.Engine {}\n",
      "2021-02-04 06:48:29,741 INFO sqlalchemy.engine.base.Engine SHOW VARIABLES LIKE 'lower_case_table_names'\n",
      "2021-02-04 06:48:29,743 INFO sqlalchemy.engine.base.Engine {}\n",
      "2021-02-04 06:48:29,750 INFO sqlalchemy.engine.base.Engine SELECT DATABASE()\n",
      "2021-02-04 06:48:29,751 INFO sqlalchemy.engine.base.Engine {}\n",
      "2021-02-04 06:48:29,758 INFO sqlalchemy.engine.base.Engine SELECT CAST('test plain returns' AS CHAR(60)) AS anon_1\n",
      "2021-02-04 06:48:29,759 INFO sqlalchemy.engine.base.Engine {}\n",
      "2021-02-04 06:48:29,764 INFO sqlalchemy.engine.base.Engine SELECT CAST('test unicode returns' AS CHAR(60)) AS anon_1\n",
      "2021-02-04 06:48:29,767 INFO sqlalchemy.engine.base.Engine {}\n",
      "2021-02-04 06:48:29,775 INFO sqlalchemy.engine.base.Engine DESCRIBE `select current_date`\n",
      "2021-02-04 06:48:29,777 INFO sqlalchemy.engine.base.Engine {}\n",
      "2021-02-04 06:48:29,780 INFO sqlalchemy.engine.base.Engine ROLLBACK\n",
      "2021-02-04 06:48:29,785 INFO sqlalchemy.engine.base.OptionEngine select current_date\n",
      "2021-02-04 06:48:29,787 INFO sqlalchemy.engine.base.OptionEngine {}\n"
     ]
    },
    {
     "data": {
      "text/html": [
       "<div>\n",
       "<style scoped>\n",
       "    .dataframe tbody tr th:only-of-type {\n",
       "        vertical-align: middle;\n",
       "    }\n",
       "\n",
       "    .dataframe tbody tr th {\n",
       "        vertical-align: top;\n",
       "    }\n",
       "\n",
       "    .dataframe thead th {\n",
       "        text-align: right;\n",
       "    }\n",
       "</style>\n",
       "<table border=\"1\" class=\"dataframe\">\n",
       "  <thead>\n",
       "    <tr style=\"text-align: right;\">\n",
       "      <th></th>\n",
       "      <th>current_date</th>\n",
       "    </tr>\n",
       "  </thead>\n",
       "  <tbody>\n",
       "    <tr>\n",
       "      <th>0</th>\n",
       "      <td>2021-02-04</td>\n",
       "    </tr>\n",
       "  </tbody>\n",
       "</table>\n",
       "</div>"
      ],
      "text/plain": [
       "  current_date\n",
       "0   2021-02-04"
      ]
     },
     "execution_count": 5,
     "metadata": {},
     "output_type": "execute_result"
    }
   ],
   "source": [
    "pd.read_sql(\"select current_date\", con=engine)"
   ]
  },
  {
   "cell_type": "code",
   "execution_count": 6,
   "id": "mZSrAD97JEaE",
   "metadata": {
    "id": "mZSrAD97JEaE"
   },
   "outputs": [
    {
     "name": "stdout",
     "output_type": "stream",
     "text": [
      "2021-02-04 06:48:29,878 INFO sqlalchemy.engine.base.Engine SHOW schemas\n",
      "2021-02-04 06:48:29,880 INFO sqlalchemy.engine.base.Engine {}\n",
      "schema: information_schema\n",
      "2021-02-04 06:48:29,887 INFO sqlalchemy.engine.base.Engine SHOW FULL TABLES FROM `information_schema`\n",
      "2021-02-04 06:48:29,889 INFO sqlalchemy.engine.base.Engine {}\n",
      "schema: test\n",
      "2021-02-04 06:48:29,901 INFO sqlalchemy.engine.base.Engine SHOW FULL TABLES FROM `test`\n",
      "2021-02-04 06:48:29,903 INFO sqlalchemy.engine.base.Engine {}\n",
      "2021-02-04 06:48:29,953 INFO sqlalchemy.engine.base.OptionEngine SHOW CREATE TABLE `test`.`time_series_covid19_confirmed_global`\n",
      "2021-02-04 06:48:29,955 INFO sqlalchemy.engine.base.OptionEngine {}\n",
      "Column: {'name': 'index', 'type': BIGINT(display_width=20), 'default': None, 'comment': None, 'nullable': True, 'autoincrement': False}\n",
      "Column: {'name': 'Province/State', 'type': TEXT(), 'default': None, 'comment': None, 'nullable': True}\n",
      "Column: {'name': 'Country/Region', 'type': TEXT(), 'default': None, 'comment': None, 'nullable': True}\n",
      "Column: {'name': 'Lat', 'type': TEXT(), 'default': None, 'comment': None, 'nullable': True}\n",
      "Column: {'name': 'Long', 'type': TEXT(), 'default': None, 'comment': None, 'nullable': True}\n",
      "Column: {'name': 'date', 'type': DATETIME(), 'default': None, 'comment': None, 'nullable': True}\n",
      "Column: {'name': 'cases', 'type': BIGINT(display_width=20), 'default': None, 'comment': None, 'nullable': True, 'autoincrement': False}\n",
      "2021-02-04 06:48:29,966 INFO sqlalchemy.engine.base.OptionEngine SHOW CREATE TABLE `test`.`unconfirmed_transactions`\n",
      "2021-02-04 06:48:29,968 INFO sqlalchemy.engine.base.OptionEngine {}\n",
      "Column: {'name': 'index', 'type': BIGINT(display_width=20), 'default': None, 'comment': None, 'nullable': True, 'autoincrement': False}\n",
      "Column: {'name': 'lock_time', 'type': BIGINT(display_width=20), 'default': None, 'comment': None, 'nullable': True, 'autoincrement': False}\n",
      "Column: {'name': 'ver', 'type': BIGINT(display_width=20), 'default': None, 'comment': None, 'nullable': True, 'autoincrement': False}\n",
      "Column: {'name': 'size', 'type': BIGINT(display_width=20), 'default': None, 'comment': None, 'nullable': True, 'autoincrement': False}\n",
      "Column: {'name': 'weight', 'type': BIGINT(display_width=20), 'default': None, 'comment': None, 'nullable': True, 'autoincrement': False}\n",
      "Column: {'name': 'time', 'type': BIGINT(display_width=20), 'default': None, 'comment': None, 'nullable': True, 'autoincrement': False}\n",
      "Column: {'name': 'tx_index', 'type': BIGINT(display_width=20), 'default': None, 'comment': None, 'nullable': True, 'autoincrement': False}\n",
      "Column: {'name': 'vin_sz', 'type': BIGINT(display_width=20), 'default': None, 'comment': None, 'nullable': True, 'autoincrement': False}\n",
      "Column: {'name': 'hash', 'type': TEXT(), 'default': None, 'comment': None, 'nullable': True}\n",
      "Column: {'name': 'vout_sz', 'type': BIGINT(display_width=20), 'default': None, 'comment': None, 'nullable': True, 'autoincrement': False}\n",
      "Column: {'name': 'relayed_by', 'type': TEXT(), 'default': None, 'comment': None, 'nullable': True}\n",
      "2021-02-04 06:48:29,982 INFO sqlalchemy.engine.base.OptionEngine SHOW CREATE TABLE `test`.`vaccinations_per_country`\n",
      "2021-02-04 06:48:29,983 INFO sqlalchemy.engine.base.OptionEngine {}\n",
      "Column: {'name': 'index', 'type': BIGINT(display_width=20), 'default': None, 'comment': None, 'nullable': True, 'autoincrement': False}\n",
      "Column: {'name': 'country', 'type': TEXT(), 'default': None, 'comment': None, 'nullable': True}\n",
      "Column: {'name': 'iso_code', 'type': TEXT(), 'default': None, 'comment': None, 'nullable': True}\n",
      "Column: {'name': 'date', 'type': TEXT(), 'default': None, 'comment': None, 'nullable': True}\n",
      "Column: {'name': 'total_vaccinations', 'type': BIGINT(display_width=20), 'default': None, 'comment': None, 'nullable': True, 'autoincrement': False}\n",
      "Column: {'name': 'people_vaccinated', 'type': BIGINT(display_width=20), 'default': None, 'comment': None, 'nullable': True, 'autoincrement': False}\n",
      "Column: {'name': 'people_fully_vaccinated', 'type': BIGINT(display_width=20), 'default': None, 'comment': None, 'nullable': True, 'autoincrement': False}\n",
      "Column: {'name': 'daily_vaccinations_raw', 'type': DOUBLE(asdecimal=True), 'default': None, 'comment': None, 'nullable': True}\n",
      "Column: {'name': 'daily_vaccinations', 'type': BIGINT(display_width=20), 'default': None, 'comment': None, 'nullable': True, 'autoincrement': False}\n",
      "Column: {'name': 'total_vaccinations_per_hundred', 'type': DOUBLE(asdecimal=True), 'default': None, 'comment': None, 'nullable': True}\n",
      "Column: {'name': 'people_vaccinated_per_hundred', 'type': DOUBLE(asdecimal=True), 'default': None, 'comment': None, 'nullable': True}\n",
      "Column: {'name': 'people_fully_vaccinated_per_hundred', 'type': DOUBLE(asdecimal=True), 'default': None, 'comment': None, 'nullable': True}\n",
      "Column: {'name': 'daily_vaccinations_per_million', 'type': BIGINT(display_width=20), 'default': None, 'comment': None, 'nullable': True, 'autoincrement': False}\n",
      "Column: {'name': 'vaccines', 'type': TEXT(), 'default': None, 'comment': None, 'nullable': True}\n",
      "Column: {'name': 'source_name', 'type': TEXT(), 'default': None, 'comment': None, 'nullable': True}\n",
      "Column: {'name': 'source_website', 'type': TEXT(), 'default': None, 'comment': None, 'nullable': True}\n"
     ]
    }
   ],
   "source": [
    "inspector = inspect(engine)\n",
    "schemas = inspector.get_schema_names()\n",
    "\n",
    "for schema in schemas:\n",
    "    print(\"schema: %s\" % schema)\n",
    "    for table_name in inspector.get_table_names(schema=schema):\n",
    "        for column in inspector.get_columns(table_name, schema=schema):\n",
    "            print(\"Column: %s\" % column)"
   ]
  },
  {
   "cell_type": "code",
   "execution_count": 7,
   "id": "r-bAYn23JJe2",
   "metadata": {
    "id": "r-bAYn23JJe2"
   },
   "outputs": [
    {
     "name": "stdout",
     "output_type": "stream",
     "text": [
      "2021-02-04 06:48:30,011 INFO sqlalchemy.engine.base.Engine SHOW FULL TABLES FROM `test`\n",
      "2021-02-04 06:48:30,014 INFO sqlalchemy.engine.base.Engine {}\n",
      "['time_series_covid19_confirmed_global', 'unconfirmed_transactions', 'vaccinations_per_country']\n"
     ]
    }
   ],
   "source": [
    "print(engine.table_names())"
   ]
  },
  {
   "cell_type": "markdown",
   "id": "BEWXcOH5I1sk",
   "metadata": {
    "id": "BEWXcOH5I1sk"
   },
   "source": [
    "# ETL 2"
   ]
  },
  {
   "cell_type": "markdown",
   "id": "WDkPQlR4I9r7",
   "metadata": {
    "id": "WDkPQlR4I9r7"
   },
   "source": [
    "## Extraer"
   ]
  },
  {
   "cell_type": "code",
   "execution_count": 8,
   "id": "asian-progressive",
   "metadata": {
    "colab": {
     "base_uri": "https://localhost:8080/",
     "height": 204
    },
    "id": "asian-progressive",
    "outputId": "840114ef-c973-4657-979f-dcf42d216b30",
    "scrolled": true
   },
   "outputs": [
    {
     "data": {
      "text/html": [
       "<div>\n",
       "<style scoped>\n",
       "    .dataframe tbody tr th:only-of-type {\n",
       "        vertical-align: middle;\n",
       "    }\n",
       "\n",
       "    .dataframe tbody tr th {\n",
       "        vertical-align: top;\n",
       "    }\n",
       "\n",
       "    .dataframe thead th {\n",
       "        text-align: right;\n",
       "    }\n",
       "</style>\n",
       "<table border=\"1\" class=\"dataframe\">\n",
       "  <thead>\n",
       "    <tr style=\"text-align: right;\">\n",
       "      <th></th>\n",
       "      <th>txs</th>\n",
       "    </tr>\n",
       "  </thead>\n",
       "  <tbody>\n",
       "    <tr>\n",
       "      <th>0</th>\n",
       "      <td>{'lock_time': 0, 'ver': 1, 'size': 226, 'input...</td>\n",
       "    </tr>\n",
       "    <tr>\n",
       "      <th>1</th>\n",
       "      <td>{'lock_time': 0, 'ver': 2, 'size': 225, 'input...</td>\n",
       "    </tr>\n",
       "    <tr>\n",
       "      <th>2</th>\n",
       "      <td>{'lock_time': 0, 'ver': 1, 'size': 371, 'input...</td>\n",
       "    </tr>\n",
       "    <tr>\n",
       "      <th>3</th>\n",
       "      <td>{'lock_time': 0, 'ver': 1, 'size': 223, 'input...</td>\n",
       "    </tr>\n",
       "    <tr>\n",
       "      <th>4</th>\n",
       "      <td>{'lock_time': 0, 'ver': 1, 'size': 226, 'input...</td>\n",
       "    </tr>\n",
       "  </tbody>\n",
       "</table>\n",
       "</div>"
      ],
      "text/plain": [
       "                                                 txs\n",
       "0  {'lock_time': 0, 'ver': 1, 'size': 226, 'input...\n",
       "1  {'lock_time': 0, 'ver': 2, 'size': 225, 'input...\n",
       "2  {'lock_time': 0, 'ver': 1, 'size': 371, 'input...\n",
       "3  {'lock_time': 0, 'ver': 1, 'size': 223, 'input...\n",
       "4  {'lock_time': 0, 'ver': 1, 'size': 226, 'input..."
      ]
     },
     "execution_count": 8,
     "metadata": {},
     "output_type": "execute_result"
    }
   ],
   "source": [
    "df = pd.read_json('sources/unconfirmed-transactions.json')\n",
    "df.head()"
   ]
  },
  {
   "cell_type": "code",
   "execution_count": 9,
   "id": "l2DCLZFtK_Nm",
   "metadata": {
    "colab": {
     "base_uri": "https://localhost:8080/"
    },
    "id": "l2DCLZFtK_Nm",
    "outputId": "64ef7d44-8cc3-4679-8a59-efdba0fd67f4"
   },
   "outputs": [
    {
     "data": {
      "text/plain": [
       "txs    object\n",
       "dtype: object"
      ]
     },
     "execution_count": 9,
     "metadata": {},
     "output_type": "execute_result"
    }
   ],
   "source": [
    "df.dtypes"
   ]
  },
  {
   "cell_type": "code",
   "execution_count": 10,
   "id": "JDR-vJkwMwFm",
   "metadata": {
    "colab": {
     "base_uri": "https://localhost:8080/",
     "height": 564
    },
    "id": "JDR-vJkwMwFm",
    "outputId": "ef7a5728-c013-44d5-a794-37bc0812d221"
   },
   "outputs": [
    {
     "data": {
      "text/html": [
       "<div>\n",
       "<style scoped>\n",
       "    .dataframe tbody tr th:only-of-type {\n",
       "        vertical-align: middle;\n",
       "    }\n",
       "\n",
       "    .dataframe tbody tr th {\n",
       "        vertical-align: top;\n",
       "    }\n",
       "\n",
       "    .dataframe thead th {\n",
       "        text-align: right;\n",
       "    }\n",
       "</style>\n",
       "<table border=\"1\" class=\"dataframe\">\n",
       "  <thead>\n",
       "    <tr style=\"text-align: right;\">\n",
       "      <th></th>\n",
       "      <th>lock_time</th>\n",
       "      <th>ver</th>\n",
       "      <th>size</th>\n",
       "      <th>inputs</th>\n",
       "      <th>weight</th>\n",
       "      <th>time</th>\n",
       "      <th>tx_index</th>\n",
       "      <th>vin_sz</th>\n",
       "      <th>hash</th>\n",
       "      <th>vout_sz</th>\n",
       "      <th>relayed_by</th>\n",
       "      <th>out</th>\n",
       "      <th>rbf</th>\n",
       "    </tr>\n",
       "  </thead>\n",
       "  <tbody>\n",
       "    <tr>\n",
       "      <th>0</th>\n",
       "      <td>0</td>\n",
       "      <td>1</td>\n",
       "      <td>226</td>\n",
       "      <td>[{'sequence': 4294967295, 'witness': '', 'prev...</td>\n",
       "      <td>904</td>\n",
       "      <td>1611621833</td>\n",
       "      <td>0</td>\n",
       "      <td>1</td>\n",
       "      <td>dd68f3d9b21711243dbd70d3e9914a49bf19e1daa7088b...</td>\n",
       "      <td>2</td>\n",
       "      <td>0.0.0.0</td>\n",
       "      <td>[{'spent': False, 'tx_index': 0, 'type': 0, 'a...</td>\n",
       "      <td>NaN</td>\n",
       "    </tr>\n",
       "    <tr>\n",
       "      <th>1</th>\n",
       "      <td>0</td>\n",
       "      <td>2</td>\n",
       "      <td>225</td>\n",
       "      <td>[{'sequence': 4294967295, 'witness': '', 'prev...</td>\n",
       "      <td>900</td>\n",
       "      <td>1611621833</td>\n",
       "      <td>0</td>\n",
       "      <td>1</td>\n",
       "      <td>c1dabfa845375b8a07f187522396702a30728cab10d8f2...</td>\n",
       "      <td>2</td>\n",
       "      <td>0.0.0.0</td>\n",
       "      <td>[{'spent': False, 'tx_index': 0, 'type': 0, 'a...</td>\n",
       "      <td>NaN</td>\n",
       "    </tr>\n",
       "    <tr>\n",
       "      <th>2</th>\n",
       "      <td>0</td>\n",
       "      <td>1</td>\n",
       "      <td>371</td>\n",
       "      <td>[{'sequence': 4294967295, 'witness': '', 'prev...</td>\n",
       "      <td>821</td>\n",
       "      <td>1611621833</td>\n",
       "      <td>0</td>\n",
       "      <td>1</td>\n",
       "      <td>ee3796f7c2c07fca9b48d04e9ec71becb24f621965b119...</td>\n",
       "      <td>2</td>\n",
       "      <td>0.0.0.0</td>\n",
       "      <td>[{'spent': False, 'tx_index': 0, 'type': 0, 'a...</td>\n",
       "      <td>NaN</td>\n",
       "    </tr>\n",
       "    <tr>\n",
       "      <th>3</th>\n",
       "      <td>0</td>\n",
       "      <td>1</td>\n",
       "      <td>223</td>\n",
       "      <td>[{'sequence': 4294967295, 'witness': '', 'prev...</td>\n",
       "      <td>892</td>\n",
       "      <td>1611621833</td>\n",
       "      <td>0</td>\n",
       "      <td>1</td>\n",
       "      <td>c28cb5b54db80ace84ec926dc72f1bb4db53b2d30a6f18...</td>\n",
       "      <td>2</td>\n",
       "      <td>0.0.0.0</td>\n",
       "      <td>[{'spent': False, 'tx_index': 0, 'type': 0, 'a...</td>\n",
       "      <td>NaN</td>\n",
       "    </tr>\n",
       "    <tr>\n",
       "      <th>4</th>\n",
       "      <td>0</td>\n",
       "      <td>1</td>\n",
       "      <td>226</td>\n",
       "      <td>[{'sequence': 4294967295, 'witness': '', 'prev...</td>\n",
       "      <td>904</td>\n",
       "      <td>1611621832</td>\n",
       "      <td>0</td>\n",
       "      <td>1</td>\n",
       "      <td>83fe83d4c709b54694686c0170d50d01f6c05d36ad7a84...</td>\n",
       "      <td>2</td>\n",
       "      <td>0.0.0.0</td>\n",
       "      <td>[{'spent': False, 'tx_index': 0, 'type': 0, 'a...</td>\n",
       "      <td>NaN</td>\n",
       "    </tr>\n",
       "  </tbody>\n",
       "</table>\n",
       "</div>"
      ],
      "text/plain": [
       "   lock_time  ver  size                                             inputs  \\\n",
       "0          0    1   226  [{'sequence': 4294967295, 'witness': '', 'prev...   \n",
       "1          0    2   225  [{'sequence': 4294967295, 'witness': '', 'prev...   \n",
       "2          0    1   371  [{'sequence': 4294967295, 'witness': '', 'prev...   \n",
       "3          0    1   223  [{'sequence': 4294967295, 'witness': '', 'prev...   \n",
       "4          0    1   226  [{'sequence': 4294967295, 'witness': '', 'prev...   \n",
       "\n",
       "   weight        time  tx_index  vin_sz  \\\n",
       "0     904  1611621833         0       1   \n",
       "1     900  1611621833         0       1   \n",
       "2     821  1611621833         0       1   \n",
       "3     892  1611621833         0       1   \n",
       "4     904  1611621832         0       1   \n",
       "\n",
       "                                                hash  vout_sz relayed_by  \\\n",
       "0  dd68f3d9b21711243dbd70d3e9914a49bf19e1daa7088b...        2    0.0.0.0   \n",
       "1  c1dabfa845375b8a07f187522396702a30728cab10d8f2...        2    0.0.0.0   \n",
       "2  ee3796f7c2c07fca9b48d04e9ec71becb24f621965b119...        2    0.0.0.0   \n",
       "3  c28cb5b54db80ace84ec926dc72f1bb4db53b2d30a6f18...        2    0.0.0.0   \n",
       "4  83fe83d4c709b54694686c0170d50d01f6c05d36ad7a84...        2    0.0.0.0   \n",
       "\n",
       "                                                 out  rbf  \n",
       "0  [{'spent': False, 'tx_index': 0, 'type': 0, 'a...  NaN  \n",
       "1  [{'spent': False, 'tx_index': 0, 'type': 0, 'a...  NaN  \n",
       "2  [{'spent': False, 'tx_index': 0, 'type': 0, 'a...  NaN  \n",
       "3  [{'spent': False, 'tx_index': 0, 'type': 0, 'a...  NaN  \n",
       "4  [{'spent': False, 'tx_index': 0, 'type': 0, 'a...  NaN  "
      ]
     },
     "execution_count": 10,
     "metadata": {},
     "output_type": "execute_result"
    }
   ],
   "source": [
    "with open('sources/unconfirmed-transactions.json') as json_file:\n",
    "    data = json.load(json_file)\n",
    "  \n",
    "df = pd.json_normalize(data['txs'])\n",
    "df.head()"
   ]
  },
  {
   "cell_type": "code",
   "execution_count": 11,
   "id": "978yjMOxNpwI",
   "metadata": {
    "colab": {
     "base_uri": "https://localhost:8080/"
    },
    "id": "978yjMOxNpwI",
    "outputId": "2abfe248-54e6-4f53-e9e8-de4a07657d76"
   },
   "outputs": [
    {
     "data": {
      "text/plain": [
       "lock_time      int64\n",
       "ver            int64\n",
       "size           int64\n",
       "inputs        object\n",
       "weight         int64\n",
       "time           int64\n",
       "tx_index       int64\n",
       "vin_sz         int64\n",
       "hash          object\n",
       "vout_sz        int64\n",
       "relayed_by    object\n",
       "out           object\n",
       "rbf           object\n",
       "dtype: object"
      ]
     },
     "execution_count": 11,
     "metadata": {},
     "output_type": "execute_result"
    }
   ],
   "source": [
    "df.dtypes"
   ]
  },
  {
   "cell_type": "markdown",
   "id": "EMLtWzXMKsSa",
   "metadata": {
    "id": "EMLtWzXMKsSa"
   },
   "source": [
    "## Transformar"
   ]
  },
  {
   "cell_type": "code",
   "execution_count": 12,
   "id": "TOqnaZI2K36P",
   "metadata": {
    "colab": {
     "base_uri": "https://localhost:8080/"
    },
    "id": "TOqnaZI2K36P",
    "outputId": "557b6d09-f3be-42dd-c109-00e33bc89ded"
   },
   "outputs": [
    {
     "data": {
      "text/plain": [
       "lock_time      int64\n",
       "ver            int64\n",
       "size           int64\n",
       "weight         int64\n",
       "time           int64\n",
       "tx_index       int64\n",
       "vin_sz         int64\n",
       "hash          object\n",
       "vout_sz        int64\n",
       "relayed_by    object\n",
       "dtype: object"
      ]
     },
     "execution_count": 12,
     "metadata": {},
     "output_type": "execute_result"
    }
   ],
   "source": [
    "df = df.drop(['inputs', 'out', 'rbf'], 1)\n",
    "df.dtypes"
   ]
  },
  {
   "cell_type": "markdown",
   "id": "3XhQPHz-KyoY",
   "metadata": {
    "id": "3XhQPHz-KyoY"
   },
   "source": [
    "## Load al engine"
   ]
  },
  {
   "cell_type": "code",
   "execution_count": 13,
   "id": "PnRh5HUgK3PK",
   "metadata": {
    "id": "PnRh5HUgK3PK"
   },
   "outputs": [
    {
     "name": "stdout",
     "output_type": "stream",
     "text": [
      "\n",
      "CREATE TABLE `test.unconfirmed_transactions` (\n",
      "\t`index` BIGINT, \n",
      "\tlock_time BIGINT, \n",
      "\tver BIGINT, \n",
      "\tsize BIGINT, \n",
      "\tweight BIGINT, \n",
      "\t`time` BIGINT, \n",
      "\ttx_index BIGINT, \n",
      "\tvin_sz BIGINT, \n",
      "\thash TEXT, \n",
      "\tvout_sz BIGINT, \n",
      "\trelayed_by TEXT\n",
      ")\n",
      "\n",
      "\n"
     ]
    },
    {
     "data": {
      "text/plain": [
       "str"
      ]
     },
     "execution_count": 13,
     "metadata": {},
     "output_type": "execute_result"
    }
   ],
   "source": [
    "create_table_query = pd.io.sql.get_schema(df.reset_index(), 'test.unconfirmed_transactions', con=engine)\n",
    "print(create_table_query)\n",
    "type(create_table_query)"
   ]
  },
  {
   "cell_type": "code",
   "execution_count": 14,
   "id": "4u7C41c0Lb-z",
   "metadata": {
    "id": "4u7C41c0Lb-z"
   },
   "outputs": [],
   "source": [
    "with open(\"schemas/unconfirmed_transactions.sql\", \"w\") as text_file:\n",
    "    text_file.write(create_table_query)"
   ]
  },
  {
   "cell_type": "code",
   "execution_count": 15,
   "id": "u4ZHRJO2Lnm0",
   "metadata": {
    "id": "u4ZHRJO2Lnm0"
   },
   "outputs": [
    {
     "name": "stdout",
     "output_type": "stream",
     "text": [
      "2021-02-04 06:48:30,787 INFO sqlalchemy.engine.base.OptionEngine DESCRIBE `test.unconfirmed_transactions`\n",
      "2021-02-04 06:48:30,789 INFO sqlalchemy.engine.base.OptionEngine {}\n",
      "2021-02-04 06:48:30,793 INFO sqlalchemy.engine.base.OptionEngine ROLLBACK\n",
      "test.unconfirmed_transactions no existe\n",
      "2021-02-04 06:48:30,806 INFO sqlalchemy.engine.base.Engine DESCRIBE `test`.`unconfirmed_transactions`\n",
      "2021-02-04 06:48:30,808 INFO sqlalchemy.engine.base.Engine {}\n",
      "2021-02-04 06:48:30,817 INFO sqlalchemy.engine.base.Engine BEGIN (implicit)\n",
      "2021-02-04 06:48:30,825 INFO sqlalchemy.engine.base.Engine INSERT INTO test.unconfirmed_transactions (`index`, lock_time, ver, size, weight, `time`, tx_index, vin_sz, hash, vout_sz, relayed_by) VALUES (%(index)s, %(lock_time)s, %(ver)s, %(size)s, %(weight)s, %(time)s, %(tx_index)s, %(vin_sz)s, %(hash)s, %(vout_sz)s, %(relayed_by)s)\n",
      "2021-02-04 06:48:30,827 INFO sqlalchemy.engine.base.Engine ({'index': 0, 'lock_time': 0, 'ver': 1, 'size': 226, 'weight': 904, 'time': 1611621833, 'tx_index': 0, 'vin_sz': 1, 'hash': 'dd68f3d9b21711243dbd70d3e9914a49bf19e1daa7088b9e3a71d5a9bd5300ef', 'vout_sz': 2, 'relayed_by': '0.0.0.0'}, {'index': 1, 'lock_time': 0, 'ver': 2, 'size': 225, 'weight': 900, 'time': 1611621833, 'tx_index': 0, 'vin_sz': 1, 'hash': 'c1dabfa845375b8a07f187522396702a30728cab10d8f2a31450852c424b03c2', 'vout_sz': 2, 'relayed_by': '0.0.0.0'}, {'index': 2, 'lock_time': 0, 'ver': 1, 'size': 371, 'weight': 821, 'time': 1611621833, 'tx_index': 0, 'vin_sz': 1, 'hash': 'ee3796f7c2c07fca9b48d04e9ec71becb24f621965b11991fb22efe7857f41b2', 'vout_sz': 2, 'relayed_by': '0.0.0.0'}, {'index': 3, 'lock_time': 0, 'ver': 1, 'size': 223, 'weight': 892, 'time': 1611621833, 'tx_index': 0, 'vin_sz': 1, 'hash': 'c28cb5b54db80ace84ec926dc72f1bb4db53b2d30a6f18b566aa51cd5107ab82', 'vout_sz': 2, 'relayed_by': '0.0.0.0'}, {'index': 4, 'lock_time': 0, 'ver': 1, 'size': 226, 'weight': 904, 'time': 1611621832, 'tx_index': 0, 'vin_sz': 1, 'hash': '83fe83d4c709b54694686c0170d50d01f6c05d36ad7a846d0943bf3a8097dceb', 'vout_sz': 2, 'relayed_by': '0.0.0.0'}, {'index': 5, 'lock_time': 0, 'ver': 1, 'size': 248, 'weight': 662, 'time': 1611621831, 'tx_index': 0, 'vin_sz': 1, 'hash': 'cdb866938e41758dd814941527947af02836cbb2605b2c6515031ad43ebd6987', 'vout_sz': 2, 'relayed_by': '0.0.0.0'}, {'index': 6, 'lock_time': 0, 'ver': 2, 'size': 485, 'weight': 1940, 'time': 1611621832, 'tx_index': 0, 'vin_sz': 3, 'hash': '18277b95481f6da358bd608d9138430946ef578a06cf8b03d46d25231090c215', 'vout_sz': 1, 'relayed_by': '0.0.0.0'}, {'index': 7, 'lock_time': 0, 'ver': 1, 'size': 374, 'weight': 845, 'time': 1611621830, 'tx_index': 0, 'vin_sz': 2, 'hash': '928b4a67a68ac8c082d6f11230cffbf11037dc6d218db0b174e31df384bd5ec5', 'vout_sz': 2, 'relayed_by': '0.0.0.0'}  ... displaying 10 of 49 total bound parameter sets ...  {'index': 47, 'lock_time': 0, 'ver': 2, 'size': 192, 'weight': 768, 'time': 1611621821, 'tx_index': 0, 'vin_sz': 1, 'hash': 'd9f1bc31562e168256862a91abcd15679ea705e1db29e66f850c4d774a93d5d9', 'vout_sz': 1, 'relayed_by': '0.0.0.0'}, {'index': 48, 'lock_time': 0, 'ver': 1, 'size': 337, 'weight': 1348, 'time': 1611621822, 'tx_index': 0, 'vin_sz': 2, 'hash': '26107b685c3cc29fdb2f3be2df67cbaf910f930f33f13b6449a884d5170e43c2', 'vout_sz': 1, 'relayed_by': '0.0.0.0'})\n",
      "2021-02-04 06:48:30,842 INFO sqlalchemy.engine.base.Engine COMMIT\n"
     ]
    }
   ],
   "source": [
    "if not engine.dialect.has_table(engine, \"test.unconfirmed_transactions\"):  # If table don't exist, Create.\n",
    "    print(\"test.unconfirmed_transactions no existe\")\n",
    "    df.to_sql('unconfirmed_transactions', con=engine, schema=\"test\", if_exists='append')"
   ]
  },
  {
   "cell_type": "code",
   "execution_count": 16,
   "id": "FusrPo94Lt74",
   "metadata": {
    "id": "FusrPo94Lt74"
   },
   "outputs": [
    {
     "name": "stdout",
     "output_type": "stream",
     "text": [
      "2021-02-04 06:48:30,983 INFO sqlalchemy.engine.base.Engine BEGIN (implicit)\n",
      "2021-02-04 06:48:30,985 INFO sqlalchemy.engine.base.Engine DELETE FROM test.unconfirmed_transactions\n",
      "2021-02-04 06:48:30,987 INFO sqlalchemy.engine.base.Engine {}\n",
      "2021-02-04 06:48:31,025 INFO sqlalchemy.engine.base.Engine DESCRIBE `test`.`unconfirmed_transactions`\n",
      "2021-02-04 06:48:31,027 INFO sqlalchemy.engine.base.Engine {}\n",
      "2021-02-04 06:48:31,040 INFO sqlalchemy.engine.base.Engine INSERT INTO test.unconfirmed_transactions (lock_time, ver, size, weight, `time`, tx_index, vin_sz, hash, vout_sz, relayed_by) VALUES (%(lock_time)s, %(ver)s, %(size)s, %(weight)s, %(time)s, %(tx_index)s, %(vin_sz)s, %(hash)s, %(vout_sz)s, %(relayed_by)s)\n",
      "2021-02-04 06:48:31,042 INFO sqlalchemy.engine.base.Engine ({'lock_time': 0, 'ver': 1, 'size': 226, 'weight': 904, 'time': 1611621833, 'tx_index': 0, 'vin_sz': 1, 'hash': 'dd68f3d9b21711243dbd70d3e9914a49bf19e1daa7088b9e3a71d5a9bd5300ef', 'vout_sz': 2, 'relayed_by': '0.0.0.0'}, {'lock_time': 0, 'ver': 2, 'size': 225, 'weight': 900, 'time': 1611621833, 'tx_index': 0, 'vin_sz': 1, 'hash': 'c1dabfa845375b8a07f187522396702a30728cab10d8f2a31450852c424b03c2', 'vout_sz': 2, 'relayed_by': '0.0.0.0'}, {'lock_time': 0, 'ver': 1, 'size': 371, 'weight': 821, 'time': 1611621833, 'tx_index': 0, 'vin_sz': 1, 'hash': 'ee3796f7c2c07fca9b48d04e9ec71becb24f621965b11991fb22efe7857f41b2', 'vout_sz': 2, 'relayed_by': '0.0.0.0'}, {'lock_time': 0, 'ver': 1, 'size': 223, 'weight': 892, 'time': 1611621833, 'tx_index': 0, 'vin_sz': 1, 'hash': 'c28cb5b54db80ace84ec926dc72f1bb4db53b2d30a6f18b566aa51cd5107ab82', 'vout_sz': 2, 'relayed_by': '0.0.0.0'}, {'lock_time': 0, 'ver': 1, 'size': 226, 'weight': 904, 'time': 1611621832, 'tx_index': 0, 'vin_sz': 1, 'hash': '83fe83d4c709b54694686c0170d50d01f6c05d36ad7a846d0943bf3a8097dceb', 'vout_sz': 2, 'relayed_by': '0.0.0.0'}, {'lock_time': 0, 'ver': 1, 'size': 248, 'weight': 662, 'time': 1611621831, 'tx_index': 0, 'vin_sz': 1, 'hash': 'cdb866938e41758dd814941527947af02836cbb2605b2c6515031ad43ebd6987', 'vout_sz': 2, 'relayed_by': '0.0.0.0'}, {'lock_time': 0, 'ver': 2, 'size': 485, 'weight': 1940, 'time': 1611621832, 'tx_index': 0, 'vin_sz': 3, 'hash': '18277b95481f6da358bd608d9138430946ef578a06cf8b03d46d25231090c215', 'vout_sz': 1, 'relayed_by': '0.0.0.0'}, {'lock_time': 0, 'ver': 1, 'size': 374, 'weight': 845, 'time': 1611621830, 'tx_index': 0, 'vin_sz': 2, 'hash': '928b4a67a68ac8c082d6f11230cffbf11037dc6d218db0b174e31df384bd5ec5', 'vout_sz': 2, 'relayed_by': '0.0.0.0'}  ... displaying 10 of 49 total bound parameter sets ...  {'lock_time': 0, 'ver': 2, 'size': 192, 'weight': 768, 'time': 1611621821, 'tx_index': 0, 'vin_sz': 1, 'hash': 'd9f1bc31562e168256862a91abcd15679ea705e1db29e66f850c4d774a93d5d9', 'vout_sz': 1, 'relayed_by': '0.0.0.0'}, {'lock_time': 0, 'ver': 1, 'size': 337, 'weight': 1348, 'time': 1611621822, 'tx_index': 0, 'vin_sz': 2, 'hash': '26107b685c3cc29fdb2f3be2df67cbaf910f930f33f13b6449a884d5170e43c2', 'vout_sz': 1, 'relayed_by': '0.0.0.0'})\n",
      "2021-02-04 06:48:31,057 INFO sqlalchemy.engine.base.Engine COMMIT\n"
     ]
    }
   ],
   "source": [
    "with engine.begin() as transaction:\n",
    "    transaction.execute('DELETE FROM test.unconfirmed_transactions')\n",
    "    df.to_sql('unconfirmed_transactions', con=transaction, schema='test', if_exists='append', index=False)"
   ]
  }
 ],
 "metadata": {
  "colab": {
   "name": "2 unconfirmed-transactions.ipynb",
   "provenance": [],
   "toc_visible": true
  },
  "kernelspec": {
   "display_name": "Python 3",
   "language": "python",
   "name": "python3"
  },
  "language_info": {
   "codemirror_mode": {
    "name": "ipython",
    "version": 3
   },
   "file_extension": ".py",
   "mimetype": "text/x-python",
   "name": "python",
   "nbconvert_exporter": "python",
   "pygments_lexer": "ipython3",
   "version": "3.8.6"
  }
 },
 "nbformat": 4,
 "nbformat_minor": 5
}
