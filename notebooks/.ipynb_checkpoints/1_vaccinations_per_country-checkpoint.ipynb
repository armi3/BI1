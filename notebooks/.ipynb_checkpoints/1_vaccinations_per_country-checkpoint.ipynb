{
 "cells": [
  {
   "cell_type": "markdown",
   "id": "medieval-india",
   "metadata": {
    "id": "medieval-india"
   },
   "source": [
    "### Instalar librerías y reiniciar kernel."
   ]
  },
  {
   "cell_type": "code",
   "execution_count": 2,
   "id": "greenhouse-yukon",
   "metadata": {
    "id": "greenhouse-yukon"
   },
   "outputs": [
    {
     "name": "stdout",
     "output_type": "stream",
     "text": [
      "Collecting mysql-connector\n",
      "  Downloading mysql-connector-2.2.9.tar.gz (11.9 MB)\n",
      "\u001b[K     |████████████████████████████████| 11.9 MB 3.8 MB/s eta 0:00:01    |███████                         | 2.6 MB 1.8 MB/s eta 0:00:06\n",
      "\u001b[?25hBuilding wheels for collected packages: mysql-connector\n",
      "  Building wheel for mysql-connector (setup.py) ... \u001b[?25ldone\n",
      "\u001b[?25h  Created wheel for mysql-connector: filename=mysql_connector-2.2.9-cp38-cp38-linux_x86_64.whl size=247948 sha256=097e1874e62bc2e3615b948cb183fda7acf968187b63a9a7e7c9e327880ed872\n",
      "  Stored in directory: /home/jovyan/.cache/pip/wheels/57/e4/98/5feafb5c393dd2540e44b064a6f95832990d543e5b4f53ea8f\n",
      "Successfully built mysql-connector\n",
      "Installing collected packages: mysql-connector\n",
      "Successfully installed mysql-connector-2.2.9\n",
      "Note: you may need to restart the kernel to use updated packages.\n"
     ]
    }
   ],
   "source": [
    "pip install mysql-connector "
   ]
  },
  {
   "cell_type": "code",
   "execution_count": 3,
   "id": "dedicated-explorer",
   "metadata": {},
   "outputs": [
    {
     "name": "stdout",
     "output_type": "stream",
     "text": [
      "Collecting pandas\n",
      "  Downloading pandas-1.2.1-cp38-cp38-manylinux1_x86_64.whl (9.7 MB)\n",
      "\u001b[K     |████████████████████████████████| 9.7 MB 2.6 MB/s eta 0:00:01     |████████████▎                   | 3.7 MB 386 kB/s eta 0:00:16\n",
      "\u001b[?25hRequirement already satisfied: pytz>=2017.3 in /opt/conda/lib/python3.8/site-packages (from pandas) (2020.5)\n",
      "Collecting numpy>=1.16.5\n",
      "  Downloading numpy-1.20.0-cp38-cp38-manylinux2010_x86_64.whl (15.4 MB)\n",
      "\u001b[K     |████████████████████████████████| 15.4 MB 2.4 MB/s eta 0:00:01\n",
      "\u001b[?25hRequirement already satisfied: python-dateutil>=2.7.3 in /opt/conda/lib/python3.8/site-packages (from pandas) (2.8.1)\n",
      "Requirement already satisfied: six>=1.5 in /opt/conda/lib/python3.8/site-packages (from python-dateutil>=2.7.3->pandas) (1.15.0)\n",
      "Installing collected packages: numpy, pandas\n",
      "Successfully installed numpy-1.20.0 pandas-1.2.1\n",
      "Note: you may need to restart the kernel to use updated packages.\n"
     ]
    }
   ],
   "source": [
    "pip install pandas"
   ]
  },
  {
   "cell_type": "markdown",
   "id": "fewer-comment",
   "metadata": {
    "id": "fewer-comment"
   },
   "source": [
    "### Crear acceso a engine de mysql e inspeccionar."
   ]
  },
  {
   "cell_type": "code",
   "execution_count": 4,
   "id": "psychological-cleaner",
   "metadata": {
    "id": "psychological-cleaner"
   },
   "outputs": [],
   "source": [
    "from sqlalchemy import create_engine\n",
    "\n",
    "engine = create_engine('mysql+mysqlconnector://test:test123@db/test', echo = True)"
   ]
  },
  {
   "cell_type": "code",
   "execution_count": 5,
   "id": "american-crawford",
   "metadata": {
    "id": "american-crawford",
    "outputId": "31dd26b3-f912-42c8-b62d-ff204612e338"
   },
   "outputs": [
    {
     "name": "stdout",
     "output_type": "stream",
     "text": [
      "2021-02-04 06:34:25,708 INFO sqlalchemy.engine.base.Engine SHOW VARIABLES LIKE 'sql_mode'\n",
      "2021-02-04 06:34:25,711 INFO sqlalchemy.engine.base.Engine {}\n",
      "2021-02-04 06:34:25,716 INFO sqlalchemy.engine.base.Engine SHOW VARIABLES LIKE 'lower_case_table_names'\n",
      "2021-02-04 06:34:25,719 INFO sqlalchemy.engine.base.Engine {}\n",
      "2021-02-04 06:34:25,725 INFO sqlalchemy.engine.base.Engine SELECT DATABASE()\n",
      "2021-02-04 06:34:25,727 INFO sqlalchemy.engine.base.Engine {}\n",
      "2021-02-04 06:34:25,740 INFO sqlalchemy.engine.base.Engine SELECT CAST('test plain returns' AS CHAR(60)) AS anon_1\n",
      "2021-02-04 06:34:25,746 INFO sqlalchemy.engine.base.Engine {}\n",
      "2021-02-04 06:34:25,754 INFO sqlalchemy.engine.base.Engine SELECT CAST('test unicode returns' AS CHAR(60)) AS anon_1\n",
      "2021-02-04 06:34:25,756 INFO sqlalchemy.engine.base.Engine {}\n",
      "2021-02-04 06:34:25,769 INFO sqlalchemy.engine.base.Engine DESCRIBE `select current_date`\n",
      "2021-02-04 06:34:25,771 INFO sqlalchemy.engine.base.Engine {}\n",
      "2021-02-04 06:34:25,776 INFO sqlalchemy.engine.base.Engine ROLLBACK\n",
      "2021-02-04 06:34:25,783 INFO sqlalchemy.engine.base.OptionEngine select current_date\n",
      "2021-02-04 06:34:25,785 INFO sqlalchemy.engine.base.OptionEngine {}\n"
     ]
    },
    {
     "data": {
      "text/html": [
       "<div>\n",
       "<style scoped>\n",
       "    .dataframe tbody tr th:only-of-type {\n",
       "        vertical-align: middle;\n",
       "    }\n",
       "\n",
       "    .dataframe tbody tr th {\n",
       "        vertical-align: top;\n",
       "    }\n",
       "\n",
       "    .dataframe thead th {\n",
       "        text-align: right;\n",
       "    }\n",
       "</style>\n",
       "<table border=\"1\" class=\"dataframe\">\n",
       "  <thead>\n",
       "    <tr style=\"text-align: right;\">\n",
       "      <th></th>\n",
       "      <th>current_date</th>\n",
       "    </tr>\n",
       "  </thead>\n",
       "  <tbody>\n",
       "    <tr>\n",
       "      <th>0</th>\n",
       "      <td>2021-02-04</td>\n",
       "    </tr>\n",
       "  </tbody>\n",
       "</table>\n",
       "</div>"
      ],
      "text/plain": [
       "  current_date\n",
       "0   2021-02-04"
      ]
     },
     "execution_count": 5,
     "metadata": {},
     "output_type": "execute_result"
    }
   ],
   "source": [
    "import pandas as pd\n",
    "\n",
    "pd.read_sql(\"select current_date\", con=engine)"
   ]
  },
  {
   "cell_type": "code",
   "execution_count": 6,
   "id": "painful-bottle",
   "metadata": {
    "id": "painful-bottle",
    "outputId": "f10b7858-1603-4dc6-e69d-2d266eecb1f8"
   },
   "outputs": [
    {
     "name": "stdout",
     "output_type": "stream",
     "text": [
      "2021-02-04 06:34:30,001 INFO sqlalchemy.engine.base.Engine SHOW schemas\n",
      "2021-02-04 06:34:30,005 INFO sqlalchemy.engine.base.Engine {}\n",
      "schema: information_schema\n",
      "2021-02-04 06:34:30,013 INFO sqlalchemy.engine.base.Engine SHOW FULL TABLES FROM `information_schema`\n",
      "2021-02-04 06:34:30,015 INFO sqlalchemy.engine.base.Engine {}\n",
      "schema: test\n",
      "2021-02-04 06:34:30,026 INFO sqlalchemy.engine.base.Engine SHOW FULL TABLES FROM `test`\n",
      "2021-02-04 06:34:30,027 INFO sqlalchemy.engine.base.Engine {}\n"
     ]
    }
   ],
   "source": [
    "from sqlalchemy import inspect\n",
    "inspector = inspect(engine)\n",
    "schemas = inspector.get_schema_names()\n",
    "\n",
    "for schema in schemas:\n",
    "    print(\"schema: %s\" % schema)\n",
    "    for table_name in inspector.get_table_names(schema=schema):\n",
    "        for column in inspector.get_columns(table_name, schema=schema):\n",
    "            print(\"Column: %s\" % column)"
   ]
  },
  {
   "cell_type": "code",
   "execution_count": 7,
   "id": "homeless-possible",
   "metadata": {
    "id": "homeless-possible",
    "outputId": "2d4de6bd-716e-4cb8-8816-41cc2970c834"
   },
   "outputs": [
    {
     "name": "stdout",
     "output_type": "stream",
     "text": [
      "2021-02-04 06:34:33,100 INFO sqlalchemy.engine.base.Engine SHOW FULL TABLES FROM `test`\n",
      "2021-02-04 06:34:33,103 INFO sqlalchemy.engine.base.Engine {}\n",
      "[]\n"
     ]
    }
   ],
   "source": [
    "print(engine.table_names())"
   ]
  },
  {
   "cell_type": "markdown",
   "id": "fluid-increase",
   "metadata": {
    "id": "fluid-increase"
   },
   "source": [
    "# ETL 1"
   ]
  },
  {
   "cell_type": "markdown",
   "id": "magnetic-trunk",
   "metadata": {
    "id": "magnetic-trunk"
   },
   "source": [
    "### Extraer data del source y explorar."
   ]
  },
  {
   "cell_type": "code",
   "execution_count": 9,
   "id": "packed-ranking",
   "metadata": {
    "id": "packed-ranking",
    "outputId": "d57566f1-f91e-43d1-dd01-5446494077a1"
   },
   "outputs": [
    {
     "data": {
      "text/html": [
       "<div>\n",
       "<style scoped>\n",
       "    .dataframe tbody tr th:only-of-type {\n",
       "        vertical-align: middle;\n",
       "    }\n",
       "\n",
       "    .dataframe tbody tr th {\n",
       "        vertical-align: top;\n",
       "    }\n",
       "\n",
       "    .dataframe thead th {\n",
       "        text-align: right;\n",
       "    }\n",
       "</style>\n",
       "<table border=\"1\" class=\"dataframe\">\n",
       "  <thead>\n",
       "    <tr style=\"text-align: right;\">\n",
       "      <th></th>\n",
       "      <th>country</th>\n",
       "      <th>iso_code</th>\n",
       "      <th>date</th>\n",
       "      <th>total_vaccinations</th>\n",
       "      <th>people_vaccinated</th>\n",
       "      <th>people_fully_vaccinated</th>\n",
       "      <th>daily_vaccinations_raw</th>\n",
       "      <th>daily_vaccinations</th>\n",
       "      <th>total_vaccinations_per_hundred</th>\n",
       "      <th>people_vaccinated_per_hundred</th>\n",
       "      <th>people_fully_vaccinated_per_hundred</th>\n",
       "      <th>daily_vaccinations_per_million</th>\n",
       "      <th>vaccines</th>\n",
       "      <th>source_name</th>\n",
       "      <th>source_website</th>\n",
       "    </tr>\n",
       "  </thead>\n",
       "  <tbody>\n",
       "    <tr>\n",
       "      <th>0</th>\n",
       "      <td>Argentina</td>\n",
       "      <td>ARG</td>\n",
       "      <td>2020-12-29</td>\n",
       "      <td>700</td>\n",
       "      <td>&lt;NA&gt;</td>\n",
       "      <td>&lt;NA&gt;</td>\n",
       "      <td>NaN</td>\n",
       "      <td>&lt;NA&gt;</td>\n",
       "      <td>0.00</td>\n",
       "      <td>NaN</td>\n",
       "      <td>NaN</td>\n",
       "      <td>&lt;NA&gt;</td>\n",
       "      <td>Sputnik V</td>\n",
       "      <td>Ministry of Health</td>\n",
       "      <td>http://datos.salud.gob.ar/dataset/vacunas-cont...</td>\n",
       "    </tr>\n",
       "    <tr>\n",
       "      <th>1</th>\n",
       "      <td>Argentina</td>\n",
       "      <td>ARG</td>\n",
       "      <td>2020-12-30</td>\n",
       "      <td>&lt;NA&gt;</td>\n",
       "      <td>&lt;NA&gt;</td>\n",
       "      <td>&lt;NA&gt;</td>\n",
       "      <td>NaN</td>\n",
       "      <td>15656</td>\n",
       "      <td>NaN</td>\n",
       "      <td>NaN</td>\n",
       "      <td>NaN</td>\n",
       "      <td>346</td>\n",
       "      <td>Sputnik V</td>\n",
       "      <td>Ministry of Health</td>\n",
       "      <td>http://datos.salud.gob.ar/dataset/vacunas-cont...</td>\n",
       "    </tr>\n",
       "    <tr>\n",
       "      <th>2</th>\n",
       "      <td>Argentina</td>\n",
       "      <td>ARG</td>\n",
       "      <td>2020-12-31</td>\n",
       "      <td>32013</td>\n",
       "      <td>&lt;NA&gt;</td>\n",
       "      <td>&lt;NA&gt;</td>\n",
       "      <td>NaN</td>\n",
       "      <td>15656</td>\n",
       "      <td>0.07</td>\n",
       "      <td>NaN</td>\n",
       "      <td>NaN</td>\n",
       "      <td>346</td>\n",
       "      <td>Sputnik V</td>\n",
       "      <td>Ministry of Health</td>\n",
       "      <td>http://datos.salud.gob.ar/dataset/vacunas-cont...</td>\n",
       "    </tr>\n",
       "    <tr>\n",
       "      <th>3</th>\n",
       "      <td>Argentina</td>\n",
       "      <td>ARG</td>\n",
       "      <td>2021-01-01</td>\n",
       "      <td>&lt;NA&gt;</td>\n",
       "      <td>&lt;NA&gt;</td>\n",
       "      <td>&lt;NA&gt;</td>\n",
       "      <td>NaN</td>\n",
       "      <td>11070</td>\n",
       "      <td>NaN</td>\n",
       "      <td>NaN</td>\n",
       "      <td>NaN</td>\n",
       "      <td>245</td>\n",
       "      <td>Sputnik V</td>\n",
       "      <td>Ministry of Health</td>\n",
       "      <td>http://datos.salud.gob.ar/dataset/vacunas-cont...</td>\n",
       "    </tr>\n",
       "    <tr>\n",
       "      <th>4</th>\n",
       "      <td>Argentina</td>\n",
       "      <td>ARG</td>\n",
       "      <td>2021-01-02</td>\n",
       "      <td>&lt;NA&gt;</td>\n",
       "      <td>&lt;NA&gt;</td>\n",
       "      <td>&lt;NA&gt;</td>\n",
       "      <td>NaN</td>\n",
       "      <td>8776</td>\n",
       "      <td>NaN</td>\n",
       "      <td>NaN</td>\n",
       "      <td>NaN</td>\n",
       "      <td>194</td>\n",
       "      <td>Sputnik V</td>\n",
       "      <td>Ministry of Health</td>\n",
       "      <td>http://datos.salud.gob.ar/dataset/vacunas-cont...</td>\n",
       "    </tr>\n",
       "  </tbody>\n",
       "</table>\n",
       "</div>"
      ],
      "text/plain": [
       "     country iso_code        date  total_vaccinations  people_vaccinated  \\\n",
       "0  Argentina      ARG  2020-12-29                 700               <NA>   \n",
       "1  Argentina      ARG  2020-12-30                <NA>               <NA>   \n",
       "2  Argentina      ARG  2020-12-31               32013               <NA>   \n",
       "3  Argentina      ARG  2021-01-01                <NA>               <NA>   \n",
       "4  Argentina      ARG  2021-01-02                <NA>               <NA>   \n",
       "\n",
       "   people_fully_vaccinated  daily_vaccinations_raw  daily_vaccinations  \\\n",
       "0                     <NA>                     NaN                <NA>   \n",
       "1                     <NA>                     NaN               15656   \n",
       "2                     <NA>                     NaN               15656   \n",
       "3                     <NA>                     NaN               11070   \n",
       "4                     <NA>                     NaN                8776   \n",
       "\n",
       "   total_vaccinations_per_hundred  people_vaccinated_per_hundred  \\\n",
       "0                            0.00                            NaN   \n",
       "1                             NaN                            NaN   \n",
       "2                            0.07                            NaN   \n",
       "3                             NaN                            NaN   \n",
       "4                             NaN                            NaN   \n",
       "\n",
       "   people_fully_vaccinated_per_hundred  daily_vaccinations_per_million  \\\n",
       "0                                  NaN                            <NA>   \n",
       "1                                  NaN                             346   \n",
       "2                                  NaN                             346   \n",
       "3                                  NaN                             245   \n",
       "4                                  NaN                             194   \n",
       "\n",
       "    vaccines         source_name  \\\n",
       "0  Sputnik V  Ministry of Health   \n",
       "1  Sputnik V  Ministry of Health   \n",
       "2  Sputnik V  Ministry of Health   \n",
       "3  Sputnik V  Ministry of Health   \n",
       "4  Sputnik V  Ministry of Health   \n",
       "\n",
       "                                      source_website  \n",
       "0  http://datos.salud.gob.ar/dataset/vacunas-cont...  \n",
       "1  http://datos.salud.gob.ar/dataset/vacunas-cont...  \n",
       "2  http://datos.salud.gob.ar/dataset/vacunas-cont...  \n",
       "3  http://datos.salud.gob.ar/dataset/vacunas-cont...  \n",
       "4  http://datos.salud.gob.ar/dataset/vacunas-cont...  "
      ]
     },
     "execution_count": 9,
     "metadata": {},
     "output_type": "execute_result"
    }
   ],
   "source": [
    "df = pd.read_csv('sources/country_vaccinations.csv', \n",
    "                 dtype={\"total_vaccinations\": \"Int64\", \n",
    "                        \"people_vaccinated\": \"Int64\", \n",
    "                        \"people_fully_vaccinated\": \"Int64\", \n",
    "                        \"daily_vaccinations\": \"Int64\", \n",
    "                        \"daily_vaccinations_per_million\": \"Int64\"}, encoding='utf-8')\n",
    "df.head()"
   ]
  },
  {
   "cell_type": "code",
   "execution_count": 10,
   "id": "republican-plaintiff",
   "metadata": {
    "id": "republican-plaintiff",
    "outputId": "275069f9-1de2-4707-c791-902b843bff46",
    "scrolled": true
   },
   "outputs": [
    {
     "data": {
      "text/plain": [
       "country                                 object\n",
       "iso_code                                object\n",
       "date                                    object\n",
       "total_vaccinations                       Int64\n",
       "people_vaccinated                        Int64\n",
       "people_fully_vaccinated                  Int64\n",
       "daily_vaccinations_raw                 float64\n",
       "daily_vaccinations                       Int64\n",
       "total_vaccinations_per_hundred         float64\n",
       "people_vaccinated_per_hundred          float64\n",
       "people_fully_vaccinated_per_hundred    float64\n",
       "daily_vaccinations_per_million           Int64\n",
       "vaccines                                object\n",
       "source_name                             object\n",
       "source_website                          object\n",
       "dtype: object"
      ]
     },
     "execution_count": 10,
     "metadata": {},
     "output_type": "execute_result"
    }
   ],
   "source": [
    "df.loc[df.source_website == 'Kuwait', ['source_website']]\n",
    "df.dtypes"
   ]
  },
  {
   "cell_type": "markdown",
   "id": "played-institution",
   "metadata": {
    "id": "played-institution"
   },
   "source": [
    "### Transformar antes de almacenar en mysql."
   ]
  },
  {
   "cell_type": "code",
   "execution_count": 11,
   "id": "corporate-voltage",
   "metadata": {
    "id": "corporate-voltage"
   },
   "outputs": [],
   "source": [
    "u = df.select_dtypes(object)\n",
    "df[u.columns] = u.apply(\n",
    "    lambda x: x.str.encode('ascii', 'ignore').str.decode('ascii'))"
   ]
  },
  {
   "cell_type": "markdown",
   "id": "coupled-bulgaria",
   "metadata": {
    "id": "coupled-bulgaria"
   },
   "source": [
    "### Load data transformada a mysql."
   ]
  },
  {
   "cell_type": "code",
   "execution_count": 12,
   "id": "fancy-reception",
   "metadata": {
    "id": "fancy-reception",
    "outputId": "177dbad1-aba1-49fd-9490-79ac49ee0b5c"
   },
   "outputs": [
    {
     "name": "stdout",
     "output_type": "stream",
     "text": [
      "\n",
      "CREATE TABLE `test.vaccinations_per_country` (\n",
      "\t`index` BIGINT, \n",
      "\tcountry TEXT, \n",
      "\tiso_code TEXT, \n",
      "\tdate TEXT, \n",
      "\ttotal_vaccinations BIGINT, \n",
      "\tpeople_vaccinated BIGINT, \n",
      "\tpeople_fully_vaccinated BIGINT, \n",
      "\tdaily_vaccinations_raw FLOAT(53), \n",
      "\tdaily_vaccinations BIGINT, \n",
      "\ttotal_vaccinations_per_hundred FLOAT(53), \n",
      "\tpeople_vaccinated_per_hundred FLOAT(53), \n",
      "\tpeople_fully_vaccinated_per_hundred FLOAT(53), \n",
      "\tdaily_vaccinations_per_million BIGINT, \n",
      "\tvaccines TEXT, \n",
      "\tsource_name TEXT, \n",
      "\tsource_website TEXT\n",
      ")\n",
      "\n",
      "\n"
     ]
    },
    {
     "data": {
      "text/plain": [
       "str"
      ]
     },
     "execution_count": 12,
     "metadata": {},
     "output_type": "execute_result"
    }
   ],
   "source": [
    "create_table_query = pd.io.sql.get_schema(df.reset_index(), 'test.vaccinations_per_country', con=engine)\n",
    "print(create_table_query)\n",
    "type(create_table_query)"
   ]
  },
  {
   "cell_type": "code",
   "execution_count": 16,
   "id": "invisible-scenario",
   "metadata": {
    "id": "invisible-scenario"
   },
   "outputs": [],
   "source": [
    "#with open(\"init.sql\", \"a\") as text_file:\n",
    "    #text_file.write(\"\\n\" + create_table_query)\n",
    "    \n",
    "with open(\"schemas/vaccinations_per_country.sql\", \"w\") as text_file:\n",
    "    text_file.write(create_table_query)"
   ]
  },
  {
   "cell_type": "code",
   "execution_count": 17,
   "id": "cooperative-somerset",
   "metadata": {
    "id": "cooperative-somerset",
    "outputId": "45b67edf-7263-433b-945f-8ad1c579d327"
   },
   "outputs": [
    {
     "name": "stdout",
     "output_type": "stream",
     "text": [
      "2021-02-04 06:36:02,358 INFO sqlalchemy.engine.base.OptionEngine DESCRIBE `test.vaccinations_per_country`\n",
      "2021-02-04 06:36:02,360 INFO sqlalchemy.engine.base.OptionEngine {}\n",
      "2021-02-04 06:36:02,366 INFO sqlalchemy.engine.base.OptionEngine ROLLBACK\n",
      "test.vaccinations_per_country no existe\n",
      "2021-02-04 06:36:02,396 INFO sqlalchemy.engine.base.Engine DESCRIBE `test`.`vaccinations_per_country`\n",
      "2021-02-04 06:36:02,398 INFO sqlalchemy.engine.base.Engine {}\n",
      "2021-02-04 06:36:02,425 INFO sqlalchemy.engine.base.Engine BEGIN (implicit)\n",
      "2021-02-04 06:36:02,522 INFO sqlalchemy.engine.base.Engine INSERT INTO test.vaccinations_per_country (`index`, country, iso_code, date, total_vaccinations, people_vaccinated, people_fully_vaccinated, daily_vaccinations_raw, daily_vaccinations, total_vaccinations_per_hundred, people_vaccinated_per_hundred, people_fully_vaccinated_per_hundred, daily_vaccinations_per_million, vaccines, source_name, source_website) VALUES (%(index)s, %(country)s, %(iso_code)s, %(date)s, %(total_vaccinations)s, %(people_vaccinated)s, %(people_fully_vaccinated)s, %(daily_vaccinations_raw)s, %(daily_vaccinations)s, %(total_vaccinations_per_hundred)s, %(people_vaccinated_per_hundred)s, %(people_fully_vaccinated_per_hundred)s, %(daily_vaccinations_per_million)s, %(vaccines)s, %(source_name)s, %(source_website)s)\n",
      "2021-02-04 06:36:02,524 INFO sqlalchemy.engine.base.Engine ({'index': 0, 'country': 'Argentina', 'iso_code': 'ARG', 'date': '2020-12-29', 'total_vaccinations': 700, 'people_vaccinated': None, 'people_fully_vaccinated': None, 'daily_vaccinations_raw': None, 'daily_vaccinations': None, 'total_vaccinations_per_hundred': 0.0, 'people_vaccinated_per_hundred': None, 'people_fully_vaccinated_per_hundred': None, 'daily_vaccinations_per_million': None, 'vaccines': 'Sputnik V', 'source_name': 'Ministry of Health', 'source_website': 'http://datos.salud.gob.ar/dataset/vacunas-contra-covid-19-dosis-aplicadas-en-la-republica-argentina'}, {'index': 1, 'country': 'Argentina', 'iso_code': 'ARG', 'date': '2020-12-30', 'total_vaccinations': None, 'people_vaccinated': None, 'people_fully_vaccinated': None, 'daily_vaccinations_raw': None, 'daily_vaccinations': 15656, 'total_vaccinations_per_hundred': None, 'people_vaccinated_per_hundred': None, 'people_fully_vaccinated_per_hundred': None, 'daily_vaccinations_per_million': 346, 'vaccines': 'Sputnik V', 'source_name': 'Ministry of Health', 'source_website': 'http://datos.salud.gob.ar/dataset/vacunas-contra-covid-19-dosis-aplicadas-en-la-republica-argentina'}, {'index': 2, 'country': 'Argentina', 'iso_code': 'ARG', 'date': '2020-12-31', 'total_vaccinations': 32013, 'people_vaccinated': None, 'people_fully_vaccinated': None, 'daily_vaccinations_raw': None, 'daily_vaccinations': 15656, 'total_vaccinations_per_hundred': 0.07, 'people_vaccinated_per_hundred': None, 'people_fully_vaccinated_per_hundred': None, 'daily_vaccinations_per_million': 346, 'vaccines': 'Sputnik V', 'source_name': 'Ministry of Health', 'source_website': 'http://datos.salud.gob.ar/dataset/vacunas-contra-covid-19-dosis-aplicadas-en-la-republica-argentina'}, {'index': 3, 'country': 'Argentina', 'iso_code': 'ARG', 'date': '2021-01-01', 'total_vaccinations': None, 'people_vaccinated': None, 'people_fully_vaccinated': None, 'daily_vaccinations_raw': None, 'daily_vaccinations': 11070, 'total_vaccinations_per_hundred': None, 'people_vaccinated_per_hundred': None, 'people_fully_vaccinated_per_hundred': None, 'daily_vaccinations_per_million': 245, 'vaccines': 'Sputnik V', 'source_name': 'Ministry of Health', 'source_website': 'http://datos.salud.gob.ar/dataset/vacunas-contra-covid-19-dosis-aplicadas-en-la-republica-argentina'}, {'index': 4, 'country': 'Argentina', 'iso_code': 'ARG', 'date': '2021-01-02', 'total_vaccinations': None, 'people_vaccinated': None, 'people_fully_vaccinated': None, 'daily_vaccinations_raw': None, 'daily_vaccinations': 8776, 'total_vaccinations_per_hundred': None, 'people_vaccinated_per_hundred': None, 'people_fully_vaccinated_per_hundred': None, 'daily_vaccinations_per_million': 194, 'vaccines': 'Sputnik V', 'source_name': 'Ministry of Health', 'source_website': 'http://datos.salud.gob.ar/dataset/vacunas-contra-covid-19-dosis-aplicadas-en-la-republica-argentina'}, {'index': 5, 'country': 'Argentina', 'iso_code': 'ARG', 'date': '2021-01-03', 'total_vaccinations': None, 'people_vaccinated': None, 'people_fully_vaccinated': None, 'daily_vaccinations_raw': None, 'daily_vaccinations': 7400, 'total_vaccinations_per_hundred': None, 'people_vaccinated_per_hundred': None, 'people_fully_vaccinated_per_hundred': None, 'daily_vaccinations_per_million': 164, 'vaccines': 'Sputnik V', 'source_name': 'Ministry of Health', 'source_website': 'http://datos.salud.gob.ar/dataset/vacunas-contra-covid-19-dosis-aplicadas-en-la-republica-argentina'}, {'index': 6, 'country': 'Argentina', 'iso_code': 'ARG', 'date': '2021-01-04', 'total_vaccinations': 39599, 'people_vaccinated': None, 'people_fully_vaccinated': None, 'daily_vaccinations_raw': None, 'daily_vaccinations': 6483, 'total_vaccinations_per_hundred': 0.09, 'people_vaccinated_per_hundred': None, 'people_fully_vaccinated_per_hundred': None, 'daily_vaccinations_per_million': 143, 'vaccines': 'Sputnik V', 'source_name': 'Ministry of Health', 'source_website': 'http://datos.salud.gob.ar/dataset/vacunas-contra-covid-19-dosis-aplicadas-en-la-republica-argentina'}, {'index': 7, 'country': 'Argentina', 'iso_code': 'ARG', 'date': '2021-01-05', 'total_vaccinations': None, 'people_vaccinated': None, 'people_fully_vaccinated': None, 'daily_vaccinations_raw': None, 'daily_vaccinations': 7984, 'total_vaccinations_per_hundred': None, 'people_vaccinated_per_hundred': None, 'people_fully_vaccinated_per_hundred': None, 'daily_vaccinations_per_million': 177, 'vaccines': 'Sputnik V', 'source_name': 'Ministry of Health', 'source_website': 'http://datos.salud.gob.ar/dataset/vacunas-contra-covid-19-dosis-aplicadas-en-la-republica-argentina'}  ... displaying 10 of 1427 total bound parameter sets ...  {'index': 1425, 'country': 'Wales', 'iso_code': None, 'date': '2021-01-22', 'total_vaccinations': 241016, 'people_vaccinated': 240547, 'people_fully_vaccinated': 469, 'daily_vaccinations_raw': 28284.0, 'daily_vaccinations': 15148, 'total_vaccinations_per_hundred': 7.64, 'people_vaccinated_per_hundred': 7.63, 'people_fully_vaccinated_per_hundred': 0.01, 'daily_vaccinations_per_million': 4804, 'vaccines': 'Oxford/AstraZeneca, Pfizer/BioNTech', 'source_name': 'Government of the United Kingdom', 'source_website': 'https://coronavirus.data.gov.uk/details/healthcare'}, {'index': 1426, 'country': 'Wales', 'iso_code': None, 'date': '2021-01-23', 'total_vaccinations': 265054, 'people_vaccinated': 264538, 'people_fully_vaccinated': 516, 'daily_vaccinations_raw': 24038.0, 'daily_vaccinations': 17371, 'total_vaccinations_per_hundred': 8.41, 'people_vaccinated_per_hundred': 8.39, 'people_fully_vaccinated_per_hundred': 0.02, 'daily_vaccinations_per_million': 5510, 'vaccines': 'Oxford/AstraZeneca, Pfizer/BioNTech', 'source_name': 'Government of the United Kingdom', 'source_website': 'https://coronavirus.data.gov.uk/details/healthcare'})\n",
      "2021-02-04 06:36:03,028 INFO sqlalchemy.engine.base.Engine COMMIT\n"
     ]
    }
   ],
   "source": [
    "from sqlalchemy import *\n",
    "\n",
    "if not engine.dialect.has_table(engine, \"test.vaccinations_per_country\"):  # If table don't exist, Create.\n",
    "    print(\"test.vaccinations_per_country no existe\")\n",
    "    #metadata = MetaData(engine)\n",
    "    # Create a table with the appropriate Columns\n",
    "    df.to_sql('vaccinations_per_country', con=engine, schema=\"test\", if_exists='append')\n",
    "    # Implement the creation\n",
    "    #metadata.create_all()"
   ]
  },
  {
   "cell_type": "code",
   "execution_count": 18,
   "id": "invisible-needle",
   "metadata": {
    "id": "invisible-needle",
    "outputId": "cef6e631-7b84-4196-b327-ef89d8e44ac3"
   },
   "outputs": [
    {
     "name": "stdout",
     "output_type": "stream",
     "text": [
      "2021-02-04 06:36:03,775 INFO sqlalchemy.engine.base.Engine BEGIN (implicit)\n",
      "2021-02-04 06:36:03,779 INFO sqlalchemy.engine.base.Engine DELETE FROM test.vaccinations_per_country\n",
      "2021-02-04 06:36:03,783 INFO sqlalchemy.engine.base.Engine {}\n",
      "2021-02-04 06:36:03,809 INFO sqlalchemy.engine.base.Engine DESCRIBE `test`.`vaccinations_per_country`\n",
      "2021-02-04 06:36:03,812 INFO sqlalchemy.engine.base.Engine {}\n",
      "2021-02-04 06:36:03,920 INFO sqlalchemy.engine.base.Engine INSERT INTO test.vaccinations_per_country (country, iso_code, date, total_vaccinations, people_vaccinated, people_fully_vaccinated, daily_vaccinations_raw, daily_vaccinations, total_vaccinations_per_hundred, people_vaccinated_per_hundred, people_fully_vaccinated_per_hundred, daily_vaccinations_per_million, vaccines, source_name, source_website) VALUES (%(country)s, %(iso_code)s, %(date)s, %(total_vaccinations)s, %(people_vaccinated)s, %(people_fully_vaccinated)s, %(daily_vaccinations_raw)s, %(daily_vaccinations)s, %(total_vaccinations_per_hundred)s, %(people_vaccinated_per_hundred)s, %(people_fully_vaccinated_per_hundred)s, %(daily_vaccinations_per_million)s, %(vaccines)s, %(source_name)s, %(source_website)s)\n",
      "2021-02-04 06:36:03,922 INFO sqlalchemy.engine.base.Engine ({'country': 'Argentina', 'iso_code': 'ARG', 'date': '2020-12-29', 'total_vaccinations': 700, 'people_vaccinated': None, 'people_fully_vaccinated': None, 'daily_vaccinations_raw': None, 'daily_vaccinations': None, 'total_vaccinations_per_hundred': 0.0, 'people_vaccinated_per_hundred': None, 'people_fully_vaccinated_per_hundred': None, 'daily_vaccinations_per_million': None, 'vaccines': 'Sputnik V', 'source_name': 'Ministry of Health', 'source_website': 'http://datos.salud.gob.ar/dataset/vacunas-contra-covid-19-dosis-aplicadas-en-la-republica-argentina'}, {'country': 'Argentina', 'iso_code': 'ARG', 'date': '2020-12-30', 'total_vaccinations': None, 'people_vaccinated': None, 'people_fully_vaccinated': None, 'daily_vaccinations_raw': None, 'daily_vaccinations': 15656, 'total_vaccinations_per_hundred': None, 'people_vaccinated_per_hundred': None, 'people_fully_vaccinated_per_hundred': None, 'daily_vaccinations_per_million': 346, 'vaccines': 'Sputnik V', 'source_name': 'Ministry of Health', 'source_website': 'http://datos.salud.gob.ar/dataset/vacunas-contra-covid-19-dosis-aplicadas-en-la-republica-argentina'}, {'country': 'Argentina', 'iso_code': 'ARG', 'date': '2020-12-31', 'total_vaccinations': 32013, 'people_vaccinated': None, 'people_fully_vaccinated': None, 'daily_vaccinations_raw': None, 'daily_vaccinations': 15656, 'total_vaccinations_per_hundred': 0.07, 'people_vaccinated_per_hundred': None, 'people_fully_vaccinated_per_hundred': None, 'daily_vaccinations_per_million': 346, 'vaccines': 'Sputnik V', 'source_name': 'Ministry of Health', 'source_website': 'http://datos.salud.gob.ar/dataset/vacunas-contra-covid-19-dosis-aplicadas-en-la-republica-argentina'}, {'country': 'Argentina', 'iso_code': 'ARG', 'date': '2021-01-01', 'total_vaccinations': None, 'people_vaccinated': None, 'people_fully_vaccinated': None, 'daily_vaccinations_raw': None, 'daily_vaccinations': 11070, 'total_vaccinations_per_hundred': None, 'people_vaccinated_per_hundred': None, 'people_fully_vaccinated_per_hundred': None, 'daily_vaccinations_per_million': 245, 'vaccines': 'Sputnik V', 'source_name': 'Ministry of Health', 'source_website': 'http://datos.salud.gob.ar/dataset/vacunas-contra-covid-19-dosis-aplicadas-en-la-republica-argentina'}, {'country': 'Argentina', 'iso_code': 'ARG', 'date': '2021-01-02', 'total_vaccinations': None, 'people_vaccinated': None, 'people_fully_vaccinated': None, 'daily_vaccinations_raw': None, 'daily_vaccinations': 8776, 'total_vaccinations_per_hundred': None, 'people_vaccinated_per_hundred': None, 'people_fully_vaccinated_per_hundred': None, 'daily_vaccinations_per_million': 194, 'vaccines': 'Sputnik V', 'source_name': 'Ministry of Health', 'source_website': 'http://datos.salud.gob.ar/dataset/vacunas-contra-covid-19-dosis-aplicadas-en-la-republica-argentina'}, {'country': 'Argentina', 'iso_code': 'ARG', 'date': '2021-01-03', 'total_vaccinations': None, 'people_vaccinated': None, 'people_fully_vaccinated': None, 'daily_vaccinations_raw': None, 'daily_vaccinations': 7400, 'total_vaccinations_per_hundred': None, 'people_vaccinated_per_hundred': None, 'people_fully_vaccinated_per_hundred': None, 'daily_vaccinations_per_million': 164, 'vaccines': 'Sputnik V', 'source_name': 'Ministry of Health', 'source_website': 'http://datos.salud.gob.ar/dataset/vacunas-contra-covid-19-dosis-aplicadas-en-la-republica-argentina'}, {'country': 'Argentina', 'iso_code': 'ARG', 'date': '2021-01-04', 'total_vaccinations': 39599, 'people_vaccinated': None, 'people_fully_vaccinated': None, 'daily_vaccinations_raw': None, 'daily_vaccinations': 6483, 'total_vaccinations_per_hundred': 0.09, 'people_vaccinated_per_hundred': None, 'people_fully_vaccinated_per_hundred': None, 'daily_vaccinations_per_million': 143, 'vaccines': 'Sputnik V', 'source_name': 'Ministry of Health', 'source_website': 'http://datos.salud.gob.ar/dataset/vacunas-contra-covid-19-dosis-aplicadas-en-la-republica-argentina'}, {'country': 'Argentina', 'iso_code': 'ARG', 'date': '2021-01-05', 'total_vaccinations': None, 'people_vaccinated': None, 'people_fully_vaccinated': None, 'daily_vaccinations_raw': None, 'daily_vaccinations': 7984, 'total_vaccinations_per_hundred': None, 'people_vaccinated_per_hundred': None, 'people_fully_vaccinated_per_hundred': None, 'daily_vaccinations_per_million': 177, 'vaccines': 'Sputnik V', 'source_name': 'Ministry of Health', 'source_website': 'http://datos.salud.gob.ar/dataset/vacunas-contra-covid-19-dosis-aplicadas-en-la-republica-argentina'}  ... displaying 10 of 1427 total bound parameter sets ...  {'country': 'Wales', 'iso_code': None, 'date': '2021-01-22', 'total_vaccinations': 241016, 'people_vaccinated': 240547, 'people_fully_vaccinated': 469, 'daily_vaccinations_raw': 28284.0, 'daily_vaccinations': 15148, 'total_vaccinations_per_hundred': 7.64, 'people_vaccinated_per_hundred': 7.63, 'people_fully_vaccinated_per_hundred': 0.01, 'daily_vaccinations_per_million': 4804, 'vaccines': 'Oxford/AstraZeneca, Pfizer/BioNTech', 'source_name': 'Government of the United Kingdom', 'source_website': 'https://coronavirus.data.gov.uk/details/healthcare'}, {'country': 'Wales', 'iso_code': None, 'date': '2021-01-23', 'total_vaccinations': 265054, 'people_vaccinated': 264538, 'people_fully_vaccinated': 516, 'daily_vaccinations_raw': 24038.0, 'daily_vaccinations': 17371, 'total_vaccinations_per_hundred': 8.41, 'people_vaccinated_per_hundred': 8.39, 'people_fully_vaccinated_per_hundred': 0.02, 'daily_vaccinations_per_million': 5510, 'vaccines': 'Oxford/AstraZeneca, Pfizer/BioNTech', 'source_name': 'Government of the United Kingdom', 'source_website': 'https://coronavirus.data.gov.uk/details/healthcare'})\n",
      "2021-02-04 06:36:04,347 INFO sqlalchemy.engine.base.Engine COMMIT\n"
     ]
    }
   ],
   "source": [
    "with engine.begin() as transaction:\n",
    "    transaction.execute('DELETE FROM test.vaccinations_per_country')\n",
    "    df.to_sql('vaccinations_per_country', con=transaction, schema='test', if_exists='append', index=False)"
   ]
  }
 ],
 "metadata": {
  "colab": {
   "collapsed_sections": [
    "medieval-india",
    "fewer-comment"
   ],
   "name": "1 vaccinations_per_country.ipynb",
   "provenance": []
  },
  "kernelspec": {
   "display_name": "Python 3",
   "language": "python",
   "name": "python3"
  },
  "language_info": {
   "codemirror_mode": {
    "name": "ipython",
    "version": 3
   },
   "file_extension": ".py",
   "mimetype": "text/x-python",
   "name": "python",
   "nbconvert_exporter": "python",
   "pygments_lexer": "ipython3",
   "version": "3.8.6"
  }
 },
 "nbformat": 4,
 "nbformat_minor": 5
}
