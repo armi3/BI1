{
 "cells": [
  {
   "cell_type": "markdown",
   "id": "Y6wd-7IfHg-4",
   "metadata": {
    "id": "Y6wd-7IfHg-4"
   },
   "source": [
    "### Instalar librerías y reiniciar kernel."
   ]
  },
  {
   "cell_type": "code",
   "execution_count": 1,
   "id": "47mj6l5YHlFT",
   "metadata": {
    "colab": {
     "base_uri": "https://localhost:8080/"
    },
    "id": "47mj6l5YHlFT",
    "outputId": "657eb8ab-f441-4a60-8d78-9e78c7d35055"
   },
   "outputs": [
    {
     "name": "stdout",
     "output_type": "stream",
     "text": [
      "Requirement already satisfied: mysql-connector in /opt/conda/lib/python3.8/site-packages (2.2.9)\n",
      "Note: you may need to restart the kernel to use updated packages.\n"
     ]
    }
   ],
   "source": [
    "pip install mysql-connector"
   ]
  },
  {
   "cell_type": "code",
   "execution_count": 2,
   "id": "x-kHLt0DHmEG",
   "metadata": {
    "colab": {
     "base_uri": "https://localhost:8080/"
    },
    "id": "x-kHLt0DHmEG",
    "outputId": "4e5dbb15-3b4d-42e7-bc97-71f5c5607c91"
   },
   "outputs": [
    {
     "name": "stdout",
     "output_type": "stream",
     "text": [
      "Requirement already satisfied: pandas in /opt/conda/lib/python3.8/site-packages (1.2.1)\n",
      "Requirement already satisfied: numpy>=1.16.5 in /opt/conda/lib/python3.8/site-packages (from pandas) (1.20.0)\n",
      "Requirement already satisfied: pytz>=2017.3 in /opt/conda/lib/python3.8/site-packages (from pandas) (2020.5)\n",
      "Requirement already satisfied: python-dateutil>=2.7.3 in /opt/conda/lib/python3.8/site-packages (from pandas) (2.8.1)\n",
      "Requirement already satisfied: six>=1.5 in /opt/conda/lib/python3.8/site-packages (from python-dateutil>=2.7.3->pandas) (1.15.0)\n",
      "Note: you may need to restart the kernel to use updated packages.\n"
     ]
    }
   ],
   "source": [
    "pip install pandas"
   ]
  },
  {
   "cell_type": "markdown",
   "id": "phKYfMfwImLT",
   "metadata": {
    "id": "phKYfMfwImLT"
   },
   "source": [
    "### Importaciones"
   ]
  },
  {
   "cell_type": "code",
   "execution_count": 3,
   "id": "kNBCXZvvIovd",
   "metadata": {
    "id": "kNBCXZvvIovd"
   },
   "outputs": [],
   "source": [
    "import pandas as pd\n",
    "from sqlalchemy import create_engine\n",
    "from sqlalchemy import inspect\n",
    "from sqlalchemy import *\n",
    "import json\n",
    "import numpy as np"
   ]
  },
  {
   "cell_type": "markdown",
   "id": "A1xr5LeiIA-s",
   "metadata": {
    "id": "A1xr5LeiIA-s"
   },
   "source": [
    "### Crear acceso a engine de mysql e inspeccionar."
   ]
  },
  {
   "cell_type": "code",
   "execution_count": 4,
   "id": "6NsxGlltIbLG",
   "metadata": {
    "id": "6NsxGlltIbLG"
   },
   "outputs": [],
   "source": [
    "engine = create_engine('mysql+mysqlconnector://test:test123@db/test', echo = True)"
   ]
  },
  {
   "cell_type": "code",
   "execution_count": 5,
   "id": "HA5jy_jMIulx",
   "metadata": {
    "id": "HA5jy_jMIulx"
   },
   "outputs": [
    {
     "name": "stdout",
     "output_type": "stream",
     "text": [
      "2021-02-04 06:48:17,340 INFO sqlalchemy.engine.base.Engine SHOW VARIABLES LIKE 'sql_mode'\n",
      "2021-02-04 06:48:17,342 INFO sqlalchemy.engine.base.Engine {}\n",
      "2021-02-04 06:48:17,348 INFO sqlalchemy.engine.base.Engine SHOW VARIABLES LIKE 'lower_case_table_names'\n",
      "2021-02-04 06:48:17,351 INFO sqlalchemy.engine.base.Engine {}\n",
      "2021-02-04 06:48:17,356 INFO sqlalchemy.engine.base.Engine SELECT DATABASE()\n",
      "2021-02-04 06:48:17,358 INFO sqlalchemy.engine.base.Engine {}\n",
      "2021-02-04 06:48:17,365 INFO sqlalchemy.engine.base.Engine SELECT CAST('test plain returns' AS CHAR(60)) AS anon_1\n",
      "2021-02-04 06:48:17,367 INFO sqlalchemy.engine.base.Engine {}\n",
      "2021-02-04 06:48:17,372 INFO sqlalchemy.engine.base.Engine SELECT CAST('test unicode returns' AS CHAR(60)) AS anon_1\n",
      "2021-02-04 06:48:17,374 INFO sqlalchemy.engine.base.Engine {}\n",
      "2021-02-04 06:48:17,381 INFO sqlalchemy.engine.base.Engine DESCRIBE `select current_date`\n",
      "2021-02-04 06:48:17,384 INFO sqlalchemy.engine.base.Engine {}\n",
      "2021-02-04 06:48:17,392 INFO sqlalchemy.engine.base.Engine ROLLBACK\n",
      "2021-02-04 06:48:17,396 INFO sqlalchemy.engine.base.OptionEngine select current_date\n",
      "2021-02-04 06:48:17,398 INFO sqlalchemy.engine.base.OptionEngine {}\n"
     ]
    },
    {
     "data": {
      "text/html": [
       "<div>\n",
       "<style scoped>\n",
       "    .dataframe tbody tr th:only-of-type {\n",
       "        vertical-align: middle;\n",
       "    }\n",
       "\n",
       "    .dataframe tbody tr th {\n",
       "        vertical-align: top;\n",
       "    }\n",
       "\n",
       "    .dataframe thead th {\n",
       "        text-align: right;\n",
       "    }\n",
       "</style>\n",
       "<table border=\"1\" class=\"dataframe\">\n",
       "  <thead>\n",
       "    <tr style=\"text-align: right;\">\n",
       "      <th></th>\n",
       "      <th>current_date</th>\n",
       "    </tr>\n",
       "  </thead>\n",
       "  <tbody>\n",
       "    <tr>\n",
       "      <th>0</th>\n",
       "      <td>2021-02-04</td>\n",
       "    </tr>\n",
       "  </tbody>\n",
       "</table>\n",
       "</div>"
      ],
      "text/plain": [
       "  current_date\n",
       "0   2021-02-04"
      ]
     },
     "execution_count": 5,
     "metadata": {},
     "output_type": "execute_result"
    }
   ],
   "source": [
    "pd.read_sql(\"select current_date\", con=engine)"
   ]
  },
  {
   "cell_type": "code",
   "execution_count": 6,
   "id": "mZSrAD97JEaE",
   "metadata": {
    "id": "mZSrAD97JEaE"
   },
   "outputs": [
    {
     "name": "stdout",
     "output_type": "stream",
     "text": [
      "2021-02-04 06:48:17,472 INFO sqlalchemy.engine.base.Engine SHOW schemas\n",
      "2021-02-04 06:48:17,474 INFO sqlalchemy.engine.base.Engine {}\n",
      "schema: information_schema\n",
      "2021-02-04 06:48:17,481 INFO sqlalchemy.engine.base.Engine SHOW FULL TABLES FROM `information_schema`\n",
      "2021-02-04 06:48:17,483 INFO sqlalchemy.engine.base.Engine {}\n",
      "schema: test\n",
      "2021-02-04 06:48:17,493 INFO sqlalchemy.engine.base.Engine SHOW FULL TABLES FROM `test`\n",
      "2021-02-04 06:48:17,495 INFO sqlalchemy.engine.base.Engine {}\n",
      "2021-02-04 06:48:17,543 INFO sqlalchemy.engine.base.OptionEngine SHOW CREATE TABLE `test`.`unconfirmed_transactions`\n",
      "2021-02-04 06:48:17,545 INFO sqlalchemy.engine.base.OptionEngine {}\n",
      "Column: {'name': 'index', 'type': BIGINT(display_width=20), 'default': None, 'comment': None, 'nullable': True, 'autoincrement': False}\n",
      "Column: {'name': 'lock_time', 'type': BIGINT(display_width=20), 'default': None, 'comment': None, 'nullable': True, 'autoincrement': False}\n",
      "Column: {'name': 'ver', 'type': BIGINT(display_width=20), 'default': None, 'comment': None, 'nullable': True, 'autoincrement': False}\n",
      "Column: {'name': 'size', 'type': BIGINT(display_width=20), 'default': None, 'comment': None, 'nullable': True, 'autoincrement': False}\n",
      "Column: {'name': 'weight', 'type': BIGINT(display_width=20), 'default': None, 'comment': None, 'nullable': True, 'autoincrement': False}\n",
      "Column: {'name': 'time', 'type': BIGINT(display_width=20), 'default': None, 'comment': None, 'nullable': True, 'autoincrement': False}\n",
      "Column: {'name': 'tx_index', 'type': BIGINT(display_width=20), 'default': None, 'comment': None, 'nullable': True, 'autoincrement': False}\n",
      "Column: {'name': 'vin_sz', 'type': BIGINT(display_width=20), 'default': None, 'comment': None, 'nullable': True, 'autoincrement': False}\n",
      "Column: {'name': 'hash', 'type': TEXT(), 'default': None, 'comment': None, 'nullable': True}\n",
      "Column: {'name': 'vout_sz', 'type': BIGINT(display_width=20), 'default': None, 'comment': None, 'nullable': True, 'autoincrement': False}\n",
      "Column: {'name': 'relayed_by', 'type': TEXT(), 'default': None, 'comment': None, 'nullable': True}\n",
      "2021-02-04 06:48:17,560 INFO sqlalchemy.engine.base.OptionEngine SHOW CREATE TABLE `test`.`vaccinations_per_country`\n",
      "2021-02-04 06:48:17,561 INFO sqlalchemy.engine.base.OptionEngine {}\n",
      "Column: {'name': 'index', 'type': BIGINT(display_width=20), 'default': None, 'comment': None, 'nullable': True, 'autoincrement': False}\n",
      "Column: {'name': 'country', 'type': TEXT(), 'default': None, 'comment': None, 'nullable': True}\n",
      "Column: {'name': 'iso_code', 'type': TEXT(), 'default': None, 'comment': None, 'nullable': True}\n",
      "Column: {'name': 'date', 'type': TEXT(), 'default': None, 'comment': None, 'nullable': True}\n",
      "Column: {'name': 'total_vaccinations', 'type': BIGINT(display_width=20), 'default': None, 'comment': None, 'nullable': True, 'autoincrement': False}\n",
      "Column: {'name': 'people_vaccinated', 'type': BIGINT(display_width=20), 'default': None, 'comment': None, 'nullable': True, 'autoincrement': False}\n",
      "Column: {'name': 'people_fully_vaccinated', 'type': BIGINT(display_width=20), 'default': None, 'comment': None, 'nullable': True, 'autoincrement': False}\n",
      "Column: {'name': 'daily_vaccinations_raw', 'type': DOUBLE(asdecimal=True), 'default': None, 'comment': None, 'nullable': True}\n",
      "Column: {'name': 'daily_vaccinations', 'type': BIGINT(display_width=20), 'default': None, 'comment': None, 'nullable': True, 'autoincrement': False}\n",
      "Column: {'name': 'total_vaccinations_per_hundred', 'type': DOUBLE(asdecimal=True), 'default': None, 'comment': None, 'nullable': True}\n",
      "Column: {'name': 'people_vaccinated_per_hundred', 'type': DOUBLE(asdecimal=True), 'default': None, 'comment': None, 'nullable': True}\n",
      "Column: {'name': 'people_fully_vaccinated_per_hundred', 'type': DOUBLE(asdecimal=True), 'default': None, 'comment': None, 'nullable': True}\n",
      "Column: {'name': 'daily_vaccinations_per_million', 'type': BIGINT(display_width=20), 'default': None, 'comment': None, 'nullable': True, 'autoincrement': False}\n",
      "Column: {'name': 'vaccines', 'type': TEXT(), 'default': None, 'comment': None, 'nullable': True}\n",
      "Column: {'name': 'source_name', 'type': TEXT(), 'default': None, 'comment': None, 'nullable': True}\n",
      "Column: {'name': 'source_website', 'type': TEXT(), 'default': None, 'comment': None, 'nullable': True}\n"
     ]
    }
   ],
   "source": [
    "inspector = inspect(engine)\n",
    "schemas = inspector.get_schema_names()\n",
    "\n",
    "for schema in schemas:\n",
    "    print(\"schema: %s\" % schema)\n",
    "    for table_name in inspector.get_table_names(schema=schema):\n",
    "        for column in inspector.get_columns(table_name, schema=schema):\n",
    "            print(\"Column: %s\" % column)"
   ]
  },
  {
   "cell_type": "code",
   "execution_count": 7,
   "id": "r-bAYn23JJe2",
   "metadata": {
    "id": "r-bAYn23JJe2"
   },
   "outputs": [
    {
     "name": "stdout",
     "output_type": "stream",
     "text": [
      "2021-02-04 06:48:17,586 INFO sqlalchemy.engine.base.Engine SHOW FULL TABLES FROM `test`\n",
      "2021-02-04 06:48:17,588 INFO sqlalchemy.engine.base.Engine {}\n",
      "['unconfirmed_transactions', 'vaccinations_per_country']\n"
     ]
    }
   ],
   "source": [
    "print(engine.table_names())"
   ]
  },
  {
   "cell_type": "markdown",
   "id": "BEWXcOH5I1sk",
   "metadata": {
    "id": "BEWXcOH5I1sk"
   },
   "source": [
    "# ETL 3"
   ]
  },
  {
   "cell_type": "markdown",
   "id": "WDkPQlR4I9r7",
   "metadata": {
    "id": "WDkPQlR4I9r7"
   },
   "source": [
    "## Extraer"
   ]
  },
  {
   "cell_type": "code",
   "execution_count": 8,
   "id": "oGf56SEfRcyN",
   "metadata": {
    "colab": {
     "base_uri": "https://localhost:8080/",
     "height": 191
    },
    "id": "oGf56SEfRcyN",
    "outputId": "76d9189d-1e1f-4de5-af3e-83395b58f78a"
   },
   "outputs": [
    {
     "data": {
      "text/html": [
       "<div>\n",
       "<style scoped>\n",
       "    .dataframe tbody tr th:only-of-type {\n",
       "        vertical-align: middle;\n",
       "    }\n",
       "\n",
       "    .dataframe tbody tr th {\n",
       "        vertical-align: top;\n",
       "    }\n",
       "\n",
       "    .dataframe thead th {\n",
       "        text-align: right;\n",
       "    }\n",
       "</style>\n",
       "<table border=\"1\" class=\"dataframe\">\n",
       "  <thead>\n",
       "    <tr style=\"text-align: right;\">\n",
       "      <th></th>\n",
       "      <th>Province/State</th>\n",
       "      <th>Country/Region</th>\n",
       "      <th>Lat</th>\n",
       "      <th>Long</th>\n",
       "      <th>1/22/20</th>\n",
       "      <th>1/23/20</th>\n",
       "      <th>1/24/20</th>\n",
       "      <th>1/25/20</th>\n",
       "      <th>1/26/20</th>\n",
       "      <th>1/27/20</th>\n",
       "      <th>...</th>\n",
       "      <th>12/4/20</th>\n",
       "      <th>12/5/20</th>\n",
       "      <th>12/6/20</th>\n",
       "      <th>12/7/20</th>\n",
       "      <th>12/8/20</th>\n",
       "      <th>12/9/20</th>\n",
       "      <th>12/10/20</th>\n",
       "      <th>12/11/20</th>\n",
       "      <th>12/12/20</th>\n",
       "      <th>12/13/20</th>\n",
       "    </tr>\n",
       "  </thead>\n",
       "  <tbody>\n",
       "    <tr>\n",
       "      <th>0</th>\n",
       "      <td>NaN</td>\n",
       "      <td>Afghanistan</td>\n",
       "      <td>33.93911</td>\n",
       "      <td>67.709953</td>\n",
       "      <td>0</td>\n",
       "      <td>0</td>\n",
       "      <td>0</td>\n",
       "      <td>0</td>\n",
       "      <td>0</td>\n",
       "      <td>0</td>\n",
       "      <td>...</td>\n",
       "      <td>46837</td>\n",
       "      <td>47072</td>\n",
       "      <td>47306</td>\n",
       "      <td>47516</td>\n",
       "      <td>47716</td>\n",
       "      <td>47851</td>\n",
       "      <td>48053</td>\n",
       "      <td>48116</td>\n",
       "      <td>48229</td>\n",
       "      <td>48527</td>\n",
       "    </tr>\n",
       "    <tr>\n",
       "      <th>1</th>\n",
       "      <td>NaN</td>\n",
       "      <td>Albania</td>\n",
       "      <td>41.15330</td>\n",
       "      <td>20.168300</td>\n",
       "      <td>0</td>\n",
       "      <td>0</td>\n",
       "      <td>0</td>\n",
       "      <td>0</td>\n",
       "      <td>0</td>\n",
       "      <td>0</td>\n",
       "      <td>...</td>\n",
       "      <td>41302</td>\n",
       "      <td>42148</td>\n",
       "      <td>42988</td>\n",
       "      <td>43683</td>\n",
       "      <td>44436</td>\n",
       "      <td>45188</td>\n",
       "      <td>46061</td>\n",
       "      <td>46863</td>\n",
       "      <td>47742</td>\n",
       "      <td>48530</td>\n",
       "    </tr>\n",
       "    <tr>\n",
       "      <th>2</th>\n",
       "      <td>NaN</td>\n",
       "      <td>Algeria</td>\n",
       "      <td>28.03390</td>\n",
       "      <td>1.659600</td>\n",
       "      <td>0</td>\n",
       "      <td>0</td>\n",
       "      <td>0</td>\n",
       "      <td>0</td>\n",
       "      <td>0</td>\n",
       "      <td>0</td>\n",
       "      <td>...</td>\n",
       "      <td>86730</td>\n",
       "      <td>87502</td>\n",
       "      <td>88252</td>\n",
       "      <td>88825</td>\n",
       "      <td>89416</td>\n",
       "      <td>90014</td>\n",
       "      <td>90579</td>\n",
       "      <td>91121</td>\n",
       "      <td>91638</td>\n",
       "      <td>92102</td>\n",
       "    </tr>\n",
       "  </tbody>\n",
       "</table>\n",
       "<p>3 rows × 331 columns</p>\n",
       "</div>"
      ],
      "text/plain": [
       "  Province/State Country/Region       Lat       Long  1/22/20  1/23/20  \\\n",
       "0            NaN    Afghanistan  33.93911  67.709953        0        0   \n",
       "1            NaN        Albania  41.15330  20.168300        0        0   \n",
       "2            NaN        Algeria  28.03390   1.659600        0        0   \n",
       "\n",
       "   1/24/20  1/25/20  1/26/20  1/27/20  ...  12/4/20  12/5/20  12/6/20  \\\n",
       "0        0        0        0        0  ...    46837    47072    47306   \n",
       "1        0        0        0        0  ...    41302    42148    42988   \n",
       "2        0        0        0        0  ...    86730    87502    88252   \n",
       "\n",
       "   12/7/20  12/8/20  12/9/20  12/10/20  12/11/20  12/12/20  12/13/20  \n",
       "0    47516    47716    47851     48053     48116     48229     48527  \n",
       "1    43683    44436    45188     46061     46863     47742     48530  \n",
       "2    88825    89416    90014     90579     91121     91638     92102  \n",
       "\n",
       "[3 rows x 331 columns]"
      ]
     },
     "execution_count": 8,
     "metadata": {},
     "output_type": "execute_result"
    }
   ],
   "source": [
    "df = pd.read_csv('sources/time_series_covid19_confirmed_global.csv')\n",
    "df.head(3)"
   ]
  },
  {
   "cell_type": "code",
   "execution_count": 9,
   "id": "978yjMOxNpwI",
   "metadata": {
    "colab": {
     "base_uri": "https://localhost:8080/"
    },
    "id": "978yjMOxNpwI",
    "outputId": "ae5c5134-34e8-4eb2-95e6-6628b262bac3"
   },
   "outputs": [
    {
     "data": {
      "text/plain": [
       "Province/State     object\n",
       "Country/Region     object\n",
       "Lat               float64\n",
       "Long              float64\n",
       "1/22/20             int64\n",
       "                   ...   \n",
       "12/9/20             int64\n",
       "12/10/20            int64\n",
       "12/11/20            int64\n",
       "12/12/20            int64\n",
       "12/13/20            int64\n",
       "Length: 331, dtype: object"
      ]
     },
     "execution_count": 9,
     "metadata": {},
     "output_type": "execute_result"
    }
   ],
   "source": [
    "df.dtypes"
   ]
  },
  {
   "cell_type": "markdown",
   "id": "EMLtWzXMKsSa",
   "metadata": {
    "id": "EMLtWzXMKsSa"
   },
   "source": [
    "## Transformar"
   ]
  },
  {
   "cell_type": "code",
   "execution_count": 10,
   "id": "TOqnaZI2K36P",
   "metadata": {
    "colab": {
     "base_uri": "https://localhost:8080/",
     "height": 204
    },
    "id": "TOqnaZI2K36P",
    "outputId": "96f863f6-3fff-4fa7-aae0-7b12b6c40f42"
   },
   "outputs": [
    {
     "data": {
      "text/html": [
       "<div>\n",
       "<style scoped>\n",
       "    .dataframe tbody tr th:only-of-type {\n",
       "        vertical-align: middle;\n",
       "    }\n",
       "\n",
       "    .dataframe tbody tr th {\n",
       "        vertical-align: top;\n",
       "    }\n",
       "\n",
       "    .dataframe thead th {\n",
       "        text-align: right;\n",
       "    }\n",
       "</style>\n",
       "<table border=\"1\" class=\"dataframe\">\n",
       "  <thead>\n",
       "    <tr style=\"text-align: right;\">\n",
       "      <th></th>\n",
       "      <th>Province/State</th>\n",
       "      <th>Country/Region</th>\n",
       "      <th>Lat</th>\n",
       "      <th>Long</th>\n",
       "      <th>date</th>\n",
       "      <th>cases</th>\n",
       "    </tr>\n",
       "  </thead>\n",
       "  <tbody>\n",
       "    <tr>\n",
       "      <th>0</th>\n",
       "      <td>NaN</td>\n",
       "      <td>Afghanistan</td>\n",
       "      <td>33.93911</td>\n",
       "      <td>67.709953</td>\n",
       "      <td>1/22/20</td>\n",
       "      <td>0</td>\n",
       "    </tr>\n",
       "    <tr>\n",
       "      <th>1</th>\n",
       "      <td>NaN</td>\n",
       "      <td>Albania</td>\n",
       "      <td>41.15330</td>\n",
       "      <td>20.168300</td>\n",
       "      <td>1/22/20</td>\n",
       "      <td>0</td>\n",
       "    </tr>\n",
       "    <tr>\n",
       "      <th>2</th>\n",
       "      <td>NaN</td>\n",
       "      <td>Algeria</td>\n",
       "      <td>28.03390</td>\n",
       "      <td>1.659600</td>\n",
       "      <td>1/22/20</td>\n",
       "      <td>0</td>\n",
       "    </tr>\n",
       "    <tr>\n",
       "      <th>3</th>\n",
       "      <td>NaN</td>\n",
       "      <td>Andorra</td>\n",
       "      <td>42.50630</td>\n",
       "      <td>1.521800</td>\n",
       "      <td>1/22/20</td>\n",
       "      <td>0</td>\n",
       "    </tr>\n",
       "    <tr>\n",
       "      <th>4</th>\n",
       "      <td>NaN</td>\n",
       "      <td>Angola</td>\n",
       "      <td>-11.20270</td>\n",
       "      <td>17.873900</td>\n",
       "      <td>1/22/20</td>\n",
       "      <td>0</td>\n",
       "    </tr>\n",
       "  </tbody>\n",
       "</table>\n",
       "</div>"
      ],
      "text/plain": [
       "  Province/State Country/Region       Lat       Long     date  cases\n",
       "0            NaN    Afghanistan  33.93911  67.709953  1/22/20      0\n",
       "1            NaN        Albania  41.15330  20.168300  1/22/20      0\n",
       "2            NaN        Algeria  28.03390   1.659600  1/22/20      0\n",
       "3            NaN        Andorra  42.50630   1.521800  1/22/20      0\n",
       "4            NaN         Angola -11.20270  17.873900  1/22/20      0"
      ]
     },
     "execution_count": 10,
     "metadata": {},
     "output_type": "execute_result"
    }
   ],
   "source": [
    "df = df.melt(id_vars=['Province/State', 'Country/Region', 'Lat', 'Long'],\n",
    "             var_name=[\"date\"],\n",
    "             value_name=\"cases\")\n",
    "df.head()"
   ]
  },
  {
   "cell_type": "code",
   "execution_count": 11,
   "id": "UV_VnjieTKqY",
   "metadata": {
    "colab": {
     "base_uri": "https://localhost:8080/",
     "height": 204
    },
    "id": "UV_VnjieTKqY",
    "outputId": "ff462668-08ca-43df-ccbd-138121be76a7"
   },
   "outputs": [
    {
     "data": {
      "text/html": [
       "<div>\n",
       "<style scoped>\n",
       "    .dataframe tbody tr th:only-of-type {\n",
       "        vertical-align: middle;\n",
       "    }\n",
       "\n",
       "    .dataframe tbody tr th {\n",
       "        vertical-align: top;\n",
       "    }\n",
       "\n",
       "    .dataframe thead th {\n",
       "        text-align: right;\n",
       "    }\n",
       "</style>\n",
       "<table border=\"1\" class=\"dataframe\">\n",
       "  <thead>\n",
       "    <tr style=\"text-align: right;\">\n",
       "      <th></th>\n",
       "      <th>Province/State</th>\n",
       "      <th>Country/Region</th>\n",
       "      <th>Lat</th>\n",
       "      <th>Long</th>\n",
       "      <th>date</th>\n",
       "      <th>cases</th>\n",
       "    </tr>\n",
       "  </thead>\n",
       "  <tbody>\n",
       "    <tr>\n",
       "      <th>0</th>\n",
       "      <td>NaN</td>\n",
       "      <td>Afghanistan</td>\n",
       "      <td>33.93911</td>\n",
       "      <td>67.709953</td>\n",
       "      <td>2020-01-22</td>\n",
       "      <td>0</td>\n",
       "    </tr>\n",
       "    <tr>\n",
       "      <th>1</th>\n",
       "      <td>NaN</td>\n",
       "      <td>Albania</td>\n",
       "      <td>41.15330</td>\n",
       "      <td>20.168300</td>\n",
       "      <td>2020-01-22</td>\n",
       "      <td>0</td>\n",
       "    </tr>\n",
       "    <tr>\n",
       "      <th>2</th>\n",
       "      <td>NaN</td>\n",
       "      <td>Algeria</td>\n",
       "      <td>28.03390</td>\n",
       "      <td>1.659600</td>\n",
       "      <td>2020-01-22</td>\n",
       "      <td>0</td>\n",
       "    </tr>\n",
       "    <tr>\n",
       "      <th>3</th>\n",
       "      <td>NaN</td>\n",
       "      <td>Andorra</td>\n",
       "      <td>42.50630</td>\n",
       "      <td>1.521800</td>\n",
       "      <td>2020-01-22</td>\n",
       "      <td>0</td>\n",
       "    </tr>\n",
       "    <tr>\n",
       "      <th>4</th>\n",
       "      <td>NaN</td>\n",
       "      <td>Angola</td>\n",
       "      <td>-11.20270</td>\n",
       "      <td>17.873900</td>\n",
       "      <td>2020-01-22</td>\n",
       "      <td>0</td>\n",
       "    </tr>\n",
       "  </tbody>\n",
       "</table>\n",
       "</div>"
      ],
      "text/plain": [
       "  Province/State Country/Region       Lat       Long       date  cases\n",
       "0            NaN    Afghanistan  33.93911  67.709953 2020-01-22      0\n",
       "1            NaN        Albania  41.15330  20.168300 2020-01-22      0\n",
       "2            NaN        Algeria  28.03390   1.659600 2020-01-22      0\n",
       "3            NaN        Andorra  42.50630   1.521800 2020-01-22      0\n",
       "4            NaN         Angola -11.20270  17.873900 2020-01-22      0"
      ]
     },
     "execution_count": 11,
     "metadata": {},
     "output_type": "execute_result"
    }
   ],
   "source": [
    "df['date'] =  pd.to_datetime(df['date'], format='%m/%d/%y')\n",
    "df.head()"
   ]
  },
  {
   "cell_type": "code",
   "execution_count": 12,
   "id": "XjE0y8luUIva",
   "metadata": {
    "colab": {
     "base_uri": "https://localhost:8080/"
    },
    "id": "XjE0y8luUIva",
    "outputId": "f35bff4b-7c46-4e39-b760-54531d868735"
   },
   "outputs": [
    {
     "data": {
      "text/plain": [
       "0        True\n",
       "1        True\n",
       "2        True\n",
       "3        True\n",
       "4        True\n",
       "         ... \n",
       "88612    True\n",
       "88613    True\n",
       "88614    True\n",
       "88615    True\n",
       "88616    True\n",
       "Name: Province/State, Length: 88617, dtype: bool"
      ]
     },
     "execution_count": 12,
     "metadata": {},
     "output_type": "execute_result"
    }
   ],
   "source": [
    "pd.isna(df[\"Province/State\"])"
   ]
  },
  {
   "cell_type": "code",
   "execution_count": 13,
   "id": "sapphire-victim",
   "metadata": {},
   "outputs": [],
   "source": [
    "df = df.astype(object).replace(np.nan, 'None')"
   ]
  },
  {
   "cell_type": "code",
   "execution_count": 14,
   "id": "ZdwF8JnnP2fQ",
   "metadata": {
    "id": "ZdwF8JnnP2fQ"
   },
   "outputs": [],
   "source": [
    "u = df.select_dtypes(object)\n",
    "df[u.columns] = u.apply(\n",
    "    lambda x: x.str.encode('ascii', 'ignore').str.decode('ascii'))"
   ]
  },
  {
   "cell_type": "markdown",
   "id": "3XhQPHz-KyoY",
   "metadata": {
    "id": "3XhQPHz-KyoY"
   },
   "source": [
    "## Load al engine"
   ]
  },
  {
   "cell_type": "code",
   "execution_count": 15,
   "id": "PnRh5HUgK3PK",
   "metadata": {
    "id": "PnRh5HUgK3PK"
   },
   "outputs": [
    {
     "name": "stdout",
     "output_type": "stream",
     "text": [
      "\n",
      "CREATE TABLE `test.time_series_covid19_confirmed_global` (\n",
      "\t`index` BIGINT, \n",
      "\t`Province/State` TEXT, \n",
      "\t`Country/Region` TEXT, \n",
      "\t`Lat` TEXT, \n",
      "\t`Long` TEXT, \n",
      "\tdate DATETIME, \n",
      "\tcases BIGINT\n",
      ")\n",
      "\n",
      "\n"
     ]
    },
    {
     "data": {
      "text/plain": [
       "str"
      ]
     },
     "execution_count": 15,
     "metadata": {},
     "output_type": "execute_result"
    }
   ],
   "source": [
    "create_table_query = pd.io.sql.get_schema(df.reset_index(), 'test.time_series_covid19_confirmed_global', con=engine)\n",
    "print(create_table_query)\n",
    "type(create_table_query)"
   ]
  },
  {
   "cell_type": "code",
   "execution_count": 16,
   "id": "4u7C41c0Lb-z",
   "metadata": {
    "id": "4u7C41c0Lb-z"
   },
   "outputs": [],
   "source": [
    "with open(\"schemas/time_series_covid19_confirmed_global.sql\", \"w\") as text_file:\n",
    "    text_file.write(create_table_query)"
   ]
  },
  {
   "cell_type": "code",
   "execution_count": 17,
   "id": "u4ZHRJO2Lnm0",
   "metadata": {
    "id": "u4ZHRJO2Lnm0"
   },
   "outputs": [
    {
     "name": "stdout",
     "output_type": "stream",
     "text": [
      "2021-02-04 06:48:22,729 INFO sqlalchemy.engine.base.OptionEngine DESCRIBE `test.time_series_covid19_confirmed_global`\n",
      "2021-02-04 06:48:22,731 INFO sqlalchemy.engine.base.OptionEngine {}\n",
      "2021-02-04 06:48:22,734 INFO sqlalchemy.engine.base.OptionEngine ROLLBACK\n",
      "test.time_series_covid19_confirmed_global no existe\n",
      "2021-02-04 06:48:22,865 INFO sqlalchemy.engine.base.Engine DESCRIBE `test`.`time_series_covid19_confirmed_global`\n",
      "2021-02-04 06:48:22,866 INFO sqlalchemy.engine.base.Engine {}\n",
      "2021-02-04 06:48:22,871 INFO sqlalchemy.engine.base.Engine ROLLBACK\n",
      "2021-02-04 06:48:22,881 INFO sqlalchemy.engine.base.Engine \n",
      "CREATE TABLE test.time_series_covid19_confirmed_global (\n",
      "\t`index` BIGINT, \n",
      "\t`Province/State` TEXT, \n",
      "\t`Country/Region` TEXT, \n",
      "\t`Lat` TEXT, \n",
      "\t`Long` TEXT, \n",
      "\tdate DATETIME, \n",
      "\tcases BIGINT\n",
      ")\n",
      "\n",
      "\n",
      "2021-02-04 06:48:22,883 INFO sqlalchemy.engine.base.Engine {}\n",
      "2021-02-04 06:48:23,074 INFO sqlalchemy.engine.base.Engine COMMIT\n",
      "2021-02-04 06:48:23,077 INFO sqlalchemy.engine.base.Engine CREATE INDEX ix_test_time_series_covid19_confirmed_global_index ON test.time_series_covid19_confirmed_global (`index`)\n",
      "2021-02-04 06:48:23,078 INFO sqlalchemy.engine.base.Engine {}\n",
      "2021-02-04 06:48:23,232 INFO sqlalchemy.engine.base.Engine COMMIT\n",
      "2021-02-04 06:48:23,603 INFO sqlalchemy.engine.base.Engine BEGIN (implicit)\n",
      "2021-02-04 06:48:26,766 INFO sqlalchemy.engine.base.Engine INSERT INTO test.time_series_covid19_confirmed_global (`index`, `Province/State`, `Country/Region`, `Lat`, `Long`, date, cases) VALUES (%(index)s, %(Province/State)s, %(Country/Region)s, %(Lat)s, %(Long)s, %(date)s, %(cases)s)\n",
      "2021-02-04 06:48:26,769 INFO sqlalchemy.engine.base.Engine ({'index': 0, 'Province/State': 'None', 'Country/Region': 'Afghanistan', 'Lat': None, 'Long': None, 'date': datetime.datetime(2020, 1, 22, 0, 0), 'cases': 0}, {'index': 1, 'Province/State': 'None', 'Country/Region': 'Albania', 'Lat': None, 'Long': None, 'date': datetime.datetime(2020, 1, 22, 0, 0), 'cases': 0}, {'index': 2, 'Province/State': 'None', 'Country/Region': 'Algeria', 'Lat': None, 'Long': None, 'date': datetime.datetime(2020, 1, 22, 0, 0), 'cases': 0}, {'index': 3, 'Province/State': 'None', 'Country/Region': 'Andorra', 'Lat': None, 'Long': None, 'date': datetime.datetime(2020, 1, 22, 0, 0), 'cases': 0}, {'index': 4, 'Province/State': 'None', 'Country/Region': 'Angola', 'Lat': None, 'Long': None, 'date': datetime.datetime(2020, 1, 22, 0, 0), 'cases': 0}, {'index': 5, 'Province/State': 'None', 'Country/Region': 'Antigua and Barbuda', 'Lat': None, 'Long': None, 'date': datetime.datetime(2020, 1, 22, 0, 0), 'cases': 0}, {'index': 6, 'Province/State': 'None', 'Country/Region': 'Argentina', 'Lat': None, 'Long': None, 'date': datetime.datetime(2020, 1, 22, 0, 0), 'cases': 0}, {'index': 7, 'Province/State': 'None', 'Country/Region': 'Armenia', 'Lat': None, 'Long': None, 'date': datetime.datetime(2020, 1, 22, 0, 0), 'cases': 0}  ... displaying 10 of 88617 total bound parameter sets ...  {'index': 88615, 'Province/State': 'None', 'Country/Region': 'Zambia', 'Lat': None, 'Long': None, 'date': datetime.datetime(2020, 12, 13, 0, 0), 'cases': 18274}, {'index': 88616, 'Province/State': 'None', 'Country/Region': 'Zimbabwe', 'Lat': None, 'Long': None, 'date': datetime.datetime(2020, 12, 13, 0, 0), 'cases': 11246})\n",
      "2021-02-04 06:48:44,458 INFO sqlalchemy.engine.base.Engine COMMIT\n"
     ]
    }
   ],
   "source": [
    "if not engine.dialect.has_table(engine, \"test.time_series_covid19_confirmed_global\"):  # If table don't exist, Create.\n",
    "    print(\"test.time_series_covid19_confirmed_global no existe\")\n",
    "    df.to_sql('time_series_covid19_confirmed_global', con=engine, schema=\"test\", if_exists='append')"
   ]
  },
  {
   "cell_type": "code",
   "execution_count": 18,
   "id": "FusrPo94Lt74",
   "metadata": {
    "id": "FusrPo94Lt74"
   },
   "outputs": [
    {
     "name": "stdout",
     "output_type": "stream",
     "text": [
      "2021-02-04 06:48:44,562 INFO sqlalchemy.engine.base.Engine BEGIN (implicit)\n",
      "2021-02-04 06:48:44,565 INFO sqlalchemy.engine.base.Engine DELETE FROM test.time_series_covid19_confirmed_global\n",
      "2021-02-04 06:48:44,567 INFO sqlalchemy.engine.base.Engine {}\n",
      "2021-02-04 06:48:44,905 INFO sqlalchemy.engine.base.Engine DESCRIBE `test`.`time_series_covid19_confirmed_global`\n",
      "2021-02-04 06:48:44,907 INFO sqlalchemy.engine.base.Engine {}\n",
      "2021-02-04 06:48:47,998 INFO sqlalchemy.engine.base.Engine INSERT INTO test.time_series_covid19_confirmed_global (`Province/State`, `Country/Region`, `Lat`, `Long`, date, cases) VALUES (%(Province/State)s, %(Country/Region)s, %(Lat)s, %(Long)s, %(date)s, %(cases)s)\n",
      "2021-02-04 06:48:48,004 INFO sqlalchemy.engine.base.Engine ({'Province/State': 'None', 'Country/Region': 'Afghanistan', 'Lat': None, 'Long': None, 'date': datetime.datetime(2020, 1, 22, 0, 0), 'cases': 0}, {'Province/State': 'None', 'Country/Region': 'Albania', 'Lat': None, 'Long': None, 'date': datetime.datetime(2020, 1, 22, 0, 0), 'cases': 0}, {'Province/State': 'None', 'Country/Region': 'Algeria', 'Lat': None, 'Long': None, 'date': datetime.datetime(2020, 1, 22, 0, 0), 'cases': 0}, {'Province/State': 'None', 'Country/Region': 'Andorra', 'Lat': None, 'Long': None, 'date': datetime.datetime(2020, 1, 22, 0, 0), 'cases': 0}, {'Province/State': 'None', 'Country/Region': 'Angola', 'Lat': None, 'Long': None, 'date': datetime.datetime(2020, 1, 22, 0, 0), 'cases': 0}, {'Province/State': 'None', 'Country/Region': 'Antigua and Barbuda', 'Lat': None, 'Long': None, 'date': datetime.datetime(2020, 1, 22, 0, 0), 'cases': 0}, {'Province/State': 'None', 'Country/Region': 'Argentina', 'Lat': None, 'Long': None, 'date': datetime.datetime(2020, 1, 22, 0, 0), 'cases': 0}, {'Province/State': 'None', 'Country/Region': 'Armenia', 'Lat': None, 'Long': None, 'date': datetime.datetime(2020, 1, 22, 0, 0), 'cases': 0}  ... displaying 10 of 88617 total bound parameter sets ...  {'Province/State': 'None', 'Country/Region': 'Zambia', 'Lat': None, 'Long': None, 'date': datetime.datetime(2020, 12, 13, 0, 0), 'cases': 18274}, {'Province/State': 'None', 'Country/Region': 'Zimbabwe', 'Lat': None, 'Long': None, 'date': datetime.datetime(2020, 12, 13, 0, 0), 'cases': 11246})\n",
      "2021-02-04 06:49:00,903 INFO sqlalchemy.engine.base.Engine COMMIT\n"
     ]
    }
   ],
   "source": [
    "with engine.begin() as transaction:\n",
    "    transaction.execute('DELETE FROM test.time_series_covid19_confirmed_global')\n",
    "    df.to_sql('time_series_covid19_confirmed_global', con=transaction, schema='test', if_exists='append', index=False)"
   ]
  }
 ],
 "metadata": {
  "colab": {
   "name": "3 time_series_covid19_confirmed_global.ipynb",
   "provenance": []
  },
  "kernelspec": {
   "display_name": "Python 3",
   "language": "python",
   "name": "python3"
  },
  "language_info": {
   "codemirror_mode": {
    "name": "ipython",
    "version": 3
   },
   "file_extension": ".py",
   "mimetype": "text/x-python",
   "name": "python",
   "nbconvert_exporter": "python",
   "pygments_lexer": "ipython3",
   "version": "3.8.6"
  }
 },
 "nbformat": 4,
 "nbformat_minor": 5
}
