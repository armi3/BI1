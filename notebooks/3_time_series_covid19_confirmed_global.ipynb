{
  "nbformat": 4,
  "nbformat_minor": 5,
  "metadata": {
    "kernelspec": {
      "display_name": "Python 3",
      "language": "python",
      "name": "python3"
    },
    "language_info": {
      "codemirror_mode": {
        "name": "ipython",
        "version": 3
      },
      "file_extension": ".py",
      "mimetype": "text/x-python",
      "name": "python",
      "nbconvert_exporter": "python",
      "pygments_lexer": "ipython3",
      "version": "3.8.6"
    },
    "colab": {
      "name": "3 time_series_covid19_confirmed_global.ipynb",
      "provenance": []
    }
  },
  "cells": [
    {
      "cell_type": "markdown",
      "metadata": {
        "id": "Y6wd-7IfHg-4"
      },
      "source": [
        "### Instalar librerías y reiniciar kernel."
      ],
      "id": "Y6wd-7IfHg-4"
    },
    {
      "cell_type": "code",
      "metadata": {
        "colab": {
          "base_uri": "https://localhost:8080/"
        },
        "id": "47mj6l5YHlFT",
        "outputId": "657eb8ab-f441-4a60-8d78-9e78c7d35055"
      },
      "source": [
        "pip install mysql-connector"
      ],
      "id": "47mj6l5YHlFT",
      "execution_count": 1,
      "outputs": [
        {
          "output_type": "stream",
          "text": [
            "Collecting mysql-connector\n",
            "\u001b[?25l  Downloading https://files.pythonhosted.org/packages/28/04/e40098f3730e75bbe36a338926f566ea803550a34fb50535499f4fc4787a/mysql-connector-2.2.9.tar.gz (11.9MB)\n",
            "\u001b[K     |████████████████████████████████| 11.9MB 7.2MB/s \n",
            "\u001b[?25hBuilding wheels for collected packages: mysql-connector\n",
            "  Building wheel for mysql-connector (setup.py) ... \u001b[?25l\u001b[?25hdone\n",
            "  Created wheel for mysql-connector: filename=mysql_connector-2.2.9-cp36-cp36m-linux_x86_64.whl size=247950 sha256=f28f51ddfc0b4ebea159638e8c298521abe3ce8a1cb8373b06d5b1c6345fbcab\n",
            "  Stored in directory: /root/.cache/pip/wheels/8c/83/a1/f8b6d4bb1bd6208bbde1608bbfa7557504bed9eaf2ecf8c175\n",
            "Successfully built mysql-connector\n",
            "Installing collected packages: mysql-connector\n",
            "Successfully installed mysql-connector-2.2.9\n"
          ],
          "name": "stdout"
        }
      ]
    },
    {
      "cell_type": "code",
      "metadata": {
        "colab": {
          "base_uri": "https://localhost:8080/"
        },
        "id": "x-kHLt0DHmEG",
        "outputId": "4e5dbb15-3b4d-42e7-bc97-71f5c5607c91"
      },
      "source": [
        "pip install pandas"
      ],
      "id": "x-kHLt0DHmEG",
      "execution_count": 2,
      "outputs": [
        {
          "output_type": "stream",
          "text": [
            "Requirement already satisfied: pandas in /usr/local/lib/python3.6/dist-packages (1.1.5)\n",
            "Requirement already satisfied: pytz>=2017.2 in /usr/local/lib/python3.6/dist-packages (from pandas) (2018.9)\n",
            "Requirement already satisfied: numpy>=1.15.4 in /usr/local/lib/python3.6/dist-packages (from pandas) (1.19.5)\n",
            "Requirement already satisfied: python-dateutil>=2.7.3 in /usr/local/lib/python3.6/dist-packages (from pandas) (2.8.1)\n",
            "Requirement already satisfied: six>=1.5 in /usr/local/lib/python3.6/dist-packages (from python-dateutil>=2.7.3->pandas) (1.15.0)\n"
          ],
          "name": "stdout"
        }
      ]
    },
    {
      "cell_type": "markdown",
      "metadata": {
        "id": "phKYfMfwImLT"
      },
      "source": [
        "### Importaciones"
      ],
      "id": "phKYfMfwImLT"
    },
    {
      "cell_type": "code",
      "metadata": {
        "id": "kNBCXZvvIovd"
      },
      "source": [
        "import pandas as pd\n",
        "from sqlalchemy import create_engine\n",
        "from sqlalchemy import inspect\n",
        "from sqlalchemy import *\n",
        "import json"
      ],
      "id": "kNBCXZvvIovd",
      "execution_count": 5,
      "outputs": []
    },
    {
      "cell_type": "markdown",
      "metadata": {
        "id": "A1xr5LeiIA-s"
      },
      "source": [
        "### Crear acceso a engine de mysql e inspeccionar."
      ],
      "id": "A1xr5LeiIA-s"
    },
    {
      "cell_type": "code",
      "metadata": {
        "id": "6NsxGlltIbLG"
      },
      "source": [
        "engine = create_engine('mysql+mysqlconnector://test:test123@db/test', echo = True)"
      ],
      "id": "6NsxGlltIbLG",
      "execution_count": null,
      "outputs": []
    },
    {
      "cell_type": "code",
      "metadata": {
        "id": "HA5jy_jMIulx"
      },
      "source": [
        "pd.read_sql(\"select current_date\", con=engine)"
      ],
      "id": "HA5jy_jMIulx",
      "execution_count": null,
      "outputs": []
    },
    {
      "cell_type": "code",
      "metadata": {
        "id": "mZSrAD97JEaE"
      },
      "source": [
        "inspector = inspect(engine)\n",
        "schemas = inspector.get_schema_names()\n",
        "\n",
        "for schema in schemas:\n",
        "    print(\"schema: %s\" % schema)\n",
        "    for table_name in inspector.get_table_names(schema=schema):\n",
        "        for column in inspector.get_columns(table_name, schema=schema):\n",
        "            print(\"Column: %s\" % column)"
      ],
      "id": "mZSrAD97JEaE",
      "execution_count": null,
      "outputs": []
    },
    {
      "cell_type": "code",
      "metadata": {
        "id": "r-bAYn23JJe2"
      },
      "source": [
        "print(engine.table_names())"
      ],
      "id": "r-bAYn23JJe2",
      "execution_count": null,
      "outputs": []
    },
    {
      "cell_type": "markdown",
      "metadata": {
        "id": "BEWXcOH5I1sk"
      },
      "source": [
        "# ETL 3"
      ],
      "id": "BEWXcOH5I1sk"
    },
    {
      "cell_type": "markdown",
      "metadata": {
        "id": "WDkPQlR4I9r7"
      },
      "source": [
        "## Extraer"
      ],
      "id": "WDkPQlR4I9r7"
    },
    {
      "cell_type": "code",
      "metadata": {
        "colab": {
          "base_uri": "https://localhost:8080/",
          "height": 191
        },
        "id": "oGf56SEfRcyN",
        "outputId": "76d9189d-1e1f-4de5-af3e-83395b58f78a"
      },
      "source": [
        "df = pd.read_csv('time_series_covid19_confirmed_global.csv')\n",
        "df.head(3)"
      ],
      "id": "oGf56SEfRcyN",
      "execution_count": 9,
      "outputs": [
        {
          "output_type": "execute_result",
          "data": {
            "text/html": [
              "<div>\n",
              "<style scoped>\n",
              "    .dataframe tbody tr th:only-of-type {\n",
              "        vertical-align: middle;\n",
              "    }\n",
              "\n",
              "    .dataframe tbody tr th {\n",
              "        vertical-align: top;\n",
              "    }\n",
              "\n",
              "    .dataframe thead th {\n",
              "        text-align: right;\n",
              "    }\n",
              "</style>\n",
              "<table border=\"1\" class=\"dataframe\">\n",
              "  <thead>\n",
              "    <tr style=\"text-align: right;\">\n",
              "      <th></th>\n",
              "      <th>Province/State</th>\n",
              "      <th>Country/Region</th>\n",
              "      <th>Lat</th>\n",
              "      <th>Long</th>\n",
              "      <th>1/22/20</th>\n",
              "      <th>1/23/20</th>\n",
              "      <th>1/24/20</th>\n",
              "      <th>1/25/20</th>\n",
              "      <th>1/26/20</th>\n",
              "      <th>1/27/20</th>\n",
              "      <th>1/28/20</th>\n",
              "      <th>1/29/20</th>\n",
              "      <th>1/30/20</th>\n",
              "      <th>1/31/20</th>\n",
              "      <th>2/1/20</th>\n",
              "      <th>2/2/20</th>\n",
              "      <th>2/3/20</th>\n",
              "      <th>2/4/20</th>\n",
              "      <th>2/5/20</th>\n",
              "      <th>2/6/20</th>\n",
              "      <th>2/7/20</th>\n",
              "      <th>2/8/20</th>\n",
              "      <th>2/9/20</th>\n",
              "      <th>2/10/20</th>\n",
              "      <th>2/11/20</th>\n",
              "      <th>2/12/20</th>\n",
              "      <th>2/13/20</th>\n",
              "      <th>2/14/20</th>\n",
              "      <th>2/15/20</th>\n",
              "      <th>2/16/20</th>\n",
              "      <th>2/17/20</th>\n",
              "      <th>2/18/20</th>\n",
              "      <th>2/19/20</th>\n",
              "      <th>2/20/20</th>\n",
              "      <th>2/21/20</th>\n",
              "      <th>2/22/20</th>\n",
              "      <th>2/23/20</th>\n",
              "      <th>2/24/20</th>\n",
              "      <th>2/25/20</th>\n",
              "      <th>2/26/20</th>\n",
              "      <th>...</th>\n",
              "      <th>11/4/20</th>\n",
              "      <th>11/5/20</th>\n",
              "      <th>11/6/20</th>\n",
              "      <th>11/7/20</th>\n",
              "      <th>11/8/20</th>\n",
              "      <th>11/9/20</th>\n",
              "      <th>11/10/20</th>\n",
              "      <th>11/11/20</th>\n",
              "      <th>11/12/20</th>\n",
              "      <th>11/13/20</th>\n",
              "      <th>11/14/20</th>\n",
              "      <th>11/15/20</th>\n",
              "      <th>11/16/20</th>\n",
              "      <th>11/17/20</th>\n",
              "      <th>11/18/20</th>\n",
              "      <th>11/19/20</th>\n",
              "      <th>11/20/20</th>\n",
              "      <th>11/21/20</th>\n",
              "      <th>11/22/20</th>\n",
              "      <th>11/23/20</th>\n",
              "      <th>11/24/20</th>\n",
              "      <th>11/25/20</th>\n",
              "      <th>11/26/20</th>\n",
              "      <th>11/27/20</th>\n",
              "      <th>11/28/20</th>\n",
              "      <th>11/29/20</th>\n",
              "      <th>11/30/20</th>\n",
              "      <th>12/1/20</th>\n",
              "      <th>12/2/20</th>\n",
              "      <th>12/3/20</th>\n",
              "      <th>12/4/20</th>\n",
              "      <th>12/5/20</th>\n",
              "      <th>12/6/20</th>\n",
              "      <th>12/7/20</th>\n",
              "      <th>12/8/20</th>\n",
              "      <th>12/9/20</th>\n",
              "      <th>12/10/20</th>\n",
              "      <th>12/11/20</th>\n",
              "      <th>12/12/20</th>\n",
              "      <th>12/13/20</th>\n",
              "    </tr>\n",
              "  </thead>\n",
              "  <tbody>\n",
              "    <tr>\n",
              "      <th>0</th>\n",
              "      <td>NaN</td>\n",
              "      <td>Afghanistan</td>\n",
              "      <td>33.93911</td>\n",
              "      <td>67.709953</td>\n",
              "      <td>0</td>\n",
              "      <td>0</td>\n",
              "      <td>0</td>\n",
              "      <td>0</td>\n",
              "      <td>0</td>\n",
              "      <td>0</td>\n",
              "      <td>0</td>\n",
              "      <td>0</td>\n",
              "      <td>0</td>\n",
              "      <td>0</td>\n",
              "      <td>0</td>\n",
              "      <td>0</td>\n",
              "      <td>0</td>\n",
              "      <td>0</td>\n",
              "      <td>0</td>\n",
              "      <td>0</td>\n",
              "      <td>0</td>\n",
              "      <td>0</td>\n",
              "      <td>0</td>\n",
              "      <td>0</td>\n",
              "      <td>0</td>\n",
              "      <td>0</td>\n",
              "      <td>0</td>\n",
              "      <td>0</td>\n",
              "      <td>0</td>\n",
              "      <td>0</td>\n",
              "      <td>0</td>\n",
              "      <td>0</td>\n",
              "      <td>0</td>\n",
              "      <td>0</td>\n",
              "      <td>0</td>\n",
              "      <td>0</td>\n",
              "      <td>0</td>\n",
              "      <td>1</td>\n",
              "      <td>1</td>\n",
              "      <td>1</td>\n",
              "      <td>...</td>\n",
              "      <td>41814</td>\n",
              "      <td>41935</td>\n",
              "      <td>41975</td>\n",
              "      <td>42033</td>\n",
              "      <td>42159</td>\n",
              "      <td>42297</td>\n",
              "      <td>42463</td>\n",
              "      <td>42609</td>\n",
              "      <td>42795</td>\n",
              "      <td>42969</td>\n",
              "      <td>43035</td>\n",
              "      <td>43240</td>\n",
              "      <td>43468</td>\n",
              "      <td>43681</td>\n",
              "      <td>43924</td>\n",
              "      <td>44177</td>\n",
              "      <td>44363</td>\n",
              "      <td>44503</td>\n",
              "      <td>44706</td>\n",
              "      <td>44988</td>\n",
              "      <td>45174</td>\n",
              "      <td>45384</td>\n",
              "      <td>45600</td>\n",
              "      <td>45723</td>\n",
              "      <td>45844</td>\n",
              "      <td>46116</td>\n",
              "      <td>46274</td>\n",
              "      <td>46516</td>\n",
              "      <td>46718</td>\n",
              "      <td>46837</td>\n",
              "      <td>46837</td>\n",
              "      <td>47072</td>\n",
              "      <td>47306</td>\n",
              "      <td>47516</td>\n",
              "      <td>47716</td>\n",
              "      <td>47851</td>\n",
              "      <td>48053</td>\n",
              "      <td>48116</td>\n",
              "      <td>48229</td>\n",
              "      <td>48527</td>\n",
              "    </tr>\n",
              "    <tr>\n",
              "      <th>1</th>\n",
              "      <td>NaN</td>\n",
              "      <td>Albania</td>\n",
              "      <td>41.15330</td>\n",
              "      <td>20.168300</td>\n",
              "      <td>0</td>\n",
              "      <td>0</td>\n",
              "      <td>0</td>\n",
              "      <td>0</td>\n",
              "      <td>0</td>\n",
              "      <td>0</td>\n",
              "      <td>0</td>\n",
              "      <td>0</td>\n",
              "      <td>0</td>\n",
              "      <td>0</td>\n",
              "      <td>0</td>\n",
              "      <td>0</td>\n",
              "      <td>0</td>\n",
              "      <td>0</td>\n",
              "      <td>0</td>\n",
              "      <td>0</td>\n",
              "      <td>0</td>\n",
              "      <td>0</td>\n",
              "      <td>0</td>\n",
              "      <td>0</td>\n",
              "      <td>0</td>\n",
              "      <td>0</td>\n",
              "      <td>0</td>\n",
              "      <td>0</td>\n",
              "      <td>0</td>\n",
              "      <td>0</td>\n",
              "      <td>0</td>\n",
              "      <td>0</td>\n",
              "      <td>0</td>\n",
              "      <td>0</td>\n",
              "      <td>0</td>\n",
              "      <td>0</td>\n",
              "      <td>0</td>\n",
              "      <td>0</td>\n",
              "      <td>0</td>\n",
              "      <td>0</td>\n",
              "      <td>...</td>\n",
              "      <td>22300</td>\n",
              "      <td>22721</td>\n",
              "      <td>23210</td>\n",
              "      <td>23705</td>\n",
              "      <td>24206</td>\n",
              "      <td>24731</td>\n",
              "      <td>25294</td>\n",
              "      <td>25801</td>\n",
              "      <td>26211</td>\n",
              "      <td>26701</td>\n",
              "      <td>27233</td>\n",
              "      <td>27830</td>\n",
              "      <td>28432</td>\n",
              "      <td>29126</td>\n",
              "      <td>29837</td>\n",
              "      <td>30623</td>\n",
              "      <td>31459</td>\n",
              "      <td>32196</td>\n",
              "      <td>32761</td>\n",
              "      <td>33556</td>\n",
              "      <td>34300</td>\n",
              "      <td>34944</td>\n",
              "      <td>35600</td>\n",
              "      <td>36245</td>\n",
              "      <td>36790</td>\n",
              "      <td>37625</td>\n",
              "      <td>38182</td>\n",
              "      <td>39014</td>\n",
              "      <td>39719</td>\n",
              "      <td>40501</td>\n",
              "      <td>41302</td>\n",
              "      <td>42148</td>\n",
              "      <td>42988</td>\n",
              "      <td>43683</td>\n",
              "      <td>44436</td>\n",
              "      <td>45188</td>\n",
              "      <td>46061</td>\n",
              "      <td>46863</td>\n",
              "      <td>47742</td>\n",
              "      <td>48530</td>\n",
              "    </tr>\n",
              "    <tr>\n",
              "      <th>2</th>\n",
              "      <td>NaN</td>\n",
              "      <td>Algeria</td>\n",
              "      <td>28.03390</td>\n",
              "      <td>1.659600</td>\n",
              "      <td>0</td>\n",
              "      <td>0</td>\n",
              "      <td>0</td>\n",
              "      <td>0</td>\n",
              "      <td>0</td>\n",
              "      <td>0</td>\n",
              "      <td>0</td>\n",
              "      <td>0</td>\n",
              "      <td>0</td>\n",
              "      <td>0</td>\n",
              "      <td>0</td>\n",
              "      <td>0</td>\n",
              "      <td>0</td>\n",
              "      <td>0</td>\n",
              "      <td>0</td>\n",
              "      <td>0</td>\n",
              "      <td>0</td>\n",
              "      <td>0</td>\n",
              "      <td>0</td>\n",
              "      <td>0</td>\n",
              "      <td>0</td>\n",
              "      <td>0</td>\n",
              "      <td>0</td>\n",
              "      <td>0</td>\n",
              "      <td>0</td>\n",
              "      <td>0</td>\n",
              "      <td>0</td>\n",
              "      <td>0</td>\n",
              "      <td>0</td>\n",
              "      <td>0</td>\n",
              "      <td>0</td>\n",
              "      <td>0</td>\n",
              "      <td>0</td>\n",
              "      <td>0</td>\n",
              "      <td>1</td>\n",
              "      <td>1</td>\n",
              "      <td>...</td>\n",
              "      <td>59527</td>\n",
              "      <td>60169</td>\n",
              "      <td>60800</td>\n",
              "      <td>61381</td>\n",
              "      <td>62051</td>\n",
              "      <td>62693</td>\n",
              "      <td>63446</td>\n",
              "      <td>64257</td>\n",
              "      <td>65108</td>\n",
              "      <td>65975</td>\n",
              "      <td>66819</td>\n",
              "      <td>67679</td>\n",
              "      <td>68589</td>\n",
              "      <td>69591</td>\n",
              "      <td>70629</td>\n",
              "      <td>71652</td>\n",
              "      <td>72755</td>\n",
              "      <td>73774</td>\n",
              "      <td>74862</td>\n",
              "      <td>75867</td>\n",
              "      <td>77000</td>\n",
              "      <td>78025</td>\n",
              "      <td>79110</td>\n",
              "      <td>80168</td>\n",
              "      <td>81212</td>\n",
              "      <td>82221</td>\n",
              "      <td>83199</td>\n",
              "      <td>84152</td>\n",
              "      <td>85084</td>\n",
              "      <td>85927</td>\n",
              "      <td>86730</td>\n",
              "      <td>87502</td>\n",
              "      <td>88252</td>\n",
              "      <td>88825</td>\n",
              "      <td>89416</td>\n",
              "      <td>90014</td>\n",
              "      <td>90579</td>\n",
              "      <td>91121</td>\n",
              "      <td>91638</td>\n",
              "      <td>92102</td>\n",
              "    </tr>\n",
              "  </tbody>\n",
              "</table>\n",
              "<p>3 rows × 331 columns</p>\n",
              "</div>"
            ],
            "text/plain": [
              "  Province/State Country/Region       Lat  ...  12/11/20  12/12/20  12/13/20\n",
              "0            NaN    Afghanistan  33.93911  ...     48116     48229     48527\n",
              "1            NaN        Albania  41.15330  ...     46863     47742     48530\n",
              "2            NaN        Algeria  28.03390  ...     91121     91638     92102\n",
              "\n",
              "[3 rows x 331 columns]"
            ]
          },
          "metadata": {
            "tags": []
          },
          "execution_count": 9
        }
      ]
    },
    {
      "cell_type": "code",
      "metadata": {
        "colab": {
          "base_uri": "https://localhost:8080/"
        },
        "id": "978yjMOxNpwI",
        "outputId": "ae5c5134-34e8-4eb2-95e6-6628b262bac3"
      },
      "source": [
        "df.dtypes"
      ],
      "id": "978yjMOxNpwI",
      "execution_count": 8,
      "outputs": [
        {
          "output_type": "execute_result",
          "data": {
            "text/plain": [
              "Province/State     object\n",
              "Country/Region     object\n",
              "Lat               float64\n",
              "Long              float64\n",
              "1/22/20             int64\n",
              "                   ...   \n",
              "12/9/20             int64\n",
              "12/10/20            int64\n",
              "12/11/20            int64\n",
              "12/12/20            int64\n",
              "12/13/20            int64\n",
              "Length: 331, dtype: object"
            ]
          },
          "metadata": {
            "tags": []
          },
          "execution_count": 8
        }
      ]
    },
    {
      "cell_type": "markdown",
      "metadata": {
        "id": "EMLtWzXMKsSa"
      },
      "source": [
        "## Transformar"
      ],
      "id": "EMLtWzXMKsSa"
    },
    {
      "cell_type": "code",
      "metadata": {
        "colab": {
          "base_uri": "https://localhost:8080/",
          "height": 204
        },
        "id": "TOqnaZI2K36P",
        "outputId": "96f863f6-3fff-4fa7-aae0-7b12b6c40f42"
      },
      "source": [
        "df = df.melt(id_vars=['Province/State', 'Country/Region', 'Lat', 'Long'],\n",
        "             var_name=[\"date\"],\n",
        "             value_name=\"cases\")\n",
        "df.head()"
      ],
      "id": "TOqnaZI2K36P",
      "execution_count": 10,
      "outputs": [
        {
          "output_type": "execute_result",
          "data": {
            "text/html": [
              "<div>\n",
              "<style scoped>\n",
              "    .dataframe tbody tr th:only-of-type {\n",
              "        vertical-align: middle;\n",
              "    }\n",
              "\n",
              "    .dataframe tbody tr th {\n",
              "        vertical-align: top;\n",
              "    }\n",
              "\n",
              "    .dataframe thead th {\n",
              "        text-align: right;\n",
              "    }\n",
              "</style>\n",
              "<table border=\"1\" class=\"dataframe\">\n",
              "  <thead>\n",
              "    <tr style=\"text-align: right;\">\n",
              "      <th></th>\n",
              "      <th>Province/State</th>\n",
              "      <th>Country/Region</th>\n",
              "      <th>Lat</th>\n",
              "      <th>Long</th>\n",
              "      <th>date</th>\n",
              "      <th>cases</th>\n",
              "    </tr>\n",
              "  </thead>\n",
              "  <tbody>\n",
              "    <tr>\n",
              "      <th>0</th>\n",
              "      <td>NaN</td>\n",
              "      <td>Afghanistan</td>\n",
              "      <td>33.93911</td>\n",
              "      <td>67.709953</td>\n",
              "      <td>1/22/20</td>\n",
              "      <td>0</td>\n",
              "    </tr>\n",
              "    <tr>\n",
              "      <th>1</th>\n",
              "      <td>NaN</td>\n",
              "      <td>Albania</td>\n",
              "      <td>41.15330</td>\n",
              "      <td>20.168300</td>\n",
              "      <td>1/22/20</td>\n",
              "      <td>0</td>\n",
              "    </tr>\n",
              "    <tr>\n",
              "      <th>2</th>\n",
              "      <td>NaN</td>\n",
              "      <td>Algeria</td>\n",
              "      <td>28.03390</td>\n",
              "      <td>1.659600</td>\n",
              "      <td>1/22/20</td>\n",
              "      <td>0</td>\n",
              "    </tr>\n",
              "    <tr>\n",
              "      <th>3</th>\n",
              "      <td>NaN</td>\n",
              "      <td>Andorra</td>\n",
              "      <td>42.50630</td>\n",
              "      <td>1.521800</td>\n",
              "      <td>1/22/20</td>\n",
              "      <td>0</td>\n",
              "    </tr>\n",
              "    <tr>\n",
              "      <th>4</th>\n",
              "      <td>NaN</td>\n",
              "      <td>Angola</td>\n",
              "      <td>-11.20270</td>\n",
              "      <td>17.873900</td>\n",
              "      <td>1/22/20</td>\n",
              "      <td>0</td>\n",
              "    </tr>\n",
              "  </tbody>\n",
              "</table>\n",
              "</div>"
            ],
            "text/plain": [
              "  Province/State Country/Region       Lat       Long     date  cases\n",
              "0            NaN    Afghanistan  33.93911  67.709953  1/22/20      0\n",
              "1            NaN        Albania  41.15330  20.168300  1/22/20      0\n",
              "2            NaN        Algeria  28.03390   1.659600  1/22/20      0\n",
              "3            NaN        Andorra  42.50630   1.521800  1/22/20      0\n",
              "4            NaN         Angola -11.20270  17.873900  1/22/20      0"
            ]
          },
          "metadata": {
            "tags": []
          },
          "execution_count": 10
        }
      ]
    },
    {
      "cell_type": "code",
      "metadata": {
        "colab": {
          "base_uri": "https://localhost:8080/",
          "height": 204
        },
        "id": "UV_VnjieTKqY",
        "outputId": "ff462668-08ca-43df-ccbd-138121be76a7"
      },
      "source": [
        "df['date'] =  pd.to_datetime(df['date'], format='%m/%d/%y')\n",
        "df.head()"
      ],
      "id": "UV_VnjieTKqY",
      "execution_count": 14,
      "outputs": [
        {
          "output_type": "execute_result",
          "data": {
            "text/html": [
              "<div>\n",
              "<style scoped>\n",
              "    .dataframe tbody tr th:only-of-type {\n",
              "        vertical-align: middle;\n",
              "    }\n",
              "\n",
              "    .dataframe tbody tr th {\n",
              "        vertical-align: top;\n",
              "    }\n",
              "\n",
              "    .dataframe thead th {\n",
              "        text-align: right;\n",
              "    }\n",
              "</style>\n",
              "<table border=\"1\" class=\"dataframe\">\n",
              "  <thead>\n",
              "    <tr style=\"text-align: right;\">\n",
              "      <th></th>\n",
              "      <th>Province/State</th>\n",
              "      <th>Country/Region</th>\n",
              "      <th>Lat</th>\n",
              "      <th>Long</th>\n",
              "      <th>date</th>\n",
              "      <th>cases</th>\n",
              "    </tr>\n",
              "  </thead>\n",
              "  <tbody>\n",
              "    <tr>\n",
              "      <th>0</th>\n",
              "      <td>NaN</td>\n",
              "      <td>Afghanistan</td>\n",
              "      <td>33.93911</td>\n",
              "      <td>67.709953</td>\n",
              "      <td>2020-01-22</td>\n",
              "      <td>0</td>\n",
              "    </tr>\n",
              "    <tr>\n",
              "      <th>1</th>\n",
              "      <td>NaN</td>\n",
              "      <td>Albania</td>\n",
              "      <td>41.15330</td>\n",
              "      <td>20.168300</td>\n",
              "      <td>2020-01-22</td>\n",
              "      <td>0</td>\n",
              "    </tr>\n",
              "    <tr>\n",
              "      <th>2</th>\n",
              "      <td>NaN</td>\n",
              "      <td>Algeria</td>\n",
              "      <td>28.03390</td>\n",
              "      <td>1.659600</td>\n",
              "      <td>2020-01-22</td>\n",
              "      <td>0</td>\n",
              "    </tr>\n",
              "    <tr>\n",
              "      <th>3</th>\n",
              "      <td>NaN</td>\n",
              "      <td>Andorra</td>\n",
              "      <td>42.50630</td>\n",
              "      <td>1.521800</td>\n",
              "      <td>2020-01-22</td>\n",
              "      <td>0</td>\n",
              "    </tr>\n",
              "    <tr>\n",
              "      <th>4</th>\n",
              "      <td>NaN</td>\n",
              "      <td>Angola</td>\n",
              "      <td>-11.20270</td>\n",
              "      <td>17.873900</td>\n",
              "      <td>2020-01-22</td>\n",
              "      <td>0</td>\n",
              "    </tr>\n",
              "  </tbody>\n",
              "</table>\n",
              "</div>"
            ],
            "text/plain": [
              "  Province/State Country/Region       Lat       Long       date  cases\n",
              "0            NaN    Afghanistan  33.93911  67.709953 2020-01-22      0\n",
              "1            NaN        Albania  41.15330  20.168300 2020-01-22      0\n",
              "2            NaN        Algeria  28.03390   1.659600 2020-01-22      0\n",
              "3            NaN        Andorra  42.50630   1.521800 2020-01-22      0\n",
              "4            NaN         Angola -11.20270  17.873900 2020-01-22      0"
            ]
          },
          "metadata": {
            "tags": []
          },
          "execution_count": 14
        }
      ]
    },
    {
      "cell_type": "code",
      "metadata": {
        "colab": {
          "base_uri": "https://localhost:8080/"
        },
        "id": "XjE0y8luUIva",
        "outputId": "f35bff4b-7c46-4e39-b760-54531d868735"
      },
      "source": [
        "pd.isna(df[\"Province/State\"])"
      ],
      "id": "XjE0y8luUIva",
      "execution_count": 15,
      "outputs": [
        {
          "output_type": "execute_result",
          "data": {
            "text/plain": [
              "0        True\n",
              "1        True\n",
              "2        True\n",
              "3        True\n",
              "4        True\n",
              "         ... \n",
              "88612    True\n",
              "88613    True\n",
              "88614    True\n",
              "88615    True\n",
              "88616    True\n",
              "Name: Province/State, Length: 88617, dtype: bool"
            ]
          },
          "metadata": {
            "tags": []
          },
          "execution_count": 15
        }
      ]
    },
    {
      "cell_type": "code",
      "metadata": {
        "id": "ZdwF8JnnP2fQ"
      },
      "source": [
        "u = df.select_dtypes(object)\n",
        "df[u.columns] = u.apply(\n",
        "    lambda x: x.str.encode('ascii', 'ignore').str.decode('ascii'))"
      ],
      "id": "ZdwF8JnnP2fQ",
      "execution_count": 16,
      "outputs": []
    },
    {
      "cell_type": "markdown",
      "metadata": {
        "id": "3XhQPHz-KyoY"
      },
      "source": [
        "## Load al engine"
      ],
      "id": "3XhQPHz-KyoY"
    },
    {
      "cell_type": "code",
      "metadata": {
        "id": "PnRh5HUgK3PK"
      },
      "source": [
        "create_table_query = pd.io.sql.get_schema(df.reset_index(), 'test.unconfirmed_transactions', con=engine)\n",
        "print(create_table_query)\n",
        "type(create_table_query)"
      ],
      "id": "PnRh5HUgK3PK",
      "execution_count": null,
      "outputs": []
    },
    {
      "cell_type": "code",
      "metadata": {
        "id": "4u7C41c0Lb-z"
      },
      "source": [
        "with open(\"unconfirmed_transactions.sql\", \"w\") as text_file:\n",
        "    text_file.write(create_table_query)"
      ],
      "id": "4u7C41c0Lb-z",
      "execution_count": null,
      "outputs": []
    },
    {
      "cell_type": "code",
      "metadata": {
        "id": "u4ZHRJO2Lnm0"
      },
      "source": [
        "if not engine.dialect.has_table(engine, \"test.unconfirmed_transactions\"):  # If table don't exist, Create.\n",
        "    print(\"test.unconfirmed_transactions no existe\")\n",
        "    df.to_sql('unconfirmed_transactions', con=engine, schema=\"test\", if_exists='append')"
      ],
      "id": "u4ZHRJO2Lnm0",
      "execution_count": null,
      "outputs": []
    },
    {
      "cell_type": "code",
      "metadata": {
        "id": "FusrPo94Lt74"
      },
      "source": [
        "with engine.begin() as transaction:\n",
        "    transaction.execute('DELETE FROM test.unconfirmed_transactions')\n",
        "    df.to_sql('unconfirmed_transactions', con=transaction, schema='test', if_exists='append', index=False)"
      ],
      "id": "FusrPo94Lt74",
      "execution_count": null,
      "outputs": []
    }
  ]
}